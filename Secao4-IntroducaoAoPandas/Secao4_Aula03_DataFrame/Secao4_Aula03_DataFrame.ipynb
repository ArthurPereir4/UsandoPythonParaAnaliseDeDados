{
 "cells": [
  {
   "cell_type": "markdown",
   "metadata": {},
   "source": [
    "# CURSO USANDO PYTHON PARA ANÁLISE DE DADOS"
   ]
  },
  {
   "cell_type": "markdown",
   "metadata": {},
   "source": [
    "https://www.udemy.com/usando-python-para-analise-de-dados"
   ]
  },
  {
   "cell_type": "markdown",
   "metadata": {},
   "source": [
    "Evaldo Wolkers"
   ]
  },
  {
   "cell_type": "markdown",
   "metadata": {},
   "source": [
    "## pandas"
   ]
  },
  {
   "cell_type": "markdown",
   "metadata": {},
   "source": [
    "### Introdução às estruturas de dados do pandas - DataFrame"
   ]
  },
  {
   "cell_type": "raw",
   "metadata": {},
   "source": [
    "Um DataFrame representa uma tabela de dados retangular e contém uma coleção ordenada de colunas, que podem ter valores de diferentes tipos de dados. Você pode comparar com uma planilha do Excel ou uma tabela de um banco de dados. Ele possui índice para as linhas e para as colunas. É comumente o objeto pandas mais utilizado."
   ]
  },
  {
   "cell_type": "raw",
   "metadata": {},
   "source": [
    "Existem diversas maneiras de construir um DataFrame, mas uma das mais comuns é através de um dicionário de listas de mesmo tamanho ou de arrays NumPy."
   ]
  },
  {
   "cell_type": "code",
   "execution_count": 1,
   "metadata": {},
   "outputs": [],
   "source": [
    "import pandas as pd"
   ]
  },
  {
   "cell_type": "code",
   "execution_count": 2,
   "metadata": {},
   "outputs": [],
   "source": [
    "dados = {'estado': ['Minas Gerais', 'Espírito Santo', 'Rio de Janeiro', 'São Paulo'], 'populacao_2000': [17891494, 3097232, 14391282, 37032403], 'populacao_2010': [19595309, 3512672, 15993583, 41252160]}"
   ]
  },
  {
   "cell_type": "code",
   "execution_count": 3,
   "metadata": {},
   "outputs": [],
   "source": [
    "frame = pd.DataFrame(dados)"
   ]
  },
  {
   "cell_type": "code",
   "execution_count": 4,
   "metadata": {},
   "outputs": [
    {
     "data": {
      "text/html": [
       "<div>\n",
       "<style scoped>\n",
       "    .dataframe tbody tr th:only-of-type {\n",
       "        vertical-align: middle;\n",
       "    }\n",
       "\n",
       "    .dataframe tbody tr th {\n",
       "        vertical-align: top;\n",
       "    }\n",
       "\n",
       "    .dataframe thead th {\n",
       "        text-align: right;\n",
       "    }\n",
       "</style>\n",
       "<table border=\"1\" class=\"dataframe\">\n",
       "  <thead>\n",
       "    <tr style=\"text-align: right;\">\n",
       "      <th></th>\n",
       "      <th>estado</th>\n",
       "      <th>populacao_2000</th>\n",
       "      <th>populacao_2010</th>\n",
       "    </tr>\n",
       "  </thead>\n",
       "  <tbody>\n",
       "    <tr>\n",
       "      <th>0</th>\n",
       "      <td>Minas Gerais</td>\n",
       "      <td>17891494</td>\n",
       "      <td>19595309</td>\n",
       "    </tr>\n",
       "    <tr>\n",
       "      <th>1</th>\n",
       "      <td>Espírito Santo</td>\n",
       "      <td>3097232</td>\n",
       "      <td>3512672</td>\n",
       "    </tr>\n",
       "    <tr>\n",
       "      <th>2</th>\n",
       "      <td>Rio de Janeiro</td>\n",
       "      <td>14391282</td>\n",
       "      <td>15993583</td>\n",
       "    </tr>\n",
       "    <tr>\n",
       "      <th>3</th>\n",
       "      <td>São Paulo</td>\n",
       "      <td>37032403</td>\n",
       "      <td>41252160</td>\n",
       "    </tr>\n",
       "  </tbody>\n",
       "</table>\n",
       "</div>"
      ],
      "text/plain": [
       "           estado  populacao_2000  populacao_2010\n",
       "0    Minas Gerais        17891494        19595309\n",
       "1  Espírito Santo         3097232         3512672\n",
       "2  Rio de Janeiro        14391282        15993583\n",
       "3       São Paulo        37032403        41252160"
      ]
     },
     "execution_count": 4,
     "metadata": {},
     "output_type": "execute_result"
    }
   ],
   "source": [
    "frame"
   ]
  },
  {
   "cell_type": "raw",
   "metadata": {},
   "source": [
    "É possível modificar a ordem de exibição das colunas através do parâmetro columns."
   ]
  },
  {
   "cell_type": "code",
   "execution_count": 5,
   "metadata": {},
   "outputs": [],
   "source": [
    "frame = pd.DataFrame(dados, columns=['populacao_2010', 'populacao_2000', 'estado'])"
   ]
  },
  {
   "cell_type": "code",
   "execution_count": 6,
   "metadata": {},
   "outputs": [
    {
     "data": {
      "text/html": [
       "<div>\n",
       "<style scoped>\n",
       "    .dataframe tbody tr th:only-of-type {\n",
       "        vertical-align: middle;\n",
       "    }\n",
       "\n",
       "    .dataframe tbody tr th {\n",
       "        vertical-align: top;\n",
       "    }\n",
       "\n",
       "    .dataframe thead th {\n",
       "        text-align: right;\n",
       "    }\n",
       "</style>\n",
       "<table border=\"1\" class=\"dataframe\">\n",
       "  <thead>\n",
       "    <tr style=\"text-align: right;\">\n",
       "      <th></th>\n",
       "      <th>populacao_2010</th>\n",
       "      <th>populacao_2000</th>\n",
       "      <th>estado</th>\n",
       "    </tr>\n",
       "  </thead>\n",
       "  <tbody>\n",
       "    <tr>\n",
       "      <th>0</th>\n",
       "      <td>19595309</td>\n",
       "      <td>17891494</td>\n",
       "      <td>Minas Gerais</td>\n",
       "    </tr>\n",
       "    <tr>\n",
       "      <th>1</th>\n",
       "      <td>3512672</td>\n",
       "      <td>3097232</td>\n",
       "      <td>Espírito Santo</td>\n",
       "    </tr>\n",
       "    <tr>\n",
       "      <th>2</th>\n",
       "      <td>15993583</td>\n",
       "      <td>14391282</td>\n",
       "      <td>Rio de Janeiro</td>\n",
       "    </tr>\n",
       "    <tr>\n",
       "      <th>3</th>\n",
       "      <td>41252160</td>\n",
       "      <td>37032403</td>\n",
       "      <td>São Paulo</td>\n",
       "    </tr>\n",
       "  </tbody>\n",
       "</table>\n",
       "</div>"
      ],
      "text/plain": [
       "   populacao_2010  populacao_2000          estado\n",
       "0        19595309        17891494    Minas Gerais\n",
       "1         3512672         3097232  Espírito Santo\n",
       "2        15993583        14391282  Rio de Janeiro\n",
       "3        41252160        37032403       São Paulo"
      ]
     },
     "execution_count": 6,
     "metadata": {},
     "output_type": "execute_result"
    }
   ],
   "source": [
    "frame"
   ]
  },
  {
   "cell_type": "raw",
   "metadata": {},
   "source": [
    "Se informarmos uma coluna inexistente, será exibido “valores ausentes” para esta coluna."
   ]
  },
  {
   "cell_type": "code",
   "execution_count": 7,
   "metadata": {},
   "outputs": [],
   "source": [
    "frame = pd.DataFrame(dados, columns=['estado', 'populacao_2000', 'populacao_2010', 'populacao_2019'])"
   ]
  },
  {
   "cell_type": "code",
   "execution_count": 8,
   "metadata": {},
   "outputs": [
    {
     "data": {
      "text/html": [
       "<div>\n",
       "<style scoped>\n",
       "    .dataframe tbody tr th:only-of-type {\n",
       "        vertical-align: middle;\n",
       "    }\n",
       "\n",
       "    .dataframe tbody tr th {\n",
       "        vertical-align: top;\n",
       "    }\n",
       "\n",
       "    .dataframe thead th {\n",
       "        text-align: right;\n",
       "    }\n",
       "</style>\n",
       "<table border=\"1\" class=\"dataframe\">\n",
       "  <thead>\n",
       "    <tr style=\"text-align: right;\">\n",
       "      <th></th>\n",
       "      <th>estado</th>\n",
       "      <th>populacao_2000</th>\n",
       "      <th>populacao_2010</th>\n",
       "      <th>populacao_2019</th>\n",
       "    </tr>\n",
       "  </thead>\n",
       "  <tbody>\n",
       "    <tr>\n",
       "      <th>0</th>\n",
       "      <td>Minas Gerais</td>\n",
       "      <td>17891494</td>\n",
       "      <td>19595309</td>\n",
       "      <td>NaN</td>\n",
       "    </tr>\n",
       "    <tr>\n",
       "      <th>1</th>\n",
       "      <td>Espírito Santo</td>\n",
       "      <td>3097232</td>\n",
       "      <td>3512672</td>\n",
       "      <td>NaN</td>\n",
       "    </tr>\n",
       "    <tr>\n",
       "      <th>2</th>\n",
       "      <td>Rio de Janeiro</td>\n",
       "      <td>14391282</td>\n",
       "      <td>15993583</td>\n",
       "      <td>NaN</td>\n",
       "    </tr>\n",
       "    <tr>\n",
       "      <th>3</th>\n",
       "      <td>São Paulo</td>\n",
       "      <td>37032403</td>\n",
       "      <td>41252160</td>\n",
       "      <td>NaN</td>\n",
       "    </tr>\n",
       "  </tbody>\n",
       "</table>\n",
       "</div>"
      ],
      "text/plain": [
       "           estado  populacao_2000  populacao_2010 populacao_2019\n",
       "0    Minas Gerais        17891494        19595309            NaN\n",
       "1  Espírito Santo         3097232         3512672            NaN\n",
       "2  Rio de Janeiro        14391282        15993583            NaN\n",
       "3       São Paulo        37032403        41252160            NaN"
      ]
     },
     "execution_count": 8,
     "metadata": {},
     "output_type": "execute_result"
    }
   ],
   "source": [
    "frame"
   ]
  },
  {
   "cell_type": "raw",
   "metadata": {},
   "source": [
    "Podemos alterar o valor de uma coluna por atribuição. Como exemplo vamos alterar o valor da coluna população_2019."
   ]
  },
  {
   "cell_type": "code",
   "execution_count": 9,
   "metadata": {},
   "outputs": [],
   "source": [
    "frame['populacao_2019'] = 123456789"
   ]
  },
  {
   "cell_type": "code",
   "execution_count": 10,
   "metadata": {},
   "outputs": [
    {
     "data": {
      "text/html": [
       "<div>\n",
       "<style scoped>\n",
       "    .dataframe tbody tr th:only-of-type {\n",
       "        vertical-align: middle;\n",
       "    }\n",
       "\n",
       "    .dataframe tbody tr th {\n",
       "        vertical-align: top;\n",
       "    }\n",
       "\n",
       "    .dataframe thead th {\n",
       "        text-align: right;\n",
       "    }\n",
       "</style>\n",
       "<table border=\"1\" class=\"dataframe\">\n",
       "  <thead>\n",
       "    <tr style=\"text-align: right;\">\n",
       "      <th></th>\n",
       "      <th>estado</th>\n",
       "      <th>populacao_2000</th>\n",
       "      <th>populacao_2010</th>\n",
       "      <th>populacao_2019</th>\n",
       "    </tr>\n",
       "  </thead>\n",
       "  <tbody>\n",
       "    <tr>\n",
       "      <th>0</th>\n",
       "      <td>Minas Gerais</td>\n",
       "      <td>17891494</td>\n",
       "      <td>19595309</td>\n",
       "      <td>123456789</td>\n",
       "    </tr>\n",
       "    <tr>\n",
       "      <th>1</th>\n",
       "      <td>Espírito Santo</td>\n",
       "      <td>3097232</td>\n",
       "      <td>3512672</td>\n",
       "      <td>123456789</td>\n",
       "    </tr>\n",
       "    <tr>\n",
       "      <th>2</th>\n",
       "      <td>Rio de Janeiro</td>\n",
       "      <td>14391282</td>\n",
       "      <td>15993583</td>\n",
       "      <td>123456789</td>\n",
       "    </tr>\n",
       "    <tr>\n",
       "      <th>3</th>\n",
       "      <td>São Paulo</td>\n",
       "      <td>37032403</td>\n",
       "      <td>41252160</td>\n",
       "      <td>123456789</td>\n",
       "    </tr>\n",
       "  </tbody>\n",
       "</table>\n",
       "</div>"
      ],
      "text/plain": [
       "           estado  populacao_2000  populacao_2010  populacao_2019\n",
       "0    Minas Gerais        17891494        19595309       123456789\n",
       "1  Espírito Santo         3097232         3512672       123456789\n",
       "2  Rio de Janeiro        14391282        15993583       123456789\n",
       "3       São Paulo        37032403        41252160       123456789"
      ]
     },
     "execution_count": 10,
     "metadata": {},
     "output_type": "execute_result"
    }
   ],
   "source": [
    "frame"
   ]
  },
  {
   "cell_type": "code",
   "execution_count": 11,
   "metadata": {},
   "outputs": [],
   "source": [
    "import numpy as np"
   ]
  },
  {
   "cell_type": "code",
   "execution_count": 12,
   "metadata": {},
   "outputs": [],
   "source": [
    "frame['populacao_2019'] = np.arange(4.)"
   ]
  },
  {
   "cell_type": "code",
   "execution_count": 13,
   "metadata": {},
   "outputs": [
    {
     "data": {
      "text/html": [
       "<div>\n",
       "<style scoped>\n",
       "    .dataframe tbody tr th:only-of-type {\n",
       "        vertical-align: middle;\n",
       "    }\n",
       "\n",
       "    .dataframe tbody tr th {\n",
       "        vertical-align: top;\n",
       "    }\n",
       "\n",
       "    .dataframe thead th {\n",
       "        text-align: right;\n",
       "    }\n",
       "</style>\n",
       "<table border=\"1\" class=\"dataframe\">\n",
       "  <thead>\n",
       "    <tr style=\"text-align: right;\">\n",
       "      <th></th>\n",
       "      <th>estado</th>\n",
       "      <th>populacao_2000</th>\n",
       "      <th>populacao_2010</th>\n",
       "      <th>populacao_2019</th>\n",
       "    </tr>\n",
       "  </thead>\n",
       "  <tbody>\n",
       "    <tr>\n",
       "      <th>0</th>\n",
       "      <td>Minas Gerais</td>\n",
       "      <td>17891494</td>\n",
       "      <td>19595309</td>\n",
       "      <td>0.0</td>\n",
       "    </tr>\n",
       "    <tr>\n",
       "      <th>1</th>\n",
       "      <td>Espírito Santo</td>\n",
       "      <td>3097232</td>\n",
       "      <td>3512672</td>\n",
       "      <td>1.0</td>\n",
       "    </tr>\n",
       "    <tr>\n",
       "      <th>2</th>\n",
       "      <td>Rio de Janeiro</td>\n",
       "      <td>14391282</td>\n",
       "      <td>15993583</td>\n",
       "      <td>2.0</td>\n",
       "    </tr>\n",
       "    <tr>\n",
       "      <th>3</th>\n",
       "      <td>São Paulo</td>\n",
       "      <td>37032403</td>\n",
       "      <td>41252160</td>\n",
       "      <td>3.0</td>\n",
       "    </tr>\n",
       "  </tbody>\n",
       "</table>\n",
       "</div>"
      ],
      "text/plain": [
       "           estado  populacao_2000  populacao_2010  populacao_2019\n",
       "0    Minas Gerais        17891494        19595309             0.0\n",
       "1  Espírito Santo         3097232         3512672             1.0\n",
       "2  Rio de Janeiro        14391282        15993583             2.0\n",
       "3       São Paulo        37032403        41252160             3.0"
      ]
     },
     "execution_count": 13,
     "metadata": {},
     "output_type": "execute_result"
    }
   ],
   "source": [
    "frame"
   ]
  },
  {
   "cell_type": "raw",
   "metadata": {},
   "source": [
    "Podemos obter dados de uma coluna do DataFrame usando uma notação do tipo dicionário ou por meio de atributo."
   ]
  },
  {
   "cell_type": "code",
   "execution_count": 14,
   "metadata": {},
   "outputs": [
    {
     "data": {
      "text/plain": [
       "0      Minas Gerais\n",
       "1    Espírito Santo\n",
       "2    Rio de Janeiro\n",
       "3         São Paulo\n",
       "Name: estado, dtype: object"
      ]
     },
     "execution_count": 14,
     "metadata": {},
     "output_type": "execute_result"
    }
   ],
   "source": [
    "frame['estado']"
   ]
  },
  {
   "cell_type": "code",
   "execution_count": 15,
   "metadata": {},
   "outputs": [
    {
     "data": {
      "text/plain": [
       "0      Minas Gerais\n",
       "1    Espírito Santo\n",
       "2    Rio de Janeiro\n",
       "3         São Paulo\n",
       "Name: estado, dtype: object"
      ]
     },
     "execution_count": 15,
     "metadata": {},
     "output_type": "execute_result"
    }
   ],
   "source": [
    "frame.estado"
   ]
  },
  {
   "cell_type": "raw",
   "metadata": {},
   "source": [
    "frame[‘estado’] funciona em qualquer caso, mas frame.estado somente funciona se o nome da coluna for um nome de variável aceita pelo Python."
   ]
  },
  {
   "cell_type": "raw",
   "metadata": {},
   "source": [
    "Podemos definir também os rótulos das linhas usando o index."
   ]
  },
  {
   "cell_type": "code",
   "execution_count": 16,
   "metadata": {},
   "outputs": [],
   "source": [
    "frame = pd.DataFrame(dados, columns=['estado', 'populacao_2000', 'populacao_2010'], index=['Um', 'Dois', 'Três', 'Quatro'])"
   ]
  },
  {
   "cell_type": "code",
   "execution_count": 17,
   "metadata": {},
   "outputs": [
    {
     "data": {
      "text/html": [
       "<div>\n",
       "<style scoped>\n",
       "    .dataframe tbody tr th:only-of-type {\n",
       "        vertical-align: middle;\n",
       "    }\n",
       "\n",
       "    .dataframe tbody tr th {\n",
       "        vertical-align: top;\n",
       "    }\n",
       "\n",
       "    .dataframe thead th {\n",
       "        text-align: right;\n",
       "    }\n",
       "</style>\n",
       "<table border=\"1\" class=\"dataframe\">\n",
       "  <thead>\n",
       "    <tr style=\"text-align: right;\">\n",
       "      <th></th>\n",
       "      <th>estado</th>\n",
       "      <th>populacao_2000</th>\n",
       "      <th>populacao_2010</th>\n",
       "    </tr>\n",
       "  </thead>\n",
       "  <tbody>\n",
       "    <tr>\n",
       "      <th>Um</th>\n",
       "      <td>Minas Gerais</td>\n",
       "      <td>17891494</td>\n",
       "      <td>19595309</td>\n",
       "    </tr>\n",
       "    <tr>\n",
       "      <th>Dois</th>\n",
       "      <td>Espírito Santo</td>\n",
       "      <td>3097232</td>\n",
       "      <td>3512672</td>\n",
       "    </tr>\n",
       "    <tr>\n",
       "      <th>Três</th>\n",
       "      <td>Rio de Janeiro</td>\n",
       "      <td>14391282</td>\n",
       "      <td>15993583</td>\n",
       "    </tr>\n",
       "    <tr>\n",
       "      <th>Quatro</th>\n",
       "      <td>São Paulo</td>\n",
       "      <td>37032403</td>\n",
       "      <td>41252160</td>\n",
       "    </tr>\n",
       "  </tbody>\n",
       "</table>\n",
       "</div>"
      ],
      "text/plain": [
       "                estado  populacao_2000  populacao_2010\n",
       "Um        Minas Gerais        17891494        19595309\n",
       "Dois    Espírito Santo         3097232         3512672\n",
       "Três    Rio de Janeiro        14391282        15993583\n",
       "Quatro       São Paulo        37032403        41252160"
      ]
     },
     "execution_count": 17,
     "metadata": {},
     "output_type": "execute_result"
    }
   ],
   "source": [
    "frame"
   ]
  },
  {
   "cell_type": "raw",
   "metadata": {},
   "source": [
    "Podemos obter uma linha do DataFrame através de seu nome, utilizando o atributo especial loc."
   ]
  },
  {
   "cell_type": "code",
   "execution_count": 18,
   "metadata": {},
   "outputs": [
    {
     "data": {
      "text/plain": [
       "estado            Rio de Janeiro\n",
       "populacao_2000          14391282\n",
       "populacao_2010          15993583\n",
       "Name: Três, dtype: object"
      ]
     },
     "execution_count": 18,
     "metadata": {},
     "output_type": "execute_result"
    }
   ],
   "source": [
    "frame.loc['Três']"
   ]
  },
  {
   "cell_type": "raw",
   "metadata": {},
   "source": [
    "Criando uma coluna nova no DataFrame utilizando uma Series. Quando atribuímos valores a uma coluna inexistente, a coluna é criada."
   ]
  },
  {
   "cell_type": "code",
   "execution_count": 19,
   "metadata": {},
   "outputs": [],
   "source": [
    "populacao_2015 = pd.Series([21054554, 3856987, 18658754, 45145698], index=['Um', 'Dois', 'Três', 'Quatro'])"
   ]
  },
  {
   "cell_type": "code",
   "execution_count": 20,
   "metadata": {},
   "outputs": [],
   "source": [
    "frame['populacao_2015'] = populacao_2015"
   ]
  },
  {
   "cell_type": "code",
   "execution_count": 21,
   "metadata": {},
   "outputs": [
    {
     "data": {
      "text/html": [
       "<div>\n",
       "<style scoped>\n",
       "    .dataframe tbody tr th:only-of-type {\n",
       "        vertical-align: middle;\n",
       "    }\n",
       "\n",
       "    .dataframe tbody tr th {\n",
       "        vertical-align: top;\n",
       "    }\n",
       "\n",
       "    .dataframe thead th {\n",
       "        text-align: right;\n",
       "    }\n",
       "</style>\n",
       "<table border=\"1\" class=\"dataframe\">\n",
       "  <thead>\n",
       "    <tr style=\"text-align: right;\">\n",
       "      <th></th>\n",
       "      <th>estado</th>\n",
       "      <th>populacao_2000</th>\n",
       "      <th>populacao_2010</th>\n",
       "      <th>populacao_2015</th>\n",
       "    </tr>\n",
       "  </thead>\n",
       "  <tbody>\n",
       "    <tr>\n",
       "      <th>Um</th>\n",
       "      <td>Minas Gerais</td>\n",
       "      <td>17891494</td>\n",
       "      <td>19595309</td>\n",
       "      <td>21054554</td>\n",
       "    </tr>\n",
       "    <tr>\n",
       "      <th>Dois</th>\n",
       "      <td>Espírito Santo</td>\n",
       "      <td>3097232</td>\n",
       "      <td>3512672</td>\n",
       "      <td>3856987</td>\n",
       "    </tr>\n",
       "    <tr>\n",
       "      <th>Três</th>\n",
       "      <td>Rio de Janeiro</td>\n",
       "      <td>14391282</td>\n",
       "      <td>15993583</td>\n",
       "      <td>18658754</td>\n",
       "    </tr>\n",
       "    <tr>\n",
       "      <th>Quatro</th>\n",
       "      <td>São Paulo</td>\n",
       "      <td>37032403</td>\n",
       "      <td>41252160</td>\n",
       "      <td>45145698</td>\n",
       "    </tr>\n",
       "  </tbody>\n",
       "</table>\n",
       "</div>"
      ],
      "text/plain": [
       "                estado  populacao_2000  populacao_2010  populacao_2015\n",
       "Um        Minas Gerais        17891494        19595309        21054554\n",
       "Dois    Espírito Santo         3097232         3512672         3856987\n",
       "Três    Rio de Janeiro        14391282        15993583        18658754\n",
       "Quatro       São Paulo        37032403        41252160        45145698"
      ]
     },
     "execution_count": 21,
     "metadata": {},
     "output_type": "execute_result"
    }
   ],
   "source": [
    "frame"
   ]
  },
  {
   "cell_type": "raw",
   "metadata": {},
   "source": [
    "Podemos apagar uma coluna do DataFrame utilizando “del”."
   ]
  },
  {
   "cell_type": "code",
   "execution_count": 22,
   "metadata": {},
   "outputs": [],
   "source": [
    "del frame['populacao_2015']"
   ]
  },
  {
   "cell_type": "code",
   "execution_count": 23,
   "metadata": {},
   "outputs": [
    {
     "data": {
      "text/html": [
       "<div>\n",
       "<style scoped>\n",
       "    .dataframe tbody tr th:only-of-type {\n",
       "        vertical-align: middle;\n",
       "    }\n",
       "\n",
       "    .dataframe tbody tr th {\n",
       "        vertical-align: top;\n",
       "    }\n",
       "\n",
       "    .dataframe thead th {\n",
       "        text-align: right;\n",
       "    }\n",
       "</style>\n",
       "<table border=\"1\" class=\"dataframe\">\n",
       "  <thead>\n",
       "    <tr style=\"text-align: right;\">\n",
       "      <th></th>\n",
       "      <th>estado</th>\n",
       "      <th>populacao_2000</th>\n",
       "      <th>populacao_2010</th>\n",
       "    </tr>\n",
       "  </thead>\n",
       "  <tbody>\n",
       "    <tr>\n",
       "      <th>Um</th>\n",
       "      <td>Minas Gerais</td>\n",
       "      <td>17891494</td>\n",
       "      <td>19595309</td>\n",
       "    </tr>\n",
       "    <tr>\n",
       "      <th>Dois</th>\n",
       "      <td>Espírito Santo</td>\n",
       "      <td>3097232</td>\n",
       "      <td>3512672</td>\n",
       "    </tr>\n",
       "    <tr>\n",
       "      <th>Três</th>\n",
       "      <td>Rio de Janeiro</td>\n",
       "      <td>14391282</td>\n",
       "      <td>15993583</td>\n",
       "    </tr>\n",
       "    <tr>\n",
       "      <th>Quatro</th>\n",
       "      <td>São Paulo</td>\n",
       "      <td>37032403</td>\n",
       "      <td>41252160</td>\n",
       "    </tr>\n",
       "  </tbody>\n",
       "</table>\n",
       "</div>"
      ],
      "text/plain": [
       "                estado  populacao_2000  populacao_2010\n",
       "Um        Minas Gerais        17891494        19595309\n",
       "Dois    Espírito Santo         3097232         3512672\n",
       "Três    Rio de Janeiro        14391282        15993583\n",
       "Quatro       São Paulo        37032403        41252160"
      ]
     },
     "execution_count": 23,
     "metadata": {},
     "output_type": "execute_result"
    }
   ],
   "source": [
    "frame"
   ]
  },
  {
   "cell_type": "raw",
   "metadata": {},
   "source": [
    "Se um dicionário aninhado for passado para o DataFrame, o pandas interpretará as chaves do dicionário mais externo como as colunas e as chaves mais internas como os índices das linhas."
   ]
  },
  {
   "cell_type": "code",
   "execution_count": 24,
   "metadata": {},
   "outputs": [],
   "source": [
    "populacao = {'Minas Gerais': {2000:17891494, 2010:19595309},'Espírito Santo': {2000:3097232, 2010:3512672},\n",
    "             'Rio de Janeiro': {2000:14391282, 2010:15993583},'Săo Paulo': {2000:37032403, 2010:41252160}}"
   ]
  },
  {
   "cell_type": "code",
   "execution_count": 25,
   "metadata": {},
   "outputs": [],
   "source": [
    "frame_populacao = pd.DataFrame(populacao)"
   ]
  },
  {
   "cell_type": "code",
   "execution_count": 26,
   "metadata": {},
   "outputs": [
    {
     "data": {
      "text/html": [
       "<div>\n",
       "<style scoped>\n",
       "    .dataframe tbody tr th:only-of-type {\n",
       "        vertical-align: middle;\n",
       "    }\n",
       "\n",
       "    .dataframe tbody tr th {\n",
       "        vertical-align: top;\n",
       "    }\n",
       "\n",
       "    .dataframe thead th {\n",
       "        text-align: right;\n",
       "    }\n",
       "</style>\n",
       "<table border=\"1\" class=\"dataframe\">\n",
       "  <thead>\n",
       "    <tr style=\"text-align: right;\">\n",
       "      <th></th>\n",
       "      <th>Minas Gerais</th>\n",
       "      <th>Espírito Santo</th>\n",
       "      <th>Rio de Janeiro</th>\n",
       "      <th>Săo Paulo</th>\n",
       "    </tr>\n",
       "  </thead>\n",
       "  <tbody>\n",
       "    <tr>\n",
       "      <th>2000</th>\n",
       "      <td>17891494</td>\n",
       "      <td>3097232</td>\n",
       "      <td>14391282</td>\n",
       "      <td>37032403</td>\n",
       "    </tr>\n",
       "    <tr>\n",
       "      <th>2010</th>\n",
       "      <td>19595309</td>\n",
       "      <td>3512672</td>\n",
       "      <td>15993583</td>\n",
       "      <td>41252160</td>\n",
       "    </tr>\n",
       "  </tbody>\n",
       "</table>\n",
       "</div>"
      ],
      "text/plain": [
       "      Minas Gerais  Espírito Santo  Rio de Janeiro  Săo Paulo\n",
       "2000      17891494         3097232        14391282   37032403\n",
       "2010      19595309         3512672        15993583   41252160"
      ]
     },
     "execution_count": 26,
     "metadata": {},
     "output_type": "execute_result"
    }
   ],
   "source": [
    "frame_populacao"
   ]
  },
  {
   "cell_type": "raw",
   "metadata": {},
   "source": [
    "Podemos também definir os atributos name para o índice e colunas."
   ]
  },
  {
   "cell_type": "code",
   "execution_count": 27,
   "metadata": {},
   "outputs": [],
   "source": [
    "frame_populacao.index.name = 'Ano'; frame_populacao.columns.name = 'Estado'"
   ]
  },
  {
   "cell_type": "code",
   "execution_count": 28,
   "metadata": {},
   "outputs": [
    {
     "data": {
      "text/html": [
       "<div>\n",
       "<style scoped>\n",
       "    .dataframe tbody tr th:only-of-type {\n",
       "        vertical-align: middle;\n",
       "    }\n",
       "\n",
       "    .dataframe tbody tr th {\n",
       "        vertical-align: top;\n",
       "    }\n",
       "\n",
       "    .dataframe thead th {\n",
       "        text-align: right;\n",
       "    }\n",
       "</style>\n",
       "<table border=\"1\" class=\"dataframe\">\n",
       "  <thead>\n",
       "    <tr style=\"text-align: right;\">\n",
       "      <th>Estado</th>\n",
       "      <th>Minas Gerais</th>\n",
       "      <th>Espírito Santo</th>\n",
       "      <th>Rio de Janeiro</th>\n",
       "      <th>Săo Paulo</th>\n",
       "    </tr>\n",
       "    <tr>\n",
       "      <th>Ano</th>\n",
       "      <th></th>\n",
       "      <th></th>\n",
       "      <th></th>\n",
       "      <th></th>\n",
       "    </tr>\n",
       "  </thead>\n",
       "  <tbody>\n",
       "    <tr>\n",
       "      <th>2000</th>\n",
       "      <td>17891494</td>\n",
       "      <td>3097232</td>\n",
       "      <td>14391282</td>\n",
       "      <td>37032403</td>\n",
       "    </tr>\n",
       "    <tr>\n",
       "      <th>2010</th>\n",
       "      <td>19595309</td>\n",
       "      <td>3512672</td>\n",
       "      <td>15993583</td>\n",
       "      <td>41252160</td>\n",
       "    </tr>\n",
       "  </tbody>\n",
       "</table>\n",
       "</div>"
      ],
      "text/plain": [
       "Estado  Minas Gerais  Espírito Santo  Rio de Janeiro  Săo Paulo\n",
       "Ano                                                            \n",
       "2000        17891494         3097232        14391282   37032403\n",
       "2010        19595309         3512672        15993583   41252160"
      ]
     },
     "execution_count": 28,
     "metadata": {},
     "output_type": "execute_result"
    }
   ],
   "source": [
    "frame_populacao"
   ]
  },
  {
   "cell_type": "raw",
   "metadata": {},
   "source": [
    "Podemos fazer a transposição do DataFrame com uma sintaxe semelhante àquela usada em um array NumPy."
   ]
  },
  {
   "cell_type": "code",
   "execution_count": 29,
   "metadata": {},
   "outputs": [
    {
     "data": {
      "text/html": [
       "<div>\n",
       "<style scoped>\n",
       "    .dataframe tbody tr th:only-of-type {\n",
       "        vertical-align: middle;\n",
       "    }\n",
       "\n",
       "    .dataframe tbody tr th {\n",
       "        vertical-align: top;\n",
       "    }\n",
       "\n",
       "    .dataframe thead th {\n",
       "        text-align: right;\n",
       "    }\n",
       "</style>\n",
       "<table border=\"1\" class=\"dataframe\">\n",
       "  <thead>\n",
       "    <tr style=\"text-align: right;\">\n",
       "      <th>Ano</th>\n",
       "      <th>2000</th>\n",
       "      <th>2010</th>\n",
       "    </tr>\n",
       "    <tr>\n",
       "      <th>Estado</th>\n",
       "      <th></th>\n",
       "      <th></th>\n",
       "    </tr>\n",
       "  </thead>\n",
       "  <tbody>\n",
       "    <tr>\n",
       "      <th>Minas Gerais</th>\n",
       "      <td>17891494</td>\n",
       "      <td>19595309</td>\n",
       "    </tr>\n",
       "    <tr>\n",
       "      <th>Espírito Santo</th>\n",
       "      <td>3097232</td>\n",
       "      <td>3512672</td>\n",
       "    </tr>\n",
       "    <tr>\n",
       "      <th>Rio de Janeiro</th>\n",
       "      <td>14391282</td>\n",
       "      <td>15993583</td>\n",
       "    </tr>\n",
       "    <tr>\n",
       "      <th>Săo Paulo</th>\n",
       "      <td>37032403</td>\n",
       "      <td>41252160</td>\n",
       "    </tr>\n",
       "  </tbody>\n",
       "</table>\n",
       "</div>"
      ],
      "text/plain": [
       "Ano                 2000      2010\n",
       "Estado                            \n",
       "Minas Gerais    17891494  19595309\n",
       "Espírito Santo   3097232   3512672\n",
       "Rio de Janeiro  14391282  15993583\n",
       "Săo Paulo       37032403  41252160"
      ]
     },
     "execution_count": 29,
     "metadata": {},
     "output_type": "execute_result"
    }
   ],
   "source": [
    "frame_populacao.T"
   ]
  },
  {
   "cell_type": "raw",
   "metadata": {},
   "source": [
    "Similar a Series, o atributo values devolve os dados contidos no DataFrame como um ndarray bidimensional."
   ]
  },
  {
   "cell_type": "code",
   "execution_count": 30,
   "metadata": {},
   "outputs": [
    {
     "data": {
      "text/plain": [
       "array([[17891494,  3097232, 14391282, 37032403],\n",
       "       [19595309,  3512672, 15993583, 41252160]], dtype=int64)"
      ]
     },
     "execution_count": 30,
     "metadata": {},
     "output_type": "execute_result"
    }
   ],
   "source": [
    "frame_populacao.values"
   ]
  },
  {
   "cell_type": "raw",
   "metadata": {},
   "source": [
    "Realizando algus cálculos simples"
   ]
  },
  {
   "cell_type": "code",
   "execution_count": 31,
   "metadata": {},
   "outputs": [],
   "source": [
    "frame = pd.DataFrame(dados, columns=['estado', 'populacao_2000', 'populacao_2010'], index=['Um', 'Dois', 'Três', 'Quatro'])"
   ]
  },
  {
   "cell_type": "code",
   "execution_count": 32,
   "metadata": {},
   "outputs": [
    {
     "data": {
      "text/html": [
       "<div>\n",
       "<style scoped>\n",
       "    .dataframe tbody tr th:only-of-type {\n",
       "        vertical-align: middle;\n",
       "    }\n",
       "\n",
       "    .dataframe tbody tr th {\n",
       "        vertical-align: top;\n",
       "    }\n",
       "\n",
       "    .dataframe thead th {\n",
       "        text-align: right;\n",
       "    }\n",
       "</style>\n",
       "<table border=\"1\" class=\"dataframe\">\n",
       "  <thead>\n",
       "    <tr style=\"text-align: right;\">\n",
       "      <th></th>\n",
       "      <th>estado</th>\n",
       "      <th>populacao_2000</th>\n",
       "      <th>populacao_2010</th>\n",
       "    </tr>\n",
       "  </thead>\n",
       "  <tbody>\n",
       "    <tr>\n",
       "      <th>Um</th>\n",
       "      <td>Minas Gerais</td>\n",
       "      <td>17891494</td>\n",
       "      <td>19595309</td>\n",
       "    </tr>\n",
       "    <tr>\n",
       "      <th>Dois</th>\n",
       "      <td>Espírito Santo</td>\n",
       "      <td>3097232</td>\n",
       "      <td>3512672</td>\n",
       "    </tr>\n",
       "    <tr>\n",
       "      <th>Três</th>\n",
       "      <td>Rio de Janeiro</td>\n",
       "      <td>14391282</td>\n",
       "      <td>15993583</td>\n",
       "    </tr>\n",
       "    <tr>\n",
       "      <th>Quatro</th>\n",
       "      <td>São Paulo</td>\n",
       "      <td>37032403</td>\n",
       "      <td>41252160</td>\n",
       "    </tr>\n",
       "  </tbody>\n",
       "</table>\n",
       "</div>"
      ],
      "text/plain": [
       "                estado  populacao_2000  populacao_2010\n",
       "Um        Minas Gerais        17891494        19595309\n",
       "Dois    Espírito Santo         3097232         3512672\n",
       "Três    Rio de Janeiro        14391282        15993583\n",
       "Quatro       São Paulo        37032403        41252160"
      ]
     },
     "execution_count": 32,
     "metadata": {},
     "output_type": "execute_result"
    }
   ],
   "source": [
    "frame"
   ]
  },
  {
   "cell_type": "code",
   "execution_count": 33,
   "metadata": {},
   "outputs": [],
   "source": [
    "frame['crescimento'] = frame['populacao_2010'] - frame['populacao_2000']"
   ]
  },
  {
   "cell_type": "code",
   "execution_count": 34,
   "metadata": {},
   "outputs": [
    {
     "data": {
      "text/html": [
       "<div>\n",
       "<style scoped>\n",
       "    .dataframe tbody tr th:only-of-type {\n",
       "        vertical-align: middle;\n",
       "    }\n",
       "\n",
       "    .dataframe tbody tr th {\n",
       "        vertical-align: top;\n",
       "    }\n",
       "\n",
       "    .dataframe thead th {\n",
       "        text-align: right;\n",
       "    }\n",
       "</style>\n",
       "<table border=\"1\" class=\"dataframe\">\n",
       "  <thead>\n",
       "    <tr style=\"text-align: right;\">\n",
       "      <th></th>\n",
       "      <th>estado</th>\n",
       "      <th>populacao_2000</th>\n",
       "      <th>populacao_2010</th>\n",
       "      <th>crescimento</th>\n",
       "    </tr>\n",
       "  </thead>\n",
       "  <tbody>\n",
       "    <tr>\n",
       "      <th>Um</th>\n",
       "      <td>Minas Gerais</td>\n",
       "      <td>17891494</td>\n",
       "      <td>19595309</td>\n",
       "      <td>1703815</td>\n",
       "    </tr>\n",
       "    <tr>\n",
       "      <th>Dois</th>\n",
       "      <td>Espírito Santo</td>\n",
       "      <td>3097232</td>\n",
       "      <td>3512672</td>\n",
       "      <td>415440</td>\n",
       "    </tr>\n",
       "    <tr>\n",
       "      <th>Três</th>\n",
       "      <td>Rio de Janeiro</td>\n",
       "      <td>14391282</td>\n",
       "      <td>15993583</td>\n",
       "      <td>1602301</td>\n",
       "    </tr>\n",
       "    <tr>\n",
       "      <th>Quatro</th>\n",
       "      <td>São Paulo</td>\n",
       "      <td>37032403</td>\n",
       "      <td>41252160</td>\n",
       "      <td>4219757</td>\n",
       "    </tr>\n",
       "  </tbody>\n",
       "</table>\n",
       "</div>"
      ],
      "text/plain": [
       "                estado  populacao_2000  populacao_2010  crescimento\n",
       "Um        Minas Gerais        17891494        19595309      1703815\n",
       "Dois    Espírito Santo         3097232         3512672       415440\n",
       "Três    Rio de Janeiro        14391282        15993583      1602301\n",
       "Quatro       São Paulo        37032403        41252160      4219757"
      ]
     },
     "execution_count": 34,
     "metadata": {},
     "output_type": "execute_result"
    }
   ],
   "source": [
    "frame"
   ]
  },
  {
   "cell_type": "code",
   "execution_count": 35,
   "metadata": {},
   "outputs": [
    {
     "data": {
      "text/plain": [
       "72412411"
      ]
     },
     "execution_count": 35,
     "metadata": {},
     "output_type": "execute_result"
    }
   ],
   "source": [
    "sum(frame['populacao_2000'])"
   ]
  },
  {
   "cell_type": "code",
   "execution_count": 36,
   "metadata": {},
   "outputs": [
    {
     "data": {
      "text/html": [
       "<div>\n",
       "<style scoped>\n",
       "    .dataframe tbody tr th:only-of-type {\n",
       "        vertical-align: middle;\n",
       "    }\n",
       "\n",
       "    .dataframe tbody tr th {\n",
       "        vertical-align: top;\n",
       "    }\n",
       "\n",
       "    .dataframe thead th {\n",
       "        text-align: right;\n",
       "    }\n",
       "</style>\n",
       "<table border=\"1\" class=\"dataframe\">\n",
       "  <thead>\n",
       "    <tr style=\"text-align: right;\">\n",
       "      <th></th>\n",
       "      <th>estado</th>\n",
       "      <th>populacao_2000</th>\n",
       "      <th>populacao_2010</th>\n",
       "      <th>crescimento</th>\n",
       "    </tr>\n",
       "  </thead>\n",
       "  <tbody>\n",
       "    <tr>\n",
       "      <th>Um</th>\n",
       "      <td>Minas Gerais</td>\n",
       "      <td>17891494</td>\n",
       "      <td>19595309</td>\n",
       "      <td>1703815</td>\n",
       "    </tr>\n",
       "    <tr>\n",
       "      <th>Dois</th>\n",
       "      <td>Espírito Santo</td>\n",
       "      <td>3097232</td>\n",
       "      <td>3512672</td>\n",
       "      <td>415440</td>\n",
       "    </tr>\n",
       "    <tr>\n",
       "      <th>Três</th>\n",
       "      <td>Rio de Janeiro</td>\n",
       "      <td>14391282</td>\n",
       "      <td>15993583</td>\n",
       "      <td>1602301</td>\n",
       "    </tr>\n",
       "    <tr>\n",
       "      <th>Quatro</th>\n",
       "      <td>São Paulo</td>\n",
       "      <td>37032403</td>\n",
       "      <td>41252160</td>\n",
       "      <td>4219757</td>\n",
       "    </tr>\n",
       "  </tbody>\n",
       "</table>\n",
       "</div>"
      ],
      "text/plain": [
       "                estado  populacao_2000  populacao_2010  crescimento\n",
       "Um        Minas Gerais        17891494        19595309      1703815\n",
       "Dois    Espírito Santo         3097232         3512672       415440\n",
       "Três    Rio de Janeiro        14391282        15993583      1602301\n",
       "Quatro       São Paulo        37032403        41252160      4219757"
      ]
     },
     "execution_count": 36,
     "metadata": {},
     "output_type": "execute_result"
    }
   ],
   "source": [
    "frame"
   ]
  },
  {
   "cell_type": "code",
   "execution_count": null,
   "metadata": {},
   "outputs": [],
   "source": []
  }
 ],
 "metadata": {
  "kernelspec": {
   "display_name": "Python 3",
   "language": "python",
   "name": "python3"
  },
  "language_info": {
   "codemirror_mode": {
    "name": "ipython",
    "version": 3
   },
   "file_extension": ".py",
   "mimetype": "text/x-python",
   "name": "python",
   "nbconvert_exporter": "python",
   "pygments_lexer": "ipython3",
   "version": "3.7.1"
  }
 },
 "nbformat": 4,
 "nbformat_minor": 2
}
