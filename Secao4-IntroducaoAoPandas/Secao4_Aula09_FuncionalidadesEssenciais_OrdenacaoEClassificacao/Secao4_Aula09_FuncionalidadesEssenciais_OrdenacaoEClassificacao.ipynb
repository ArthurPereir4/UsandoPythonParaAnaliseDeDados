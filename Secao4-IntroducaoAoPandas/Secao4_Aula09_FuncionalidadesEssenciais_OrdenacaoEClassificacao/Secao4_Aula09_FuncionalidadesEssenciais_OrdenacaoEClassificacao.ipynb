{
 "cells": [
  {
   "cell_type": "markdown",
   "metadata": {},
   "source": [
    "# CURSO USANDO PYTHON PARA ANÁLISE DE DADOS"
   ]
  },
  {
   "cell_type": "markdown",
   "metadata": {},
   "source": [
    "https://www.udemy.com/usando-python-para-analise-de-dados"
   ]
  },
  {
   "cell_type": "raw",
   "metadata": {},
   "source": [
    "Evaldo Wolkers"
   ]
  },
  {
   "cell_type": "markdown",
   "metadata": {},
   "source": [
    "## pandas"
   ]
  },
  {
   "cell_type": "markdown",
   "metadata": {},
   "source": [
    "### Funcionalidades Essenciais - Ordenação, classificação e índices de eixos com rótulos duplicados"
   ]
  },
  {
   "cell_type": "markdown",
   "metadata": {},
   "source": [
    "#### Ordenação"
   ]
  },
  {
   "cell_type": "raw",
   "metadata": {},
   "source": [
    "Podemos ordenar nossos conjuntos de dados pelas linhas ou pelas colunas usando o método sort_index(), que devolve um novo objeto ordenado."
   ]
  },
  {
   "cell_type": "code",
   "execution_count": 1,
   "metadata": {},
   "outputs": [],
   "source": [
    "import pandas as pd\n",
    "import numpy as np"
   ]
  },
  {
   "cell_type": "code",
   "execution_count": 2,
   "metadata": {},
   "outputs": [],
   "source": [
    "obj = pd.Series(range(5), index=['b','c','a','d','e'])"
   ]
  },
  {
   "cell_type": "code",
   "execution_count": 3,
   "metadata": {},
   "outputs": [
    {
     "data": {
      "text/plain": [
       "a    2\n",
       "b    0\n",
       "c    1\n",
       "d    3\n",
       "e    4\n",
       "dtype: int64"
      ]
     },
     "execution_count": 3,
     "metadata": {},
     "output_type": "execute_result"
    }
   ],
   "source": [
    "obj.sort_index()"
   ]
  },
  {
   "cell_type": "raw",
   "metadata": {},
   "source": [
    "Para ordenar de forma decrescente, podemos adicionar o parâmetro ascending informando False."
   ]
  },
  {
   "cell_type": "code",
   "execution_count": 4,
   "metadata": {},
   "outputs": [
    {
     "data": {
      "text/plain": [
       "e    4\n",
       "d    3\n",
       "c    1\n",
       "b    0\n",
       "a    2\n",
       "dtype: int64"
      ]
     },
     "execution_count": 4,
     "metadata": {},
     "output_type": "execute_result"
    }
   ],
   "source": [
    "obj.sort_index(ascending=False)"
   ]
  },
  {
   "cell_type": "raw",
   "metadata": {},
   "source": [
    "Vamos agora trabalhar com ordenação em um DataFrame."
   ]
  },
  {
   "cell_type": "code",
   "execution_count": 5,
   "metadata": {},
   "outputs": [],
   "source": [
    "frame = pd.DataFrame(np.random.randn(5,5), columns=list('baced'),\n",
    "                     index=['Brasil', 'Paraguai', 'Uruguai', \n",
    "                            'Colômbia', 'Venezuela'])"
   ]
  },
  {
   "cell_type": "code",
   "execution_count": 6,
   "metadata": {},
   "outputs": [
    {
     "data": {
      "text/html": [
       "<div>\n",
       "<style scoped>\n",
       "    .dataframe tbody tr th:only-of-type {\n",
       "        vertical-align: middle;\n",
       "    }\n",
       "\n",
       "    .dataframe tbody tr th {\n",
       "        vertical-align: top;\n",
       "    }\n",
       "\n",
       "    .dataframe thead th {\n",
       "        text-align: right;\n",
       "    }\n",
       "</style>\n",
       "<table border=\"1\" class=\"dataframe\">\n",
       "  <thead>\n",
       "    <tr style=\"text-align: right;\">\n",
       "      <th></th>\n",
       "      <th>b</th>\n",
       "      <th>a</th>\n",
       "      <th>c</th>\n",
       "      <th>e</th>\n",
       "      <th>d</th>\n",
       "    </tr>\n",
       "  </thead>\n",
       "  <tbody>\n",
       "    <tr>\n",
       "      <th>Brasil</th>\n",
       "      <td>-0.108368</td>\n",
       "      <td>0.012112</td>\n",
       "      <td>0.202211</td>\n",
       "      <td>0.592508</td>\n",
       "      <td>1.556034</td>\n",
       "    </tr>\n",
       "    <tr>\n",
       "      <th>Paraguai</th>\n",
       "      <td>0.196217</td>\n",
       "      <td>1.898640</td>\n",
       "      <td>1.240220</td>\n",
       "      <td>-0.777313</td>\n",
       "      <td>-0.136503</td>\n",
       "    </tr>\n",
       "    <tr>\n",
       "      <th>Uruguai</th>\n",
       "      <td>0.295139</td>\n",
       "      <td>-0.294798</td>\n",
       "      <td>-0.538094</td>\n",
       "      <td>1.446337</td>\n",
       "      <td>0.486112</td>\n",
       "    </tr>\n",
       "    <tr>\n",
       "      <th>Colômbia</th>\n",
       "      <td>-0.656628</td>\n",
       "      <td>-0.098071</td>\n",
       "      <td>-0.102335</td>\n",
       "      <td>-0.813913</td>\n",
       "      <td>0.826468</td>\n",
       "    </tr>\n",
       "    <tr>\n",
       "      <th>Venezuela</th>\n",
       "      <td>-0.506946</td>\n",
       "      <td>0.410218</td>\n",
       "      <td>1.297229</td>\n",
       "      <td>2.456446</td>\n",
       "      <td>-0.938509</td>\n",
       "    </tr>\n",
       "  </tbody>\n",
       "</table>\n",
       "</div>"
      ],
      "text/plain": [
       "                  b         a         c         e         d\n",
       "Brasil    -0.108368  0.012112  0.202211  0.592508  1.556034\n",
       "Paraguai   0.196217  1.898640  1.240220 -0.777313 -0.136503\n",
       "Uruguai    0.295139 -0.294798 -0.538094  1.446337  0.486112\n",
       "Colômbia  -0.656628 -0.098071 -0.102335 -0.813913  0.826468\n",
       "Venezuela -0.506946  0.410218  1.297229  2.456446 -0.938509"
      ]
     },
     "execution_count": 6,
     "metadata": {},
     "output_type": "execute_result"
    }
   ],
   "source": [
    "frame"
   ]
  },
  {
   "cell_type": "code",
   "execution_count": 7,
   "metadata": {
    "scrolled": true
   },
   "outputs": [
    {
     "data": {
      "text/html": [
       "<div>\n",
       "<style scoped>\n",
       "    .dataframe tbody tr th:only-of-type {\n",
       "        vertical-align: middle;\n",
       "    }\n",
       "\n",
       "    .dataframe tbody tr th {\n",
       "        vertical-align: top;\n",
       "    }\n",
       "\n",
       "    .dataframe thead th {\n",
       "        text-align: right;\n",
       "    }\n",
       "</style>\n",
       "<table border=\"1\" class=\"dataframe\">\n",
       "  <thead>\n",
       "    <tr style=\"text-align: right;\">\n",
       "      <th></th>\n",
       "      <th>b</th>\n",
       "      <th>a</th>\n",
       "      <th>c</th>\n",
       "      <th>e</th>\n",
       "      <th>d</th>\n",
       "    </tr>\n",
       "  </thead>\n",
       "  <tbody>\n",
       "    <tr>\n",
       "      <th>Brasil</th>\n",
       "      <td>-0.108368</td>\n",
       "      <td>0.012112</td>\n",
       "      <td>0.202211</td>\n",
       "      <td>0.592508</td>\n",
       "      <td>1.556034</td>\n",
       "    </tr>\n",
       "    <tr>\n",
       "      <th>Colômbia</th>\n",
       "      <td>-0.656628</td>\n",
       "      <td>-0.098071</td>\n",
       "      <td>-0.102335</td>\n",
       "      <td>-0.813913</td>\n",
       "      <td>0.826468</td>\n",
       "    </tr>\n",
       "    <tr>\n",
       "      <th>Paraguai</th>\n",
       "      <td>0.196217</td>\n",
       "      <td>1.898640</td>\n",
       "      <td>1.240220</td>\n",
       "      <td>-0.777313</td>\n",
       "      <td>-0.136503</td>\n",
       "    </tr>\n",
       "    <tr>\n",
       "      <th>Uruguai</th>\n",
       "      <td>0.295139</td>\n",
       "      <td>-0.294798</td>\n",
       "      <td>-0.538094</td>\n",
       "      <td>1.446337</td>\n",
       "      <td>0.486112</td>\n",
       "    </tr>\n",
       "    <tr>\n",
       "      <th>Venezuela</th>\n",
       "      <td>-0.506946</td>\n",
       "      <td>0.410218</td>\n",
       "      <td>1.297229</td>\n",
       "      <td>2.456446</td>\n",
       "      <td>-0.938509</td>\n",
       "    </tr>\n",
       "  </tbody>\n",
       "</table>\n",
       "</div>"
      ],
      "text/plain": [
       "                  b         a         c         e         d\n",
       "Brasil    -0.108368  0.012112  0.202211  0.592508  1.556034\n",
       "Colômbia  -0.656628 -0.098071 -0.102335 -0.813913  0.826468\n",
       "Paraguai   0.196217  1.898640  1.240220 -0.777313 -0.136503\n",
       "Uruguai    0.295139 -0.294798 -0.538094  1.446337  0.486112\n",
       "Venezuela -0.506946  0.410218  1.297229  2.456446 -0.938509"
      ]
     },
     "execution_count": 7,
     "metadata": {},
     "output_type": "execute_result"
    }
   ],
   "source": [
    "frame.sort_index()"
   ]
  },
  {
   "cell_type": "code",
   "execution_count": 8,
   "metadata": {
    "scrolled": true
   },
   "outputs": [
    {
     "data": {
      "text/html": [
       "<div>\n",
       "<style scoped>\n",
       "    .dataframe tbody tr th:only-of-type {\n",
       "        vertical-align: middle;\n",
       "    }\n",
       "\n",
       "    .dataframe tbody tr th {\n",
       "        vertical-align: top;\n",
       "    }\n",
       "\n",
       "    .dataframe thead th {\n",
       "        text-align: right;\n",
       "    }\n",
       "</style>\n",
       "<table border=\"1\" class=\"dataframe\">\n",
       "  <thead>\n",
       "    <tr style=\"text-align: right;\">\n",
       "      <th></th>\n",
       "      <th>b</th>\n",
       "      <th>a</th>\n",
       "      <th>c</th>\n",
       "      <th>e</th>\n",
       "      <th>d</th>\n",
       "    </tr>\n",
       "  </thead>\n",
       "  <tbody>\n",
       "    <tr>\n",
       "      <th>Venezuela</th>\n",
       "      <td>-0.506946</td>\n",
       "      <td>0.410218</td>\n",
       "      <td>1.297229</td>\n",
       "      <td>2.456446</td>\n",
       "      <td>-0.938509</td>\n",
       "    </tr>\n",
       "    <tr>\n",
       "      <th>Uruguai</th>\n",
       "      <td>0.295139</td>\n",
       "      <td>-0.294798</td>\n",
       "      <td>-0.538094</td>\n",
       "      <td>1.446337</td>\n",
       "      <td>0.486112</td>\n",
       "    </tr>\n",
       "    <tr>\n",
       "      <th>Paraguai</th>\n",
       "      <td>0.196217</td>\n",
       "      <td>1.898640</td>\n",
       "      <td>1.240220</td>\n",
       "      <td>-0.777313</td>\n",
       "      <td>-0.136503</td>\n",
       "    </tr>\n",
       "    <tr>\n",
       "      <th>Colômbia</th>\n",
       "      <td>-0.656628</td>\n",
       "      <td>-0.098071</td>\n",
       "      <td>-0.102335</td>\n",
       "      <td>-0.813913</td>\n",
       "      <td>0.826468</td>\n",
       "    </tr>\n",
       "    <tr>\n",
       "      <th>Brasil</th>\n",
       "      <td>-0.108368</td>\n",
       "      <td>0.012112</td>\n",
       "      <td>0.202211</td>\n",
       "      <td>0.592508</td>\n",
       "      <td>1.556034</td>\n",
       "    </tr>\n",
       "  </tbody>\n",
       "</table>\n",
       "</div>"
      ],
      "text/plain": [
       "                  b         a         c         e         d\n",
       "Venezuela -0.506946  0.410218  1.297229  2.456446 -0.938509\n",
       "Uruguai    0.295139 -0.294798 -0.538094  1.446337  0.486112\n",
       "Paraguai   0.196217  1.898640  1.240220 -0.777313 -0.136503\n",
       "Colômbia  -0.656628 -0.098071 -0.102335 -0.813913  0.826468\n",
       "Brasil    -0.108368  0.012112  0.202211  0.592508  1.556034"
      ]
     },
     "execution_count": 8,
     "metadata": {},
     "output_type": "execute_result"
    }
   ],
   "source": [
    "frame.sort_index(ascending=False)"
   ]
  },
  {
   "cell_type": "raw",
   "metadata": {},
   "source": [
    "Podemos usar o parâmetro axis para definir o eixo de ordenação."
   ]
  },
  {
   "cell_type": "code",
   "execution_count": 9,
   "metadata": {},
   "outputs": [
    {
     "data": {
      "text/html": [
       "<div>\n",
       "<style scoped>\n",
       "    .dataframe tbody tr th:only-of-type {\n",
       "        vertical-align: middle;\n",
       "    }\n",
       "\n",
       "    .dataframe tbody tr th {\n",
       "        vertical-align: top;\n",
       "    }\n",
       "\n",
       "    .dataframe thead th {\n",
       "        text-align: right;\n",
       "    }\n",
       "</style>\n",
       "<table border=\"1\" class=\"dataframe\">\n",
       "  <thead>\n",
       "    <tr style=\"text-align: right;\">\n",
       "      <th></th>\n",
       "      <th>b</th>\n",
       "      <th>a</th>\n",
       "      <th>c</th>\n",
       "      <th>e</th>\n",
       "      <th>d</th>\n",
       "    </tr>\n",
       "  </thead>\n",
       "  <tbody>\n",
       "    <tr>\n",
       "      <th>Brasil</th>\n",
       "      <td>-0.108368</td>\n",
       "      <td>0.012112</td>\n",
       "      <td>0.202211</td>\n",
       "      <td>0.592508</td>\n",
       "      <td>1.556034</td>\n",
       "    </tr>\n",
       "    <tr>\n",
       "      <th>Colômbia</th>\n",
       "      <td>-0.656628</td>\n",
       "      <td>-0.098071</td>\n",
       "      <td>-0.102335</td>\n",
       "      <td>-0.813913</td>\n",
       "      <td>0.826468</td>\n",
       "    </tr>\n",
       "    <tr>\n",
       "      <th>Paraguai</th>\n",
       "      <td>0.196217</td>\n",
       "      <td>1.898640</td>\n",
       "      <td>1.240220</td>\n",
       "      <td>-0.777313</td>\n",
       "      <td>-0.136503</td>\n",
       "    </tr>\n",
       "    <tr>\n",
       "      <th>Uruguai</th>\n",
       "      <td>0.295139</td>\n",
       "      <td>-0.294798</td>\n",
       "      <td>-0.538094</td>\n",
       "      <td>1.446337</td>\n",
       "      <td>0.486112</td>\n",
       "    </tr>\n",
       "    <tr>\n",
       "      <th>Venezuela</th>\n",
       "      <td>-0.506946</td>\n",
       "      <td>0.410218</td>\n",
       "      <td>1.297229</td>\n",
       "      <td>2.456446</td>\n",
       "      <td>-0.938509</td>\n",
       "    </tr>\n",
       "  </tbody>\n",
       "</table>\n",
       "</div>"
      ],
      "text/plain": [
       "                  b         a         c         e         d\n",
       "Brasil    -0.108368  0.012112  0.202211  0.592508  1.556034\n",
       "Colômbia  -0.656628 -0.098071 -0.102335 -0.813913  0.826468\n",
       "Paraguai   0.196217  1.898640  1.240220 -0.777313 -0.136503\n",
       "Uruguai    0.295139 -0.294798 -0.538094  1.446337  0.486112\n",
       "Venezuela -0.506946  0.410218  1.297229  2.456446 -0.938509"
      ]
     },
     "execution_count": 9,
     "metadata": {},
     "output_type": "execute_result"
    }
   ],
   "source": [
    "frame.sort_index(axis=0)"
   ]
  },
  {
   "cell_type": "code",
   "execution_count": 10,
   "metadata": {},
   "outputs": [
    {
     "data": {
      "text/html": [
       "<div>\n",
       "<style scoped>\n",
       "    .dataframe tbody tr th:only-of-type {\n",
       "        vertical-align: middle;\n",
       "    }\n",
       "\n",
       "    .dataframe tbody tr th {\n",
       "        vertical-align: top;\n",
       "    }\n",
       "\n",
       "    .dataframe thead th {\n",
       "        text-align: right;\n",
       "    }\n",
       "</style>\n",
       "<table border=\"1\" class=\"dataframe\">\n",
       "  <thead>\n",
       "    <tr style=\"text-align: right;\">\n",
       "      <th></th>\n",
       "      <th>a</th>\n",
       "      <th>b</th>\n",
       "      <th>c</th>\n",
       "      <th>d</th>\n",
       "      <th>e</th>\n",
       "    </tr>\n",
       "  </thead>\n",
       "  <tbody>\n",
       "    <tr>\n",
       "      <th>Brasil</th>\n",
       "      <td>0.012112</td>\n",
       "      <td>-0.108368</td>\n",
       "      <td>0.202211</td>\n",
       "      <td>1.556034</td>\n",
       "      <td>0.592508</td>\n",
       "    </tr>\n",
       "    <tr>\n",
       "      <th>Paraguai</th>\n",
       "      <td>1.898640</td>\n",
       "      <td>0.196217</td>\n",
       "      <td>1.240220</td>\n",
       "      <td>-0.136503</td>\n",
       "      <td>-0.777313</td>\n",
       "    </tr>\n",
       "    <tr>\n",
       "      <th>Uruguai</th>\n",
       "      <td>-0.294798</td>\n",
       "      <td>0.295139</td>\n",
       "      <td>-0.538094</td>\n",
       "      <td>0.486112</td>\n",
       "      <td>1.446337</td>\n",
       "    </tr>\n",
       "    <tr>\n",
       "      <th>Colômbia</th>\n",
       "      <td>-0.098071</td>\n",
       "      <td>-0.656628</td>\n",
       "      <td>-0.102335</td>\n",
       "      <td>0.826468</td>\n",
       "      <td>-0.813913</td>\n",
       "    </tr>\n",
       "    <tr>\n",
       "      <th>Venezuela</th>\n",
       "      <td>0.410218</td>\n",
       "      <td>-0.506946</td>\n",
       "      <td>1.297229</td>\n",
       "      <td>-0.938509</td>\n",
       "      <td>2.456446</td>\n",
       "    </tr>\n",
       "  </tbody>\n",
       "</table>\n",
       "</div>"
      ],
      "text/plain": [
       "                  a         b         c         d         e\n",
       "Brasil     0.012112 -0.108368  0.202211  1.556034  0.592508\n",
       "Paraguai   1.898640  0.196217  1.240220 -0.136503 -0.777313\n",
       "Uruguai   -0.294798  0.295139 -0.538094  0.486112  1.446337\n",
       "Colômbia  -0.098071 -0.656628 -0.102335  0.826468 -0.813913\n",
       "Venezuela  0.410218 -0.506946  1.297229 -0.938509  2.456446"
      ]
     },
     "execution_count": 10,
     "metadata": {},
     "output_type": "execute_result"
    }
   ],
   "source": [
    "frame.sort_index(axis=1)"
   ]
  },
  {
   "cell_type": "raw",
   "metadata": {},
   "source": [
    "Para ordenar uma Series de acordo com seus valores, utilizamos o método sort_values()."
   ]
  },
  {
   "cell_type": "code",
   "execution_count": 11,
   "metadata": {},
   "outputs": [],
   "source": [
    "obj = pd.Series([10, 58, 47, 36, 41, 12])"
   ]
  },
  {
   "cell_type": "code",
   "execution_count": 12,
   "metadata": {},
   "outputs": [
    {
     "data": {
      "text/plain": [
       "0    10\n",
       "5    12\n",
       "3    36\n",
       "4    41\n",
       "2    47\n",
       "1    58\n",
       "dtype: int64"
      ]
     },
     "execution_count": 12,
     "metadata": {},
     "output_type": "execute_result"
    }
   ],
   "source": [
    "obj.sort_values()"
   ]
  },
  {
   "cell_type": "raw",
   "metadata": {},
   "source": [
    "Por padrão, qualquer valor indicativo de ausência de dados será ordenado no final da Series."
   ]
  },
  {
   "cell_type": "code",
   "execution_count": 13,
   "metadata": {},
   "outputs": [],
   "source": [
    "obj = pd.Series([10, np.nan, 54, 7, -2, np.nan, -4])"
   ]
  },
  {
   "cell_type": "code",
   "execution_count": 14,
   "metadata": {},
   "outputs": [
    {
     "data": {
      "text/plain": [
       "0    10.0\n",
       "1     NaN\n",
       "2    54.0\n",
       "3     7.0\n",
       "4    -2.0\n",
       "5     NaN\n",
       "6    -4.0\n",
       "dtype: float64"
      ]
     },
     "execution_count": 14,
     "metadata": {},
     "output_type": "execute_result"
    }
   ],
   "source": [
    "obj"
   ]
  },
  {
   "cell_type": "code",
   "execution_count": 15,
   "metadata": {},
   "outputs": [
    {
     "data": {
      "text/plain": [
       "6    -4.0\n",
       "4    -2.0\n",
       "3     7.0\n",
       "0    10.0\n",
       "2    54.0\n",
       "1     NaN\n",
       "5     NaN\n",
       "dtype: float64"
      ]
     },
     "execution_count": 15,
     "metadata": {},
     "output_type": "execute_result"
    }
   ],
   "source": [
    "obj.sort_values()"
   ]
  },
  {
   "cell_type": "raw",
   "metadata": {},
   "source": [
    "Quanto ao DataFrame, podemos ordenar usando os dados de uma ou mais colunas, passando o nome das colunas como parâmetro para a opção by de sort_values. Assim: sort_values(by='coluna') ou sort_values(by=['coluna1', 'coluna2'])."
   ]
  },
  {
   "cell_type": "code",
   "execution_count": 16,
   "metadata": {},
   "outputs": [],
   "source": [
    "frame = pd.DataFrame(np.random.randn(5,5), columns=list('baced'),\n",
    "                     index=['Brasil', 'Paraguai', 'Uruguai', \n",
    "                            'Colômbia', 'Venezuela'])"
   ]
  },
  {
   "cell_type": "code",
   "execution_count": 17,
   "metadata": {},
   "outputs": [
    {
     "data": {
      "text/html": [
       "<div>\n",
       "<style scoped>\n",
       "    .dataframe tbody tr th:only-of-type {\n",
       "        vertical-align: middle;\n",
       "    }\n",
       "\n",
       "    .dataframe tbody tr th {\n",
       "        vertical-align: top;\n",
       "    }\n",
       "\n",
       "    .dataframe thead th {\n",
       "        text-align: right;\n",
       "    }\n",
       "</style>\n",
       "<table border=\"1\" class=\"dataframe\">\n",
       "  <thead>\n",
       "    <tr style=\"text-align: right;\">\n",
       "      <th></th>\n",
       "      <th>b</th>\n",
       "      <th>a</th>\n",
       "      <th>c</th>\n",
       "      <th>e</th>\n",
       "      <th>d</th>\n",
       "    </tr>\n",
       "  </thead>\n",
       "  <tbody>\n",
       "    <tr>\n",
       "      <th>Brasil</th>\n",
       "      <td>-1.076761</td>\n",
       "      <td>-0.471715</td>\n",
       "      <td>-1.011586</td>\n",
       "      <td>0.037291</td>\n",
       "      <td>1.283424</td>\n",
       "    </tr>\n",
       "    <tr>\n",
       "      <th>Paraguai</th>\n",
       "      <td>0.519823</td>\n",
       "      <td>-0.116198</td>\n",
       "      <td>-0.853835</td>\n",
       "      <td>1.209229</td>\n",
       "      <td>1.215419</td>\n",
       "    </tr>\n",
       "    <tr>\n",
       "      <th>Uruguai</th>\n",
       "      <td>0.380659</td>\n",
       "      <td>-1.007203</td>\n",
       "      <td>-0.910112</td>\n",
       "      <td>3.825631</td>\n",
       "      <td>-0.135420</td>\n",
       "    </tr>\n",
       "    <tr>\n",
       "      <th>Colômbia</th>\n",
       "      <td>0.003577</td>\n",
       "      <td>1.285373</td>\n",
       "      <td>0.695583</td>\n",
       "      <td>0.248743</td>\n",
       "      <td>-0.142981</td>\n",
       "    </tr>\n",
       "    <tr>\n",
       "      <th>Venezuela</th>\n",
       "      <td>-0.921838</td>\n",
       "      <td>0.527921</td>\n",
       "      <td>0.609900</td>\n",
       "      <td>0.227801</td>\n",
       "      <td>0.376140</td>\n",
       "    </tr>\n",
       "  </tbody>\n",
       "</table>\n",
       "</div>"
      ],
      "text/plain": [
       "                  b         a         c         e         d\n",
       "Brasil    -1.076761 -0.471715 -1.011586  0.037291  1.283424\n",
       "Paraguai   0.519823 -0.116198 -0.853835  1.209229  1.215419\n",
       "Uruguai    0.380659 -1.007203 -0.910112  3.825631 -0.135420\n",
       "Colômbia   0.003577  1.285373  0.695583  0.248743 -0.142981\n",
       "Venezuela -0.921838  0.527921  0.609900  0.227801  0.376140"
      ]
     },
     "execution_count": 17,
     "metadata": {},
     "output_type": "execute_result"
    }
   ],
   "source": [
    "frame"
   ]
  },
  {
   "cell_type": "code",
   "execution_count": 18,
   "metadata": {},
   "outputs": [
    {
     "data": {
      "text/html": [
       "<div>\n",
       "<style scoped>\n",
       "    .dataframe tbody tr th:only-of-type {\n",
       "        vertical-align: middle;\n",
       "    }\n",
       "\n",
       "    .dataframe tbody tr th {\n",
       "        vertical-align: top;\n",
       "    }\n",
       "\n",
       "    .dataframe thead th {\n",
       "        text-align: right;\n",
       "    }\n",
       "</style>\n",
       "<table border=\"1\" class=\"dataframe\">\n",
       "  <thead>\n",
       "    <tr style=\"text-align: right;\">\n",
       "      <th></th>\n",
       "      <th>b</th>\n",
       "      <th>a</th>\n",
       "      <th>c</th>\n",
       "      <th>e</th>\n",
       "      <th>d</th>\n",
       "    </tr>\n",
       "  </thead>\n",
       "  <tbody>\n",
       "    <tr>\n",
       "      <th>Brasil</th>\n",
       "      <td>-1.076761</td>\n",
       "      <td>-0.471715</td>\n",
       "      <td>-1.011586</td>\n",
       "      <td>0.037291</td>\n",
       "      <td>1.283424</td>\n",
       "    </tr>\n",
       "    <tr>\n",
       "      <th>Uruguai</th>\n",
       "      <td>0.380659</td>\n",
       "      <td>-1.007203</td>\n",
       "      <td>-0.910112</td>\n",
       "      <td>3.825631</td>\n",
       "      <td>-0.135420</td>\n",
       "    </tr>\n",
       "    <tr>\n",
       "      <th>Paraguai</th>\n",
       "      <td>0.519823</td>\n",
       "      <td>-0.116198</td>\n",
       "      <td>-0.853835</td>\n",
       "      <td>1.209229</td>\n",
       "      <td>1.215419</td>\n",
       "    </tr>\n",
       "    <tr>\n",
       "      <th>Venezuela</th>\n",
       "      <td>-0.921838</td>\n",
       "      <td>0.527921</td>\n",
       "      <td>0.609900</td>\n",
       "      <td>0.227801</td>\n",
       "      <td>0.376140</td>\n",
       "    </tr>\n",
       "    <tr>\n",
       "      <th>Colômbia</th>\n",
       "      <td>0.003577</td>\n",
       "      <td>1.285373</td>\n",
       "      <td>0.695583</td>\n",
       "      <td>0.248743</td>\n",
       "      <td>-0.142981</td>\n",
       "    </tr>\n",
       "  </tbody>\n",
       "</table>\n",
       "</div>"
      ],
      "text/plain": [
       "                  b         a         c         e         d\n",
       "Brasil    -1.076761 -0.471715 -1.011586  0.037291  1.283424\n",
       "Uruguai    0.380659 -1.007203 -0.910112  3.825631 -0.135420\n",
       "Paraguai   0.519823 -0.116198 -0.853835  1.209229  1.215419\n",
       "Venezuela -0.921838  0.527921  0.609900  0.227801  0.376140\n",
       "Colômbia   0.003577  1.285373  0.695583  0.248743 -0.142981"
      ]
     },
     "execution_count": 18,
     "metadata": {},
     "output_type": "execute_result"
    }
   ],
   "source": [
    "frame.sort_values(by='c')"
   ]
  },
  {
   "cell_type": "code",
   "execution_count": 19,
   "metadata": {},
   "outputs": [
    {
     "data": {
      "text/html": [
       "<div>\n",
       "<style scoped>\n",
       "    .dataframe tbody tr th:only-of-type {\n",
       "        vertical-align: middle;\n",
       "    }\n",
       "\n",
       "    .dataframe tbody tr th {\n",
       "        vertical-align: top;\n",
       "    }\n",
       "\n",
       "    .dataframe thead th {\n",
       "        text-align: right;\n",
       "    }\n",
       "</style>\n",
       "<table border=\"1\" class=\"dataframe\">\n",
       "  <thead>\n",
       "    <tr style=\"text-align: right;\">\n",
       "      <th></th>\n",
       "      <th>b</th>\n",
       "      <th>a</th>\n",
       "      <th>c</th>\n",
       "      <th>e</th>\n",
       "      <th>d</th>\n",
       "    </tr>\n",
       "  </thead>\n",
       "  <tbody>\n",
       "    <tr>\n",
       "      <th>Uruguai</th>\n",
       "      <td>0.380659</td>\n",
       "      <td>-1.007203</td>\n",
       "      <td>-0.910112</td>\n",
       "      <td>3.825631</td>\n",
       "      <td>-0.135420</td>\n",
       "    </tr>\n",
       "    <tr>\n",
       "      <th>Brasil</th>\n",
       "      <td>-1.076761</td>\n",
       "      <td>-0.471715</td>\n",
       "      <td>-1.011586</td>\n",
       "      <td>0.037291</td>\n",
       "      <td>1.283424</td>\n",
       "    </tr>\n",
       "    <tr>\n",
       "      <th>Paraguai</th>\n",
       "      <td>0.519823</td>\n",
       "      <td>-0.116198</td>\n",
       "      <td>-0.853835</td>\n",
       "      <td>1.209229</td>\n",
       "      <td>1.215419</td>\n",
       "    </tr>\n",
       "    <tr>\n",
       "      <th>Venezuela</th>\n",
       "      <td>-0.921838</td>\n",
       "      <td>0.527921</td>\n",
       "      <td>0.609900</td>\n",
       "      <td>0.227801</td>\n",
       "      <td>0.376140</td>\n",
       "    </tr>\n",
       "    <tr>\n",
       "      <th>Colômbia</th>\n",
       "      <td>0.003577</td>\n",
       "      <td>1.285373</td>\n",
       "      <td>0.695583</td>\n",
       "      <td>0.248743</td>\n",
       "      <td>-0.142981</td>\n",
       "    </tr>\n",
       "  </tbody>\n",
       "</table>\n",
       "</div>"
      ],
      "text/plain": [
       "                  b         a         c         e         d\n",
       "Uruguai    0.380659 -1.007203 -0.910112  3.825631 -0.135420\n",
       "Brasil    -1.076761 -0.471715 -1.011586  0.037291  1.283424\n",
       "Paraguai   0.519823 -0.116198 -0.853835  1.209229  1.215419\n",
       "Venezuela -0.921838  0.527921  0.609900  0.227801  0.376140\n",
       "Colômbia   0.003577  1.285373  0.695583  0.248743 -0.142981"
      ]
     },
     "execution_count": 19,
     "metadata": {},
     "output_type": "execute_result"
    }
   ],
   "source": [
    "frame.sort_values(by=['a','b'])"
   ]
  },
  {
   "cell_type": "markdown",
   "metadata": {},
   "source": [
    "#### Classificação"
   ]
  },
  {
   "cell_type": "raw",
   "metadata": {},
   "source": [
    "A classificação (rank) atribui posições iniciando em 1, indo até o número de pontos de dados válidos em um array. Por padrão, rank() resolve empates atribuindo a cada grupo a classificação média."
   ]
  },
  {
   "cell_type": "code",
   "execution_count": 20,
   "metadata": {},
   "outputs": [],
   "source": [
    "obj = pd.Series([7, -5, 7, 4, 2, 0, 4])"
   ]
  },
  {
   "cell_type": "code",
   "execution_count": 21,
   "metadata": {},
   "outputs": [
    {
     "data": {
      "text/plain": [
       "0    7\n",
       "1   -5\n",
       "2    7\n",
       "3    4\n",
       "4    2\n",
       "5    0\n",
       "6    4\n",
       "dtype: int64"
      ]
     },
     "execution_count": 21,
     "metadata": {},
     "output_type": "execute_result"
    }
   ],
   "source": [
    "obj"
   ]
  },
  {
   "cell_type": "code",
   "execution_count": 22,
   "metadata": {},
   "outputs": [
    {
     "data": {
      "text/plain": [
       "0    6.5\n",
       "1    1.0\n",
       "2    6.5\n",
       "3    4.5\n",
       "4    3.0\n",
       "5    2.0\n",
       "6    4.5\n",
       "dtype: float64"
      ]
     },
     "execution_count": 22,
     "metadata": {},
     "output_type": "execute_result"
    }
   ],
   "source": [
    "obj.rank()"
   ]
  },
  {
   "cell_type": "raw",
   "metadata": {},
   "source": [
    "Podemos classificar de acordo com a ordem em que os dados são observados. Neste caso, em vez de usar a classificação média 4.5 para as entradas 3 e 6, elas foram definidas com 4 e 5, porque o rótulo 3 antecede ao 6."
   ]
  },
  {
   "cell_type": "code",
   "execution_count": 23,
   "metadata": {},
   "outputs": [
    {
     "data": {
      "text/plain": [
       "0    6.0\n",
       "1    1.0\n",
       "2    7.0\n",
       "3    4.0\n",
       "4    3.0\n",
       "5    2.0\n",
       "6    5.0\n",
       "dtype: float64"
      ]
     },
     "execution_count": 23,
     "metadata": {},
     "output_type": "execute_result"
    }
   ],
   "source": [
    "obj.rank(method='first')"
   ]
  },
  {
   "cell_type": "raw",
   "metadata": {},
   "source": [
    "Podemos classificar de forma decrescente informando ascending=False."
   ]
  },
  {
   "cell_type": "code",
   "execution_count": 24,
   "metadata": {},
   "outputs": [],
   "source": [
    "obj = pd.Series([0, 1, 2, 3, 4, 5, 6])"
   ]
  },
  {
   "cell_type": "code",
   "execution_count": 25,
   "metadata": {},
   "outputs": [
    {
     "data": {
      "text/plain": [
       "0    7.0\n",
       "1    6.0\n",
       "2    5.0\n",
       "3    4.0\n",
       "4    3.0\n",
       "5    2.0\n",
       "6    1.0\n",
       "dtype: float64"
      ]
     },
     "execution_count": 25,
     "metadata": {},
     "output_type": "execute_result"
    }
   ],
   "source": [
    "obj.rank(ascending=False)"
   ]
  }
 ],
 "metadata": {
  "kernelspec": {
   "display_name": "Python 3",
   "language": "python",
   "name": "python3"
  },
  "language_info": {
   "codemirror_mode": {
    "name": "ipython",
    "version": 3
   },
   "file_extension": ".py",
   "mimetype": "text/x-python",
   "name": "python",
   "nbconvert_exporter": "python",
   "pygments_lexer": "ipython3",
   "version": "3.7.3"
  }
 },
 "nbformat": 4,
 "nbformat_minor": 2
}
