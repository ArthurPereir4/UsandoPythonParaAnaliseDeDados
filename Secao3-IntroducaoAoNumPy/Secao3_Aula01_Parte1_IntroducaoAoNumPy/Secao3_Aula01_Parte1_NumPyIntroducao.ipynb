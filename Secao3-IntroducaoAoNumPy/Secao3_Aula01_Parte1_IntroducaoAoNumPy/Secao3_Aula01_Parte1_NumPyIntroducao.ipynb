{
 "cells": [
  {
   "cell_type": "markdown",
   "metadata": {},
   "source": [
    "# NumPy - Introdução"
   ]
  },
  {
   "cell_type": "markdown",
   "metadata": {},
   "source": [
    "## O que é o NumPy"
   ]
  },
  {
   "cell_type": "markdown",
   "metadata": {},
   "source": [
    "O NumPy, abreviatura de Numerical Python (Python numérico), é um dos pacotes básicos mais importantes para processamento numérico em Python. A maioria dos pacotes de processamento com funcionalidades científicas utiliza objetos array do NumPy para troca de dados.<br>\n",
    "Veja alguns recursos que você encontrará no NumPy:<br>\n",
    "* Ndarray: Um array multidimensional eficaz que oferece operações matemáticas rápidas, orientadas a arrays, e recursos flexíveis de broadcasting.<br>\n",
    "* Funções matemáticas para operações rápidas em arrays de dados inteiros, sem que seja necessário escrever laços.<br>\n",
    "* Ferramentas para ler/escrever dados de array em disco e trabalhar com arquivos mapeados em memória.<br>\n",
    "* Recursos para álgebra linear, geração de números aleatórios e transformadas de Fourier.<br>\n",
    "* Uma API C para conectar o NumPy a bibliotecas escritas em C, C++ ou FORTRAN.<br>"
   ]
  },
  {
   "cell_type": "markdown",
   "metadata": {},
   "source": [
    "## Array NumPy - ndarray"
   ]
  },
  {
   "attachments": {},
   "cell_type": "markdown",
   "metadata": {},
   "source": [
    "Um dos principais recursos do NumPy é seu objeto array N-dimensional, ou ndarray, que é um contêiner rápido e flexível para conjuntos de dados grandes em Python.<br>\n",
    "Um ndarray é um contêiner genérico multidimensional para dados homogêneos. Isso significa que todos os elementos devem ser do mesmo tipo."
   ]
  },
  {
   "cell_type": "markdown",
   "metadata": {},
   "source": [
    "![Vetor](img/vetor.png)\n",
    "\n",
    "\n",
    "Um vetor (array uni-dimensional) é uma variável que armazena vários valores do mesmo tipo. Para acessar um dos valores usamos o índice, começando por zero:<br>\n",
    "a = x[1]<br>\n",
    "Neste caso o valor de “a” é 20.\n"
   ]
  },
  {
   "cell_type": "code",
   "execution_count": 1,
   "metadata": {},
   "outputs": [
    {
     "name": "stdout",
     "output_type": "stream",
     "text": [
      "20\n"
     ]
    }
   ],
   "source": [
    "# Lista com Python\n",
    "x = [10, 20, 30, 40]\n",
    "a = x[1]\n",
    "print(a)"
   ]
  },
  {
   "cell_type": "code",
   "execution_count": 2,
   "metadata": {},
   "outputs": [
    {
     "name": "stdout",
     "output_type": "stream",
     "text": [
      "20\n"
     ]
    }
   ],
   "source": [
    "# Array com NumPy\n",
    "import numpy as np\n",
    "x = np.array([10, 20, 30, 10])\n",
    "a = x[1]\n",
    "print(a)"
   ]
  },
  {
   "attachments": {},
   "cell_type": "markdown",
   "metadata": {},
   "source": [
    "![Matriz](img/matriz.png)\n",
    "\n",
    "Uma Matriz (array multi-dimensional) é um vetor de vetores:<br>\n",
    "a = x[1][2]<br>\n",
    "Neste caso o valor de “a” é 60.\n"
   ]
  },
  {
   "cell_type": "code",
   "execution_count": 14,
   "metadata": {},
   "outputs": [
    {
     "name": "stdout",
     "output_type": "stream",
     "text": [
      "60\n"
     ]
    }
   ],
   "source": [
    "x = np.array([[10, 20, 30],[40, 50, 60],[70, 80, 90],[100, 110, 120]])\n",
    "a = x[1,2]\n",
    "print(a)"
   ]
  },
  {
   "cell_type": "markdown",
   "metadata": {},
   "source": [
    "Uma maneira fácil de criar um array é usando a função array. Ela aceita qualquer objeto do tipo sequência (incluindo outros arrays) e gera um novo array NumPy contendo os dados recebidos.<br>\n",
    "\n"
   ]
  },
  {
   "cell_type": "code",
   "execution_count": 3,
   "metadata": {},
   "outputs": [
    {
     "name": "stdout",
     "output_type": "stream",
     "text": [
      "[0 1 2 3 4 5]\n"
     ]
    }
   ],
   "source": [
    "myList = [0, 1, 2, 3, 4, 5]\n",
    "myArray = np.array(myList)\n",
    "print(myArray)"
   ]
  },
  {
   "cell_type": "markdown",
   "metadata": {},
   "source": [
    "Todo array tem um **shape**, ou seja, uma tupla que indica o tamanho de cada dimensão, e um **dtype**, que é um objeto que descreve o tipo de dado do array. A menos que seja explicitamente especificado, np.array tentará inferir um bom tipo de dado para o array que ele criar. Esse tipo de dado é armazenado em dtype (conjunto de metadados).<br>"
   ]
  },
  {
   "cell_type": "code",
   "execution_count": 4,
   "metadata": {},
   "outputs": [
    {
     "name": "stdout",
     "output_type": "stream",
     "text": [
      "(6,)\n",
      "int32\n"
     ]
    }
   ],
   "source": [
    "print(myArray.shape) # (6,)\n",
    "print(myArray.dtype) # int32"
   ]
  },
  {
   "cell_type": "markdown",
   "metadata": {},
   "source": [
    "Podemos inicializar arrays NumPy de listas Python aninhadas e acessar elementos usando colchetes.\n",
    "Exemplo de uma lista Python aninhada:\n",
    "[[1, 2, 3], [4, 5, 6]]<br>"
   ]
  },
  {
   "cell_type": "code",
   "execution_count": 5,
   "metadata": {},
   "outputs": [
    {
     "name": "stdout",
     "output_type": "stream",
     "text": [
      "[[ 0  1  2  3  4  5]\n",
      " [10 20 30 40 50 60]]\n"
     ]
    }
   ],
   "source": [
    "myList = [[0, 1, 2, 3, 4, 5], [10, 20, 30, 40, 50, 60]]\n",
    "myArray = np.array(myList)\n",
    "print(myArray)"
   ]
  },
  {
   "cell_type": "markdown",
   "metadata": {},
   "source": [
    "Veja mais alguns exemplos:"
   ]
  },
  {
   "cell_type": "code",
   "execution_count": 6,
   "metadata": {
    "scrolled": true
   },
   "outputs": [
    {
     "name": "stdout",
     "output_type": "stream",
     "text": [
      "<class 'list'>\n",
      "<class 'numpy.ndarray'>\n",
      "(2, 3)\n",
      "int32\n",
      "1 2 3\n",
      "4 5 6\n",
      "[[10  2  3]\n",
      " [ 4  5  6]]\n",
      "10\n",
      "6\n"
     ]
    }
   ],
   "source": [
    "import numpy as np\n",
    "\n",
    "myList = [[1, 2, 3], [4, 5, 6]]\n",
    "\n",
    "# índice\n",
    "#[     0    ,     1     ]\n",
    "#[ [0][1][2], [0][1][2] ]\n",
    "\n",
    "# Posicionamento\n",
    "#[ [0,0][0,1][0,2],\n",
    "#  [1,0][1,1][1,2] ]\n",
    "\n",
    "# Valores\n",
    "#[ [1][2][3],[4][5][6] ]\n",
    "\n",
    "print(type(myList)) # <class 'list'>\n",
    "myArray = np.array(myList)\n",
    "print(type(myArray)) # <class 'numpy.ndarray'>\n",
    "print(myArray.shape) # (2, 3)\n",
    "print(myArray.dtype) # dtype('int32')\n",
    "print(myArray[0][0], myArray[0][1], myArray[0][2]) # 1 2 3\n",
    "print(myArray[1][0], myArray[1][1], myArray[1][2]) # 4 5 6\n",
    "myArray[0][0] = 10 # Alterando o conteúdo da posição [0][0] que era \"1\" para \"10\"\n",
    "print(myArray) # [[10  2  3] [ 4  5  6]]\n",
    "a = myArray[0,0]\n",
    "print(a) # 10\n",
    "a = myArray[1,2]\n",
    "print(a) # 6\n"
   ]
  },
  {
   "cell_type": "markdown",
   "metadata": {},
   "source": [
    "## Tipos numéricos NumPy"
   ]
  },
  {
   "cell_type": "markdown",
   "metadata": {},
   "source": [
    "Python tem um tipo inteiro, um tipo float e um tipo complexo. Contudo, isto não é o suficiente para computação científica e, por esse motivo, o NumPy tem muito mais tipos de dados com diferentes precisão, dependentes dos requisitos de memória.<br>\n",
    "Na prática, precisamos de mais tipos com precisão variável e, portanto, de diferentes tamanhos.<br><br>\n",
    "A maioria dos tipos numéricos NumPy termina com um número.<br>\n",
    "Este número indica o número de bits associados ao tipo. A tabela a seguir fornece uma visão geral dos tipos numéricos do NumPy:"
   ]
  },
  {
   "cell_type": "markdown",
   "metadata": {},
   "source": [
    "![Tipos Numéricos](img/tiposnumericos.png \"Tipos numéricos NumPy\")"
   ]
  },
  {
   "cell_type": "markdown",
   "metadata": {},
   "source": [
    "## Comparando velocidade de listas Python com arrays NumPy"
   ]
  },
  {
   "attachments": {},
   "cell_type": "markdown",
   "metadata": {},
   "source": [
    "Os algoritmos baseados no NumPy são de 10 a 100 vezes mais rápidos (ou mais) do que suas contrapartidas em Python puro, além de utilizarem significativamente menos memória.<br>\n",
    "Vamos fazer um teste usando a função mágica %time para conferirmos a velocidade da função soma do Python sobre uma lista e da função soma do NumPy sobre um array."
   ]
  },
  {
   "cell_type": "code",
   "execution_count": 7,
   "metadata": {},
   "outputs": [
    {
     "name": "stdout",
     "output_type": "stream",
     "text": [
      "Wall time: 336 ms\n",
      "Wall time: 5.01 ms\n"
     ]
    },
    {
     "data": {
      "text/plain": [
       "-2024260031"
      ]
     },
     "execution_count": 7,
     "metadata": {},
     "output_type": "execute_result"
    }
   ],
   "source": [
    "myList = list(range(9999999))\n",
    "myArray = np.arange(9999999)\n",
    "\n",
    "%time sum(myList)\n",
    "%time np.sum(myArray)"
   ]
  },
  {
   "cell_type": "markdown",
   "metadata": {},
   "source": [
    "## Funções para criação de arrays"
   ]
  },
  {
   "attachments": {},
   "cell_type": "markdown",
   "metadata": {},
   "source": [
    "O NumPy também fornece funções para criar arrays com valores preenchidos.<br>\n",
    "* ones, ones_like: gera um array preenchido com uns (1s) com o formato e dtype especificados. ones_like aceita outro array e gera um array de uns com o mesmo formato e dtype.<br>\n",
    "* zeros, zeros_like: similar a ones e ones_like, porém, gera arrays com zeros (0s)."
   ]
  },
  {
   "cell_type": "code",
   "execution_count": 8,
   "metadata": {},
   "outputs": [
    {
     "name": "stdout",
     "output_type": "stream",
     "text": [
      "[[1. 1.]\n",
      " [1. 1.]\n",
      " [1. 1.]]\n"
     ]
    }
   ],
   "source": [
    "a = np.ones((3, 2)) # Cria um array 3x2 preenchido com números 1.\n",
    "print(a)"
   ]
  },
  {
   "cell_type": "code",
   "execution_count": 9,
   "metadata": {
    "scrolled": true
   },
   "outputs": [
    {
     "name": "stdout",
     "output_type": "stream",
     "text": [
      "[[0. 0.]\n",
      " [0. 0.]\n",
      " [0. 0.]]\n"
     ]
    }
   ],
   "source": [
    "a = np.zeros((3, 2)) # Cria um array 3x2 preenchido com zeros.\n",
    "print(a)"
   ]
  },
  {
   "attachments": {},
   "cell_type": "markdown",
   "metadata": {},
   "source": [
    "* full, full_like: gera um array com o formato e o dtype especificados, preenchendo com o valor informado, full_like aceita outro array e gera um array preenchido com o mesmo formato e dtype.<br>\n",
    "* eye, identity: cria uma matriz-identidade quadrada N x N (1s na diagonal e 0s nas demais posições)."
   ]
  },
  {
   "cell_type": "code",
   "execution_count": 10,
   "metadata": {},
   "outputs": [
    {
     "name": "stdout",
     "output_type": "stream",
     "text": [
      "[[7 7]\n",
      " [7 7]\n",
      " [7 7]]\n"
     ]
    }
   ],
   "source": [
    "a = np.full((3, 2), 7) # Cria um array 3x2 preenchido com números 7.\n",
    "print(a)"
   ]
  },
  {
   "cell_type": "code",
   "execution_count": 11,
   "metadata": {},
   "outputs": [
    {
     "name": "stdout",
     "output_type": "stream",
     "text": [
      "[[1. 0. 0. 0.]\n",
      " [0. 1. 0. 0.]\n",
      " [0. 0. 1. 0.]\n",
      " [0. 0. 0. 1.]]\n"
     ]
    }
   ],
   "source": [
    "a = np.eye(4) # Cria um array 4x4 2d com números \"1\" na diagonal e o restante com zero.\n",
    "print(a)"
   ]
  },
  {
   "attachments": {},
   "cell_type": "markdown",
   "metadata": {},
   "source": [
    "* arange: é uma versão da função range de Python com valor de array."
   ]
  },
  {
   "cell_type": "code",
   "execution_count": 12,
   "metadata": {},
   "outputs": [
    {
     "name": "stdout",
     "output_type": "stream",
     "text": [
      "[0 1 2 3 4 5 6 7 8 9]\n"
     ]
    }
   ],
   "source": [
    "a = np.arange(10)\n",
    "print(a)"
   ]
  },
  {
   "cell_type": "markdown",
   "metadata": {},
   "source": [
    "## Outros métodos do ndarray"
   ]
  },
  {
   "cell_type": "markdown",
   "metadata": {},
   "source": []
  },
  {
   "cell_type": "markdown",
   "metadata": {},
   "source": [
    "## Realizando cálculos com arrays"
   ]
  },
  {
   "cell_type": "markdown",
   "metadata": {},
   "source": [
    "Os arrays permitem realizar operações matemáticas em blocos inteiros de dados usando uma sintaxe semelhante às operações equivalentes entre elementos escalares."
   ]
  },
  {
   "cell_type": "code",
   "execution_count": 13,
   "metadata": {},
   "outputs": [
    {
     "name": "stdout",
     "output_type": "stream",
     "text": [
      "myArray: [[1 2 3]\n",
      " [4 5 6]\n",
      " [7 8 9]]\n",
      "multiplica: [[10 20 30]\n",
      " [40 50 60]\n",
      " [70 80 90]]\n",
      "soma: [[ 2  3  4]\n",
      " [ 5  6  7]\n",
      " [ 8  9 10]]\n"
     ]
    }
   ],
   "source": [
    "myList = [[1,2,3],[4,5,6],[7,8,9]]\n",
    "myArray = np.array(myList)\n",
    "print(f\"myArray: {myArray}\")\n",
    "\n",
    "multiplica = myArray * 10\n",
    "print(f\"multiplica: {multiplica}\")\n",
    "\n",
    "soma = myArray + 1\n",
    "print(f\"soma: {soma}\")"
   ]
  }
 ],
 "metadata": {
  "kernelspec": {
   "display_name": "Python 3",
   "language": "python",
   "name": "python3"
  },
  "language_info": {
   "codemirror_mode": {
    "name": "ipython",
    "version": 3
   },
   "file_extension": ".py",
   "mimetype": "text/x-python",
   "name": "python",
   "nbconvert_exporter": "python",
   "pygments_lexer": "ipython3",
   "version": "3.6.5"
  }
 },
 "nbformat": 4,
 "nbformat_minor": 2
}
