{
 "cells": [
  {
   "cell_type": "markdown",
   "metadata": {},
   "source": [
    "# CURSO USANDO PYTHON PARA ANÁLISE DE DADOS"
   ]
  },
  {
   "cell_type": "markdown",
   "metadata": {},
   "source": [
    "https://www.udemy.com/usando-python-para-analise-de-dados"
   ]
  },
  {
   "cell_type": "raw",
   "metadata": {},
   "source": [
    "Evaldo Wolkers"
   ]
  },
  {
   "cell_type": "markdown",
   "metadata": {},
   "source": [
    "## NumPy"
   ]
  },
  {
   "cell_type": "markdown",
   "metadata": {},
   "source": [
    "## Indexação booleana"
   ]
  },
  {
   "cell_type": "markdown",
   "metadata": {},
   "source": [
    "Nesta aula vou mostrar um exemplo de como utilizar indexação booleana em arrays.\n",
    "Vamos imaginar o seguinte cenário:\n",
    "Temos um array com o número de vendas mensais de três vendedores, onde cada linha representa uma semana e cada coluna, um dia.\n",
    "Temos também um array com os nomes dos vendedores na mesma ordem, significando que cada linha no array de vendas representa uma linha no array de vendedores."
   ]
  },
  {
   "cell_type": "code",
   "execution_count": 1,
   "metadata": {},
   "outputs": [],
   "source": [
    "import numpy as np"
   ]
  },
  {
   "cell_type": "code",
   "execution_count": 2,
   "metadata": {},
   "outputs": [],
   "source": [
    "vendedores = np.array([\"Sócrates\", \"Aristóteles\",\n",
    "                       \"Platão\", \"Sócrates\",\n",
    "                       \"Sócrates\", \"Platão\",\n",
    "                       \"Platão\", \"Platão\",\n",
    "                       \"Aristóteles\", \"Sócrates\",\n",
    "                       \"Aristóteles\", \"Aristóteles\"])"
   ]
  },
  {
   "cell_type": "code",
   "execution_count": 3,
   "metadata": {},
   "outputs": [],
   "source": [
    "vendas = np.array([\n",
    "                    [10,19,30,3,14],\n",
    "                    [13,18,18,5,16],\n",
    "                    [0,4,19,16,20],\n",
    "                    [17,21,1,3,4],\n",
    "                    [25,6,14,9,7],\n",
    "                    [18,17,21,7,6],\n",
    "                    [9,10,2,3,3],\n",
    "                    [7,5,12,21,9],\n",
    "                    [8,3,5,4,17],\n",
    "                    [1,9,4,4,16],\n",
    "                    [4,8,3,4,13],\n",
    "                    [6,5,5,4,27]\n",
    "                   ])"
   ]
  },
  {
   "cell_type": "markdown",
   "metadata": {},
   "source": [
    "De posse destes dois dados, como podemos usar indexação booleana para nos ajudar a selecionar as vendas de um determinado vendedor?\n",
    "Resp.: Podemos criar um novo array contendo valores True e False de acordo com cada ocorrência do nome do vendedor no array que possui os nomes dos vendedores. Vamos ver como ficaria se quiséssemos somente os dados do vendedor “Sócrates”."
   ]
  },
  {
   "cell_type": "code",
   "execution_count": 4,
   "metadata": {},
   "outputs": [
    {
     "data": {
      "text/plain": [
       "array([ True, False, False,  True,  True, False, False, False, False,\n",
       "        True, False, False])"
      ]
     },
     "execution_count": 4,
     "metadata": {},
     "output_type": "execute_result"
    }
   ],
   "source": [
    "vendedores == \"Sócrates\""
   ]
  },
  {
   "cell_type": "code",
   "execution_count": 5,
   "metadata": {},
   "outputs": [
    {
     "data": {
      "text/plain": [
       "array([[10, 19, 30,  3, 14],\n",
       "       [17, 21,  1,  3,  4],\n",
       "       [25,  6, 14,  9,  7],\n",
       "       [ 1,  9,  4,  4, 16]])"
      ]
     },
     "execution_count": 5,
     "metadata": {},
     "output_type": "execute_result"
    }
   ],
   "source": [
    "vendas[vendedores == \"Sócrates\"]"
   ]
  },
  {
   "cell_type": "markdown",
   "metadata": {},
   "source": [
    "O array booleano deve ter o mesmo tamanho do eixo do array que ele está indexando. Podemos até misturar e fazer correspondência entre arrays booleanos e fatias, inteiros ou sequências de inteiros.\n",
    "Vamos agora utilizar fatias em conjunto com o array booleano para selecionar todas as vendas do vendedor “Sócrates” que foram realizadas em dias de terça-feira."
   ]
  },
  {
   "cell_type": "code",
   "execution_count": 6,
   "metadata": {},
   "outputs": [
    {
     "data": {
      "text/plain": [
       "array([[19],\n",
       "       [21],\n",
       "       [ 6],\n",
       "       [ 9]])"
      ]
     },
     "execution_count": 6,
     "metadata": {},
     "output_type": "execute_result"
    }
   ],
   "source": [
    "vendas[vendedores == \"Sócrates\", 1:2]"
   ]
  },
  {
   "cell_type": "markdown",
   "metadata": {},
   "source": [
    "Para retornar todos, exceto sócrates podemos usar:"
   ]
  },
  {
   "cell_type": "code",
   "execution_count": 7,
   "metadata": {},
   "outputs": [
    {
     "data": {
      "text/plain": [
       "array([[13, 18, 18,  5, 16],\n",
       "       [ 0,  4, 19, 16, 20],\n",
       "       [18, 17, 21,  7,  6],\n",
       "       [ 9, 10,  2,  3,  3],\n",
       "       [ 7,  5, 12, 21,  9],\n",
       "       [ 8,  3,  5,  4, 17],\n",
       "       [ 4,  8,  3,  4, 13],\n",
       "       [ 6,  5,  5,  4, 27]])"
      ]
     },
     "execution_count": 7,
     "metadata": {},
     "output_type": "execute_result"
    }
   ],
   "source": [
    "vendas[vendedores != \"Sócrates\"]"
   ]
  },
  {
   "cell_type": "markdown",
   "metadata": {},
   "source": [
    "Ou negar a condição desta forma:"
   ]
  },
  {
   "cell_type": "code",
   "execution_count": 8,
   "metadata": {},
   "outputs": [
    {
     "data": {
      "text/plain": [
       "array([[13, 18, 18,  5, 16],\n",
       "       [ 0,  4, 19, 16, 20],\n",
       "       [18, 17, 21,  7,  6],\n",
       "       [ 9, 10,  2,  3,  3],\n",
       "       [ 7,  5, 12, 21,  9],\n",
       "       [ 8,  3,  5,  4, 17],\n",
       "       [ 4,  8,  3,  4, 13],\n",
       "       [ 6,  5,  5,  4, 27]])"
      ]
     },
     "execution_count": 8,
     "metadata": {},
     "output_type": "execute_result"
    }
   ],
   "source": [
    "vendas[~(vendedores == \"Sócrates\")]"
   ]
  },
  {
   "cell_type": "markdown",
   "metadata": {},
   "source": [
    "O operador “~” inverte uma condição."
   ]
  },
  {
   "cell_type": "markdown",
   "metadata": {},
   "source": [
    "Podemos também utilizar os operadores matemáticos booleanos & (e) e | (ou). As palavras reservadas and e or não funcionam com arrays booleanos."
   ]
  },
  {
   "cell_type": "code",
   "execution_count": 9,
   "metadata": {},
   "outputs": [
    {
     "data": {
      "text/plain": [
       "array([[10, 19, 30,  3, 14],\n",
       "       [ 0,  4, 19, 16, 20],\n",
       "       [17, 21,  1,  3,  4],\n",
       "       [25,  6, 14,  9,  7],\n",
       "       [18, 17, 21,  7,  6],\n",
       "       [ 9, 10,  2,  3,  3],\n",
       "       [ 7,  5, 12, 21,  9],\n",
       "       [ 1,  9,  4,  4, 16]])"
      ]
     },
     "execution_count": 9,
     "metadata": {},
     "output_type": "execute_result"
    }
   ],
   "source": [
    "validacao = (vendedores == \"Sócrates\") | (vendedores == \"Platão\")\n",
    "vendas[(validacao)]"
   ]
  },
  {
   "cell_type": "markdown",
   "metadata": {},
   "source": [
    "Selecionar dados de um array com indexação booleana sempre criará uma cópia dos dados, mesmo que o array devolvido não seja alterado."
   ]
  },
  {
   "cell_type": "code",
   "execution_count": 10,
   "metadata": {},
   "outputs": [
    {
     "data": {
      "text/plain": [
       "array([[10, 19, 30,  3, 14],\n",
       "       [17, 21,  1,  3,  4],\n",
       "       [25,  6, 14,  9,  7],\n",
       "       [ 1,  9,  4,  4, 16]])"
      ]
     },
     "execution_count": 10,
     "metadata": {},
     "output_type": "execute_result"
    }
   ],
   "source": [
    "resultado = vendas[vendedores == \"Sócrates\"]\n",
    "resultado"
   ]
  },
  {
   "cell_type": "code",
   "execution_count": 11,
   "metadata": {},
   "outputs": [
    {
     "data": {
      "text/plain": [
       "array([[10, 19, 30,  3, 14],\n",
       "       [17, 21,  1,  3,  4],\n",
       "       [25,  6, 14,  0,  7],\n",
       "       [ 1,  0,  4,  4, 16]])"
      ]
     },
     "execution_count": 11,
     "metadata": {},
     "output_type": "execute_result"
    }
   ],
   "source": [
    "# A substituição é feita somente na cópia\n",
    "resultado[resultado == 9] = 0\n",
    "resultado"
   ]
  },
  {
   "cell_type": "code",
   "execution_count": 12,
   "metadata": {},
   "outputs": [
    {
     "data": {
      "text/plain": [
       "array([[10, 19, 30,  3, 14],\n",
       "       [13, 18, 18,  5, 16],\n",
       "       [ 0,  4, 19, 16, 20],\n",
       "       [17, 21,  1,  3,  4],\n",
       "       [25,  6, 14,  9,  7],\n",
       "       [18, 17, 21,  7,  6],\n",
       "       [ 9, 10,  2,  3,  3],\n",
       "       [ 7,  5, 12, 21,  9],\n",
       "       [ 8,  3,  5,  4, 17],\n",
       "       [ 1,  9,  4,  4, 16],\n",
       "       [ 4,  8,  3,  4, 13],\n",
       "       [ 6,  5,  5,  4, 27]])"
      ]
     },
     "execution_count": 12,
     "metadata": {},
     "output_type": "execute_result"
    }
   ],
   "source": [
    "# Os valores 9 não foram substitúidos por zero no array original\n",
    "vendas"
   ]
  },
  {
   "cell_type": "markdown",
   "metadata": {},
   "source": [
    "Outro exemplo:"
   ]
  },
  {
   "cell_type": "code",
   "execution_count": 13,
   "metadata": {},
   "outputs": [
    {
     "data": {
      "text/plain": [
       "array([[10, 19, 30,  3, 14],\n",
       "       [10, 10, 10, 10, 10],\n",
       "       [ 0,  4, 19, 16, 20],\n",
       "       [17, 21,  1,  3,  4],\n",
       "       [25,  6, 14,  9,  7],\n",
       "       [18, 17, 21,  7,  6],\n",
       "       [ 9, 10,  2,  3,  3],\n",
       "       [ 7,  5, 12, 21,  9],\n",
       "       [10, 10, 10, 10, 10],\n",
       "       [ 1,  9,  4,  4, 16],\n",
       "       [10, 10, 10, 10, 10],\n",
       "       [10, 10, 10, 10, 10]])"
      ]
     },
     "execution_count": 13,
     "metadata": {},
     "output_type": "execute_result"
    }
   ],
   "source": [
    "vendas[vendedores == \"Aristóteles\"] = 10\n",
    "vendas"
   ]
  },
  {
   "cell_type": "code",
   "execution_count": null,
   "metadata": {},
   "outputs": [],
   "source": []
  }
 ],
 "metadata": {
  "kernelspec": {
   "display_name": "Python 3",
   "language": "python",
   "name": "python3"
  },
  "language_info": {
   "codemirror_mode": {
    "name": "ipython",
    "version": 3
   },
   "file_extension": ".py",
   "mimetype": "text/x-python",
   "name": "python",
   "nbconvert_exporter": "python",
   "pygments_lexer": "ipython3",
   "version": "3.6.5"
  }
 },
 "nbformat": 4,
 "nbformat_minor": 2
}
