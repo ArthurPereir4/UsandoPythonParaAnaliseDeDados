{
 "cells": [
  {
   "cell_type": "markdown",
   "metadata": {},
   "source": [
    "# CURSO USANDO PYTHON PARA ANÁLISE DE DADOS"
   ]
  },
  {
   "cell_type": "markdown",
   "metadata": {},
   "source": [
    "https://www.udemy.com/usando-python-para-analise-de-dados"
   ]
  },
  {
   "cell_type": "raw",
   "metadata": {},
   "source": [
    "Evaldo Wolkers"
   ]
  },
  {
   "cell_type": "markdown",
   "metadata": {},
   "source": [
    "## NumPy"
   ]
  },
  {
   "attachments": {},
   "cell_type": "markdown",
   "metadata": {},
   "source": [
    "## Indexação básica e fatiamento"
   ]
  },
  {
   "attachments": {},
   "cell_type": "markdown",
   "metadata": {},
   "source": [
    "A indexação de arrays unidimensionais segue a mesma ideia de indexação de listas."
   ]
  },
  {
   "cell_type": "markdown",
   "metadata": {},
   "source": [
    "![img1](imagens\\Picture1.png)"
   ]
  },
  {
   "cell_type": "code",
   "execution_count": 1,
   "metadata": {},
   "outputs": [
    {
     "name": "stdout",
     "output_type": "stream",
     "text": [
      "Elemento 8: 8\n",
      "Fatia 4 a 7: [4 5 6]\n",
      "[ 0  1  2  3 66 66 66  7  8  9]\n"
     ]
    }
   ],
   "source": [
    "import numpy as np\n",
    "\n",
    "array = np.array([0,1,2,3,4,5,6,7,8,9])\n",
    "\n",
    "print(\"Elemento 8: \" + str(array[8]))\n",
    "print(\"Fatia 4 a 7: \" + str(array[4:7]))\n",
    "array[4:7] = 66\n",
    "print(array)"
   ]
  },
  {
   "cell_type": "markdown",
   "metadata": {},
   "source": [
    "Fatias são visualizações do array original, não são cópias. Sendo assim, qualquer alteração será refletida no array original."
   ]
  },
  {
   "cell_type": "markdown",
   "metadata": {},
   "source": [
    "![img2](imagens\\Picture2.png)"
   ]
  },
  {
   "cell_type": "markdown",
   "metadata": {},
   "source": [
    "![img3](imagens\\Picture3.png)"
   ]
  },
  {
   "cell_type": "code",
   "execution_count": 2,
   "metadata": {},
   "outputs": [
    {
     "name": "stdout",
     "output_type": "stream",
     "text": [
      "Array original: [0 1 2 3 4 5 6 7 8 9]\n",
      "Fatia antes alteração: [4 5 6 7 8]\n",
      "Fatia depois alteração: [ 4  5  6 17  8]\n",
      "Array original: [ 0  1  2  3  4  5  6 17  8  9]\n"
     ]
    }
   ],
   "source": [
    "import numpy as np\n",
    "\n",
    "array = np.array([0,1,2,3,4,5,6,7,8,9])\n",
    "print(\"Array original: \" + str(array))\n",
    "fatia = array[4:9]\n",
    "print(\"Fatia antes alteração: \" + str(fatia))\n",
    "fatia[3] = 17\n",
    "print(\"Fatia depois alteração: \" + str(fatia))\n",
    "print(\"Array original: \" + str(array))"
   ]
  },
  {
   "cell_type": "markdown",
   "metadata": {},
   "source": [
    "A fatia [:] fará uma atribuição a todos os valores em um array."
   ]
  },
  {
   "cell_type": "markdown",
   "metadata": {},
   "source": [
    "![img4](imagens\\Picture4.png)"
   ]
  },
  {
   "cell_type": "markdown",
   "metadata": {},
   "source": [
    "Se precisarmos alterar uma cópia mantendo o array original podemos criar a fatia usando array[x:y].copy()."
   ]
  },
  {
   "cell_type": "markdown",
   "metadata": {},
   "source": [
    "![img5](imagens\\Picture5.png)"
   ]
  },
  {
   "cell_type": "markdown",
   "metadata": {},
   "source": [
    "![img6](imagens\\Picture6.png)"
   ]
  },
  {
   "cell_type": "code",
   "execution_count": 3,
   "metadata": {},
   "outputs": [
    {
     "name": "stdout",
     "output_type": "stream",
     "text": [
      "Array original: [0 1 2 3 4 5 6 7 8 9]\n",
      "Fatia antes alteração: [4 5 6 7 8]\n",
      "Fatia depois alteração: [ 4  5  6 17  8]\n",
      "Array original: [0 1 2 3 4 5 6 7 8 9]\n"
     ]
    }
   ],
   "source": [
    "import numpy as np\n",
    "\n",
    "array = np.array([0,1,2,3,4,5,6,7,8,9])\n",
    "print(\"Array original: \" + str(array))\n",
    "fatia = array[4:9].copy()\n",
    "print(\"Fatia antes alteração: \" + str(fatia))\n",
    "fatia[3] = 17\n",
    "print(\"Fatia depois alteração: \" + str(fatia))\n",
    "print(\"Array original: \" + str(array))"
   ]
  },
  {
   "cell_type": "markdown",
   "metadata": {},
   "source": [
    "Em um array bidimensional, os elementos em cada índice não são mais escalares, mas são arrays unidimensionais. Desta forma podemos acessar seus elementos recursivamente."
   ]
  },
  {
   "cell_type": "markdown",
   "metadata": {},
   "source": [
    "![img7](imagens\\Picture7.png)"
   ]
  },
  {
   "cell_type": "code",
   "execution_count": 4,
   "metadata": {},
   "outputs": [
    {
     "name": "stdout",
     "output_type": "stream",
     "text": [
      "O elemento na posição 1 é um array unidimensional: [40 50 60]\n",
      "50\n",
      "50\n"
     ]
    }
   ],
   "source": [
    "import numpy as np\n",
    "\n",
    "array2d = np.array([[10, 20, 30],[40, 50, 60],[70, 80, 90]])\n",
    "print(\"O elemento na posição 1 é um array unidimensional: \" + str(array2d[1]))\n",
    "\n",
    "print(str(array2d[1][1]))\n",
    "print(str(array2d[1,1]))"
   ]
  },
  {
   "cell_type": "markdown",
   "metadata": {},
   "source": [
    "Vamos ver agora a indexação de arrays multidimensionais. Veja a seguir o array de três dimensões (2 x 2 x 3)."
   ]
  },
  {
   "cell_type": "markdown",
   "metadata": {},
   "source": [
    "![img8](imagens\\Picture8.png)"
   ]
  },
  {
   "cell_type": "markdown",
   "metadata": {},
   "source": [
    "Tanto valores escalares quanto arrays podem ser atribuídos a array3d[0]:"
   ]
  },
  {
   "cell_type": "markdown",
   "metadata": {},
   "source": [
    "![img9](imagens\\Picture9.png)"
   ]
  },
  {
   "cell_type": "markdown",
   "metadata": {},
   "source": [
    "Da mesma forma array3d[1, 0] contém todos os valores cujos índices começam com (1, 0), formando um array unidimensional."
   ]
  },
  {
   "cell_type": "markdown",
   "metadata": {},
   "source": [
    "![img10](imagens\\Picture10.png)"
   ]
  },
  {
   "cell_type": "markdown",
   "metadata": {},
   "source": [
    "Assim como os objetos unidimensionais, por exemplo, as listas, os ndarrays também podem ser fatiados:"
   ]
  },
  {
   "cell_type": "markdown",
   "metadata": {},
   "source": [
    "![img11](imagens\\Picture11.png)"
   ]
  },
  {
   "cell_type": "markdown",
   "metadata": {},
   "source": [
    "Fatiar um array bidimensional é um pouco diferente de fatiar um array unidimensional, por exemplo."
   ]
  },
  {
   "cell_type": "markdown",
   "metadata": {},
   "source": [
    "![img12](imagens\\Picture12.png)"
   ]
  },
  {
   "cell_type": "markdown",
   "metadata": {},
   "source": [
    "Neste exemplo estamos fatiando à partir do eixo 0, que é o primeiro eixo, pegando as duas primeiras linhas.\n",
    "Como se pegássemos estes dois resultados: array2d[0] e array2d[1]."
   ]
  },
  {
   "cell_type": "markdown",
   "metadata": {},
   "source": [
    "Podemos passar várias fatias."
   ]
  },
  {
   "cell_type": "markdown",
   "metadata": {},
   "source": [
    "![img13](imagens\\Picture13.png)"
   ]
  },
  {
   "cell_type": "markdown",
   "metadata": {},
   "source": [
    "Neste exemplo estamos pegando as duas primeiras linhas (0 e 1) e à partir da primeira coluna (colunas 1 e 2)."
   ]
  },
  {
   "cell_type": "markdown",
   "metadata": {},
   "source": [
    "![img14](imagens\\Picture14.png)"
   ]
  },
  {
   "cell_type": "markdown",
   "metadata": {},
   "source": [
    "Podemos passar várias fatias."
   ]
  },
  {
   "cell_type": "markdown",
   "metadata": {},
   "source": [
    "![img15](imagens\\Picture15.png)"
   ]
  },
  {
   "cell_type": "markdown",
   "metadata": {},
   "source": [
    "Veja uma ilustração detalhando o fatiamento:"
   ]
  },
  {
   "cell_type": "markdown",
   "metadata": {},
   "source": [
    "![img16](imagens\\Picture16.png)"
   ]
  },
  {
   "cell_type": "code",
   "execution_count": null,
   "metadata": {},
   "outputs": [],
   "source": []
  }
 ],
 "metadata": {
  "kernelspec": {
   "display_name": "Python 3",
   "language": "python",
   "name": "python3"
  },
  "language_info": {
   "codemirror_mode": {
    "name": "ipython",
    "version": 3
   },
   "file_extension": ".py",
   "mimetype": "text/x-python",
   "name": "python",
   "nbconvert_exporter": "python",
   "pygments_lexer": "ipython3",
   "version": "3.6.5"
  }
 },
 "nbformat": 4,
 "nbformat_minor": 2
}
