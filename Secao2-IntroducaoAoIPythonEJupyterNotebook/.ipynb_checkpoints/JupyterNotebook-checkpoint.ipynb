{
 "cells": [
  {
   "cell_type": "markdown",
   "metadata": {},
   "source": [
    "# Jupyter Notebook"
   ]
  },
  {
   "cell_type": "markdown",
   "metadata": {},
   "source": [
    "## Uma breve introdução ao Jupyter Notebook"
   ]
  },
  {
   "cell_type": "raw",
   "metadata": {},
   "source": [
    "A grosso modo o Jupyter Notebook seria uma interface web para o IPython. Para executá-lo, basta digitar “jupyter notebook” no prompt do Anaconda, no Prompt de Comandos do Windows ou no Terminal do Linux."
   ]
  },
  {
   "cell_type": "markdown",
   "metadata": {},
   "source": [
    "![Jupyter](img/jupyter.png)"
   ]
  },
  {
   "cell_type": "markdown",
   "metadata": {},
   "source": [
    "O Jupyter será aberto no seu navegador padrão. Ou você poderá acioná-lo através do endereço http://localhost:8888/?token=token_gerado.\n",
    "token_gerado: É um token gerado pelo Jupyter para acesso à página. Sem este token não é possível acessar o sistema.\n",
    "\n",
    "![token](img/token.png)\n",
    "\n",
    "O Jupyter pode ser usado em um ambiente local ou também pode ser disponibilizado em um servidor web para ser acessado remotamente."
   ]
  },
  {
   "cell_type": "markdown",
   "metadata": {},
   "source": [
    "A interface do Jupyter Notebook mostra arquivos ou pastas desto local onde foi iniciado o sistema.\n",
    "\n",
    "![interface](img/interface.png)"
   ]
  },
  {
   "cell_type": "markdown",
   "metadata": {},
   "source": [
    "Para criar um notebook, clique em “New” e escolha “Python 3”.\n",
    "\n",
    "![new](img/new.png)\n",
    "\n",
    "![interface2](img/interface2.png)"
   ]
  },
  {
   "cell_type": "markdown",
   "metadata": {},
   "source": [
    "Comece escrevendo um print com “Olá Jupyter!!!” e pressionando Shift+Enter para executar o código.\n",
    "\n",
    "![olajupyter](img/olajupyter.png)"
   ]
  },
  {
   "cell_type": "markdown",
   "metadata": {},
   "source": [
    "Você pode escrever o código pressionando Enter para saltar linha e pressionar Shift+Enter para executá-lo ao final.\n",
    "\n",
    "![enter](img/enter.png)"
   ]
  },
  {
   "cell_type": "code",
   "execution_count": 3,
   "metadata": {},
   "outputs": [
    {
     "name": "stdout",
     "output_type": "stream",
     "text": [
      "O valor de C é: 30\n"
     ]
    }
   ],
   "source": [
    "a = 10 # Enter\n",
    "b = 20 # Enter\n",
    "c = a + b # Enter\n",
    "print(f\"O valor de C é: {c}\") # Shift + Enter"
   ]
  },
  {
   "cell_type": "markdown",
   "metadata": {},
   "source": [
    "Você pode dar um nome ao seu notebook clicando em “Untitled” na área superior da janela e informando o nome na janela exibida.\n",
    "\n",
    "![dandonome](img/dandonome.png)"
   ]
  },
  {
   "cell_type": "raw",
   "metadata": {},
   "source": [
    "Veja o arquivo gerado na pasta onde você iniciou o Jupyter. Esse arquivo “ipynb” é um arquivo estilo JSON que pode ser aberto por outra pessoa no Jupyter."
   ]
  },
  {
   "cell_type": "raw",
   "metadata": {},
   "source": [
    "Caso queira abrir um arquivo do Jupyter criado por outra pessoa basta colocá-lo na pasta onde iniciou o Jupyter Notebook e clicar em File/Open. Você será direcionado para uma página contendo uma lista dos arquivos existentes na pasta. Basta clicar no arquivo desejado e o mesmo será aberto."
   ]
  },
  {
   "cell_type": "markdown",
   "metadata": {},
   "source": [
    "![barraferramentas](img/barraferramentas.png)"
   ]
  },
  {
   "cell_type": "markdown",
   "metadata": {},
   "source": [
    "### Tipos de células"
   ]
  },
  {
   "cell_type": "markdown",
   "metadata": {},
   "source": [
    "- Code: Por padrão, as células são do tipo code. Isso quer dizer que o conteúdo da célula é executado como um comando Python (também são suportadas outras linguagens).\n",
    "- Markdown: Para utilização de textos formatados, por exemplo, podemos definir cabeçalhos usando o caracter “#”, podemos criar níveis de cabeçalho adicionando mais # (#Header 1, ##Header2, etc.). Podemos colocar o texto em negrito usando “\\*\\*texto\\*\\*” ou “\\_\\_texto\\_\\_” e “\\*texto\\*” ou “\\_texto\\_” para itálico, exemplo \\*\\*print\\*\\*(\\*’texto’\\*) ficará assim: **print**(‘texto’)\n",
    "- Raw NBConvert: Este tipo de célula não permite formatação e não é um código a ser executado, é o texto simples como foi inserido. Pode ser usado para informar um comando que não queira que seja executado. \n",
    "- Heading: Transforma a célula em um cabeçalho Markdown.\n"
   ]
  },
  {
   "cell_type": "markdown",
   "metadata": {},
   "source": [
    "### Comandos Mágicos"
   ]
  },
  {
   "cell_type": "markdown",
   "metadata": {},
   "source": [
    "Lembra dos comandos mágicos do IPython? Eles podem ser usandos no Jupyter Notebook.\n",
    "![comandosmagicos](img/comandosmagicos.png)"
   ]
  }
 ],
 "metadata": {
  "kernelspec": {
   "display_name": "Python 3",
   "language": "python",
   "name": "python3"
  },
  "language_info": {
   "codemirror_mode": {
    "name": "ipython",
    "version": 3
   },
   "file_extension": ".py",
   "mimetype": "text/x-python",
   "name": "python",
   "nbconvert_exporter": "python",
   "pygments_lexer": "ipython3",
   "version": "3.6.5"
  }
 },
 "nbformat": 4,
 "nbformat_minor": 2
}
