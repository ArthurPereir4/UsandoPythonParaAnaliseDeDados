{
 "cells": [
  {
   "cell_type": "markdown",
   "metadata": {},
   "source": [
    "Este texto está em uma linha.<p>\n",
    "Este texto está na mesma linha."
   ]
  },
  {
   "cell_type": "markdown",
   "metadata": {},
   "source": [
    "# Título 1"
   ]
  },
  {
   "cell_type": "markdown",
   "metadata": {},
   "source": [
    "## Título 1.1"
   ]
  },
  {
   "cell_type": "markdown",
   "metadata": {},
   "source": [
    "### Título 1.1.1"
   ]
  },
  {
   "cell_type": "markdown",
   "metadata": {},
   "source": [
    "# Título 2"
   ]
  },
  {
   "cell_type": "markdown",
   "metadata": {},
   "source": [
    "dkfdsklf jksdj fksdl jfsdkl fjsdk\n",
    "> sjkdjfsd fsdfh sdkjf hsdjkf hsdj khfsdh f sdhf jksdhfjksdhfjksdhfjkhsdjkf hsdjkfhsdjkfhsjdk hfjksdhfjksdhfdsjkhfksdjhfjksd fhjsdfh jksdfh sdjk\n",
    "\n",
    ">> fjsdfj klsd fjkldsj fklsdj fklsdjfklsdj flksdjfklsdjflksdjfklsdjfklsjdklfjsdklfjskdlf\n",
    "\n",
    ">>> ksd jkfs djklfj sdf jsdjfskdlfjskdjfklsdjfsdklfj klsdj fklsdj fklsdjfklsdj fklds"
   ]
  },
  {
   "cell_type": "markdown",
   "metadata": {},
   "source": [
    "Carro\n",
    "1. Corolla\n",
    "2. Gol\n",
    "3. Uno\n",
    "\n",
    "Frutas\n",
    "* Maça\n",
    "+ Laranja\n",
    "- Banana"
   ]
  },
  {
   "cell_type": "code",
   "execution_count": null,
   "metadata": {},
   "outputs": [],
   "source": []
  }
 ],
 "metadata": {
  "kernelspec": {
   "display_name": "Python 3",
   "language": "python",
   "name": "python3"
  },
  "language_info": {
   "codemirror_mode": {
    "name": "ipython",
    "version": 3
   },
   "file_extension": ".py",
   "mimetype": "text/x-python",
   "name": "python",
   "nbconvert_exporter": "python",
   "pygments_lexer": "ipython3",
   "version": "3.6.5"
  }
 },
 "nbformat": 4,
 "nbformat_minor": 2
}
