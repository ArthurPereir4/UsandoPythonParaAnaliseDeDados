{
 "cells": [
  {
   "cell_type": "markdown",
   "metadata": {},
   "source": [
    "# Markdown"
   ]
  },
  {
   "cell_type": "markdown",
   "metadata": {},
   "source": [
    "## Elementos de bloco"
   ]
  },
  {
   "cell_type": "markdown",
   "metadata": {},
   "source": [
    "### Quebras de linha"
   ]
  },
  {
   "cell_type": "markdown",
   "metadata": {},
   "source": [
    "Para criar uma nova linha precisamos finalizar a linha atual com dois espaços, exemplo:"
   ]
  },
  {
   "cell_type": "markdown",
   "metadata": {},
   "source": [
    "Este texto está em uma linha.\n",
    "E este texto na mesma linha."
   ]
  },
  {
   "cell_type": "markdown",
   "metadata": {},
   "source": [
    "Este texto está em uma linha.  \n",
    "E este texto na outra linha."
   ]
  },
  {
   "cell_type": "markdown",
   "metadata": {},
   "source": [
    "Também podemos utilizar a marcação HTML “<br\\>” ou “<p\\>” para quebrar uma linha no Jupyter Notebook.\n"
   ]
  },
  {
   "cell_type": "markdown",
   "metadata": {},
   "source": [
    "### Cabeçalhos"
   ]
  },
  {
   "cell_type": "raw",
   "metadata": {},
   "source": [
    "Você pode adicionar cabeçalhos iniciando a linha com um ou múltiplos # seguido por espaço como a seguir:\n",
    "# Cabeçalho 1\n",
    "# Cabeçalho 2\n",
    "## Cabeçalho 2.1\n",
    "## Cabeçalho 2.2"
   ]
  },
  {
   "cell_type": "markdown",
   "metadata": {},
   "source": [
    "# Cabeçalho 1\n",
    "# Cabeçalho 2\n",
    "## Cabeçalho 2.1\n",
    "## Cabeçalho 2.2"
   ]
  },
  {
   "attachments": {},
   "cell_type": "markdown",
   "metadata": {},
   "source": [
    "### Bloco de citações"
   ]
  },
  {
   "attachments": {},
   "cell_type": "markdown",
   "metadata": {},
   "source": [
    "Podemos utilizar o caracter “>” (maior que) para adiconar citações no nosso notebook.\n",
    "\n",
    "Exemplo de uso:  \n",
    "\\>\"O que mais nos incomoda é ver nossos sonhos frustrados. Mas permanecer no desânimo não ajuda em nada para a concretização desses sonhos. Se ficarmos assim, nem vamos em busca dos nossos sonhos, nem recuperamos o bom humor! Este estado de confusão propício ao crescimento da ira, é muito perigoso. Temos de nos esforçar e não permitir que a nossa serenidade seja perturbada.\"  \n",
    "\\>Dalai Lama\n",
    "\n",
    "Resultado:\n",
    ">\"O que mais nos incomoda é ver nossos sonhos frustrados. Mas permanecer no desânimo não ajuda em nada para a concretização desses sonhos. Se ficarmos assim, nem vamos em busca dos nossos sonhos, nem recuperamos o bom humor! Este estado de confusão propício ao crescimento da ira, é muito perigoso. Temos de nos esforçar e não permitir que a nossa serenidade seja perturbada.\"  \n",
    ">Dalai Lama"
   ]
  },
  {
   "cell_type": "markdown",
   "metadata": {},
   "source": [
    "Podemos aninhar citações colocando mais caracteres “>”.\n",
    "\n",
    "Exemplo de uso:  \n",
    "\\>\"Se você for uma pessoa que busca realmente a verdade, é necessário que ao menos uma vez na vida duvide de todas as coisas, da maneira mais profunda possível.\" - René Descartes  \n",
    "\\>>\"O bom senso é a coisa do mundo melhor partilhada, pois cada qual pensa estar tão bem provido dele, que mesmo os que são mais difíceis de contentar em qualquer outra coisa, não costumam desejar tê-lo mais do que têm.\" - René Descartes  \n",
    "\\>>>\"Mas o que sou eu então? Uma coisa que pensa. E o que é uma coisa que pensa?\" - René Descartes  \n",
    "\\>>>>\"Divide as dificuldades que tenhas de examinar em tantas partes quantas for possível, para uma melhor solução.\" - René Descartes\n",
    "\n",
    "Resultado:\n",
    ">\"Se você for uma pessoa que busca realmente a verdade, é necessário que ao menos uma vez na vida duvide de todas as coisas, da maneira mais profunda possível.\" - René Descartes\n",
    ">>\"O bom senso é a coisa do mundo melhor partilhada, pois cada qual pensa estar tão bem provido dele, que mesmo os que são mais difíceis de contentar em qualquer outra coisa, não costumam desejar tê-lo mais do que têm.\" - René Descartes\n",
    ">>>\"Mas o que sou eu então? Uma coisa que pensa. E o que é uma coisa que pensa?\" - René Descartes\n",
    ">>>>\"Divide as dificuldades que tenhas de examinar em tantas partes quantas for possível, para uma melhor solução.\" - René Descartes"
   ]
  },
  {
   "cell_type": "markdown",
   "metadata": {},
   "source": [
    "### Listas"
   ]
  },
  {
   "attachments": {},
   "cell_type": "markdown",
   "metadata": {},
   "source": [
    "No Markdown, podemos listar itens usando números, um +, um - ou um *.\n",
    "\n",
    "Frutas:\n",
    "1. Maçã\n",
    "2. Laranja\n",
    "    * Lima\n",
    "    * Bahia\n",
    "3. Banana\n",
    "    + Prata\n",
    "    - Nanica\n",
    "    + Da terra\n",
    "4. Abacaxi\n",
    "    * De Marataízes\n",
    "    * De Minas\n",
    "5. Goiaba\n",
    "\n",
    "Fabricantes:\n",
    "* Fiat\n",
    "* VolksWagen\n",
    "* Toyota\n",
    "* Mercedes\n",
    "\n",
    "Times cariocas:\n",
    "+ Flamengo\n",
    "- Vasco\n",
    "+ Fluminense\n",
    "+ Botafogo"
   ]
  },
  {
   "cell_type": "markdown",
   "metadata": {},
   "source": [
    "### Quebras de seção"
   ]
  },
  {
   "cell_type": "markdown",
   "metadata": {},
   "source": [
    "Para criarmos quebras de seção podemos utilizar asteriscos juntos “\\*\\*\\*” ou separados “\\* \\* \\*” (no mínimo 3) e também podemos utilzizar hífens (sinal de menor) “---” juntos ou separados “- - -” (no mínimo 3).\n"
   ]
  },
  {
   "cell_type": "markdown",
   "metadata": {},
   "source": [
    "\\*\\*\\*<br>\n",
    "Pode ser que um dia nos afastemos...<br>\n",
    "Mas, se formos amigos de verdade,<br>\n",
    "A amizade nos reaproximará.<br>\n",
    "Albert Einstein<br>\n",
    "\\*\\*\\*<br>\n",
    "\\*******<br>\n",
    "Não preciso me drogar para ser um gênio; <br>\n",
    "Não preciso ser um gênio para ser humano; <br>\n",
    "Mas preciso do seu sorriso para ser feliz.<br>\n",
    "Charles Chaplin<br>\n",
    "\\*\\*\\*\\*\\*\\*\\*\\*\\*\\*\\*\\*\\*\\*\\*\\*\\*\\*\\*\\*\\*<br>\n",
    "\\* \\* \\*<br>\n",
    "Costumamos dizer que amigos de verdade são os que estão ao seu lado em momentos difíceis... Mas não!<br>\n",
    "Amigos verdadeiros são os que suportam a tua felicidade! <br>\n",
    "Porque em um momento difícil qualquer um se aproxima de você.<br>\n",
    "Mas o seu inimigo jamais suportaria a sua felicidade!<br>\n",
    "Padre Fábio de Melo<br>\n",
    "\\* \\* \\*<br>\n",
    "\\- - -<br>\n",
    "Não te abras com teu amigo<br>\n",
    "Que ele um outro amigo tem.<br>\n",
    "E o amigo do teu amigo<br>\n",
    "Possui amigos também...<br>\n",
    "Mario Quintana<br>\n",
    "\\- - -"
   ]
  },
  {
   "cell_type": "markdown",
   "metadata": {},
   "source": [
    "***\n",
    "Pode ser que um dia nos afastemos...\n",
    "Mas, se formos amigos de verdade,\n",
    "A amizade nos reaproximará.\n",
    "Albert Einstein\n",
    "***\n",
    "*******\n",
    "Não preciso me drogar para ser um gênio; \n",
    "Não preciso ser um gênio para ser humano; \n",
    "Mas preciso do seu sorriso para ser feliz.\n",
    "Charles Chaplin\n",
    "*********************\n",
    "* * *\n",
    "Costumamos dizer que amigos de verdade são os que estão ao seu lado em momentos difíceis... Mas não!\n",
    "Amigos verdadeiros são os que suportam a tua felicidade! \n",
    "Porque em um momento difícil qualquer um se aproxima de você.\n",
    "Mas o seu inimigo jamais suportaria a sua felicidade!\n",
    "Padre Fábio de Melo\n",
    "* * *\n",
    "- - -\n",
    "Não te abras com teu amigo\n",
    "Que ele um outro amigo tem.\n",
    "E o amigo do teu amigo\n",
    "Possui amigos também...\n",
    "Mario Quintana\n",
    "- - -"
   ]
  },
  {
   "cell_type": "markdown",
   "metadata": {},
   "source": [
    "## Barra invertida"
   ]
  },
  {
   "cell_type": "markdown",
   "metadata": {},
   "source": [
    "O que acontece se você quiser incluir um caracter literal, como o “#” por exemplo, que geralmente tem uma função específica no Markdown? A barra invertida impede que o Markdown interprete o caractere como uma instrução."
   ]
  },
  {
   "cell_type": "markdown",
   "metadata": {},
   "source": [
    "Para criar cabeçalhos em uma célula Markdown usamos um caracter de \"#\" no início da linha. Para criar cabeçalhos em níveis inferiores usamos mais caracteres de \"#\". Veja:\n",
    "\n",
    "\\# Cabeçalho 1\n",
    "\n",
    "\\## Cabeçalho 2\n",
    "\n",
    "\\### Cabeçalho3\n",
    "\n",
    "Veja que nesta célula, o Jupyter não vai considerar as três linhas acima como cabeçalhos, já que foi utilizada a barra invertida para representar o caractere \"#\"."
   ]
  },
  {
   "attachments": {},
   "cell_type": "markdown",
   "metadata": {},
   "source": [
    "O Markdown permite que você use a barra invertida para “escapar” de funções dos seguintes caracteres:\n",
    "\n",
    "\\\\ barra invertida\n",
    "\n",
    "\\` crase\n",
    "\n",
    "\\* asterisco\n",
    "\n",
    "\\_ sublinhado\n",
    "\n",
    "\\{} chaves\n",
    "\n",
    "\\[\\] colchetes\n",
    "\n",
    "\\(\\) parênteses\n",
    "\n",
    "\\# hashtag\n",
    "\n",
    "\\+ sinal de mais\n",
    "\n",
    "\\- sinal de menos / hífen\n",
    "\n",
    "\\. ponto\n",
    "\n",
    "\\! exclamação"
   ]
  },
  {
   "cell_type": "markdown",
   "metadata": {},
   "source": [
    "## Estilos e ênfase"
   ]
  },
  {
   "cell_type": "markdown",
   "metadata": {},
   "source": [
    "**Negrito**: \\_\\_texto\\_\\_ ou \\*\\*texto\\*\\*  \n",
    "*Itálico*: \\_texto\\_ ou \\*texto\\*  \n",
    "***Negrito e itálico***: \\_\\_\\_texto\\_\\_\\_ ou \\*\\*\\*texto\\*\\*\\*"
   ]
  },
  {
   "cell_type": "markdown",
   "metadata": {},
   "source": [
    "## Hyperlinks"
   ]
  },
  {
   "attachments": {},
   "cell_type": "markdown",
   "metadata": {},
   "source": [
    "Você pode adicionar hyperlinks ao seu notebook desta forma:\n",
    "\\[Texto a ser exibindo no link](endereço “Texto exibido quando passar o mouse”)"
   ]
  },
  {
   "cell_type": "raw",
   "metadata": {},
   "source": [
    "Exemplo:\n",
    "Acesse o link a seguir: [Blog do Evaldo Wolkers](https://evaldowolkers.wordpress.com \"Evaldo Wolkers\") e veja algumas postagens interessantes."
   ]
  },
  {
   "cell_type": "markdown",
   "metadata": {},
   "source": [
    "Resultado:  \n",
    "Acesse o link a seguir: [Blog do Evaldo Wolkers](https://evaldowolkers.wordpress.com \"Evaldo Wolkers\") e veja algumas postagens interessantes."
   ]
  },
  {
   "cell_type": "markdown",
   "metadata": {},
   "source": [
    "## Tabelas"
   ]
  },
  {
   "attachments": {},
   "cell_type": "markdown",
   "metadata": {},
   "source": [
    "Podemos também criar tabelas utilizando o caracter “|” (pipe)."
   ]
  },
  {
   "cell_type": "raw",
   "metadata": {},
   "source": [
    "| CODIGO | DESCRICAO | VALOR UNITARIO | QUANTIDADE | VALOR TOTAL |\n",
    "|--------|-----------|----------------|------------|-------------|\n",
    "| 01 | CERVEJA | 5,00 | 10 | 50,00 |\n",
    "| 02 | CARNE | 25,00 | 3 | 75,00 |\n",
    "| 03 | CARVAO | 12,00 | 1 | 12,00 |\n",
    "| 04 | REFRIGERANTE | 4,00 | 5 | 20,00 |\n",
    "\n",
    "\n",
    "\n",
    "\n",
    "| Código | Nome  | Telefone   |\n",
    "|--------|-------|------------|\n",
    "| 1      | João  | 2222222222 |\n",
    "| 2      | Maria | 3333333333 |\n",
    "| 3      | José  | 1111111111 |\n"
   ]
  },
  {
   "cell_type": "markdown",
   "metadata": {},
   "source": [
    "| CODIGO | DESCRICAO | VALOR UNITARIO | QUANTIDADE | VALOR TOTAL |\n",
    "|--------|-----------|----------------|------------|-------------|\n",
    "| 01 | CERVEJA | 5,00 | 10 | 50,00 |\n",
    "| 02 | CARNE | 25,00 | 3 | 75,00 |\n",
    "| 03 | CARVAO | 12,00 | 1 | 12,00 |\n",
    "| 04 | REFRIGERANTE | 4,00 | 5 | 20,00 |\n",
    "\n",
    "\n",
    "\n",
    "\n",
    "| Código | Nome  | Telefone   |\n",
    "|--------|-------|------------|\n",
    "| 1      | João  | 2222222222 |\n",
    "| 2      | Maria | 3333333333 |\n",
    "| 3      | José  | 1111111111 |"
   ]
  },
  {
   "cell_type": "raw",
   "metadata": {},
   "source": [
    "Um site interessante para você criar suas tabelas visualmente é:\n",
    "http://www.tablesgenerator.com/markdown_tables "
   ]
  },
  {
   "cell_type": "markdown",
   "metadata": {},
   "source": [
    "![Gerador de Tabelas](img/tablesgenerator.png)"
   ]
  },
  {
   "cell_type": "markdown",
   "metadata": {},
   "source": [
    "## Texto destacado"
   ]
  },
  {
   "cell_type": "markdown",
   "metadata": {},
   "source": [
    "Para destacar palavras dentro do texto podemos usar o caractere crase \"\\`\".  \n",
    "\n",
    "Exemplo:  \n",
    "Olá, vou destacar a palavra a seguir \\`Python\\` e também quero destacar esta palavra \\`Jupyter\\`.\n",
    "\n",
    "Resultado:  \n",
    "Olá, vou destacar a palavra a seguir `Python` e também quero destacar esta palavra `Jupyter`."
   ]
  },
  {
   "cell_type": "markdown",
   "metadata": {},
   "source": [
    "## Código de programação"
   ]
  },
  {
   "attachments": {},
   "cell_type": "markdown",
   "metadata": {},
   "source": [
    "Podemos usar três caracteres de crase (no mínimo) para marcar trechos de código de programação dentro do texto."
   ]
  },
  {
   "cell_type": "raw",
   "metadata": {},
   "source": [
    "Hello World em diversas linguagens:\n",
    "\n",
    "Python\n",
    "```python\n",
    "print(\"Hello World\")\n",
    "```\n",
    "\n",
    "C\n",
    "```c\n",
    "#include <stdio.h>\n",
    "\n",
    "int main(void)\n",
    "{\n",
    "    printf(\"hello, world\\n\");\n",
    "}\n",
    "```\n",
    "\n",
    "Go\n",
    "```go\n",
    "package main\n",
    "\n",
    "import \"fmt\"\n",
    "\n",
    "func main() {\n",
    "    fmt.Println(\"Hello, World\")\n",
    "}\n",
    "```\n",
    "\n",
    "Groovy\n",
    "```groovy\n",
    "println \"Hello World\"\n",
    "```\n",
    "\n",
    "Java\n",
    "```java\n",
    "class HelloWorldApp {\n",
    "    public static void main(String[] args) {\n",
    "        System.out.println(\"Hello World!\");\n",
    "    }\n",
    "}\n",
    "```\n"
   ]
  },
  {
   "cell_type": "markdown",
   "metadata": {},
   "source": [
    "Hello World em diversas linguagens:\n",
    "\n",
    "Python\n",
    "```python\n",
    "print(\"Hello World\")\n",
    "```\n",
    "\n",
    "C\n",
    "```c\n",
    "#include <stdio.h>\n",
    "\n",
    "int main(void)\n",
    "{\n",
    "    printf(\"hello, world\\n\");\n",
    "}\n",
    "```\n",
    "\n",
    "Go\n",
    "```go\n",
    "package main\n",
    "\n",
    "import \"fmt\"\n",
    "\n",
    "func main() {\n",
    "    fmt.Println(\"Hello, World\")\n",
    "}\n",
    "```\n",
    "\n",
    "Groovy\n",
    "```groovy\n",
    "println \"Hello World\"\n",
    "```\n",
    "\n",
    "Java\n",
    "```java\n",
    "class HelloWorldApp {\n",
    "    public static void main(String[] args) {\n",
    "        System.out.println(\"Hello World!\");\n",
    "    }\n",
    "}\n",
    "```"
   ]
  },
  {
   "cell_type": "markdown",
   "metadata": {},
   "source": [
    "## Imagens"
   ]
  },
  {
   "attachments": {},
   "cell_type": "markdown",
   "metadata": {},
   "source": [
    "Para adicionar imagens utilizamos as seguintes marcações:"
   ]
  },
  {
   "cell_type": "raw",
   "metadata": {},
   "source": [
    "- Colocando a imagem diretamente (inline-style):\n",
    "![texto alternativo](endereço “texto exibido ao passar o mouse”)\n",
    "\n",
    "Exemplo:\n",
    "![imagemlagoa](https://upload.wikimedia.org/wikipedia/commons/thumb/4/47/Lagoa_Comprida_Flores.jpg/800px-Lagoa_Comprida_Flores.jpg \"Lagoa\")\n",
    "\n",
    "- Colocando a imagem via referência (reference-style)\n",
    "Criando a referência (não precisa necessariamente criar antes de usar, pode criar no final da célula):\n",
    "[lagoa]:  endereço \" texto exibido ao passar o mouse \"\n",
    "Usando a referência:\n",
    "![texto alternativo][lagoa]\n",
    "\n",
    "Exemplo\n",
    "![imagemlagoa][lagoa]\n",
    "\n",
    "[lagoa]: https://upload.wikimedia.org/wikipedia/commons/thumb/4/47/Lagoa_Comprida_Flores.jpg/800px-Lagoa_Comprida_Flores.jpg \"Lagoa\""
   ]
  },
  {
   "cell_type": "markdown",
   "metadata": {},
   "source": [
    "Colocando a imagem diretamente (inline-style)\n",
    "![imagemlagoa](https://upload.wikimedia.org/wikipedia/commons/thumb/4/47/Lagoa_Comprida_Flores.jpg/800px-Lagoa_Comprida_Flores.jpg \"Lagoa\")\n",
    "\n",
    "Colocando a imagem via referência (reference-style)\n",
    "![imagemlagoa][lagoa]\n",
    "\n",
    "[lagoa]: https://upload.wikimedia.org/wikipedia/commons/thumb/4/47/Lagoa_Comprida_Flores.jpg/800px-Lagoa_Comprida_Flores.jpg \"Lagoa\""
   ]
  },
  {
   "cell_type": "markdown",
   "metadata": {},
   "source": [
    "# Formatação de texto"
   ]
  },
  {
   "attachments": {},
   "cell_type": "markdown",
   "metadata": {},
   "source": [
    "Podemos utilizar a marcação HTML <font\\></font\\> para definirmos a cor do texto."
   ]
  },
  {
   "cell_type": "raw",
   "metadata": {},
   "source": [
    "Exemplo:\n",
    "Coelhinho da Páscoa,\n",
    "Que trazes pra mim?\n",
    "Um ovo, dois ovos,\n",
    "Três ovos assim.\n",
    "\n",
    "Coelhinho da Páscoa,\n",
    "Que cor eles têm?\n",
    "<font color=blue>Azul</font>, <font color=yellow>amarelo</font> e <font color=red>vermelho</font> também,\n",
    "<font color=blue>Azul</font>, <font color=yellow>amarelo</font> e <font color=red>vermelho</font> também!"
   ]
  },
  {
   "cell_type": "markdown",
   "metadata": {},
   "source": [
    "Resultado:  \n",
    "Coelhinho da Páscoa,  \n",
    "Que trazes pra mim?  \n",
    "Um ovo, dois ovos,  \n",
    "Três ovos assim.  \n",
    "\n",
    "Coelhinho da Páscoa,  \n",
    "Que cor eles têm?  \n",
    "<font color=blue>Azul</font>, <font color=yellow>amarelo</font> e <font color=red>vermelho</font> também,  \n",
    "<font color=blue>Azul</font>, <font color=yellow>amarelo</font> e <font color=red>vermelho</font> também!"
   ]
  },
  {
   "cell_type": "code",
   "execution_count": null,
   "metadata": {},
   "outputs": [],
   "source": []
  }
 ],
 "metadata": {
  "kernelspec": {
   "display_name": "Python 3",
   "language": "python",
   "name": "python3"
  },
  "language_info": {
   "codemirror_mode": {
    "name": "ipython",
    "version": 3
   },
   "file_extension": ".py",
   "mimetype": "text/x-python",
   "name": "python",
   "nbconvert_exporter": "python",
   "pygments_lexer": "ipython3",
   "version": "3.6.5"
  }
 },
 "nbformat": 4,
 "nbformat_minor": 2
}
