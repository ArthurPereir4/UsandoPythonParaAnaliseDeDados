{
 "cells": [
  {
   "cell_type": "markdown",
   "metadata": {},
   "source": [
    "# CURSO USANDO PYTHON PARA ANÁLISE DE DADOS"
   ]
  },
  {
   "cell_type": "markdown",
   "metadata": {},
   "source": [
    "https://www.udemy.com/usando-python-para-analise-de-dados"
   ]
  },
  {
   "cell_type": "raw",
   "metadata": {},
   "source": [
    "Evaldo Wolkers"
   ]
  },
  {
   "cell_type": "markdown",
   "metadata": {},
   "source": [
    "## Carregando e armazenando dados em vários formatos de arquivos"
   ]
  },
  {
   "cell_type": "markdown",
   "metadata": {},
   "source": [
    "### Escrevendo dados em formato texto"
   ]
  },
  {
   "cell_type": "raw",
   "metadata": {},
   "source": [
    "Podemos exportar dados de um DataFrame para arquivos de texto usando o método to_csv() do DataFrame.\n",
    "Vamos começar importando o Pandas e o Numpy."
   ]
  },
  {
   "cell_type": "code",
   "execution_count": 1,
   "metadata": {},
   "outputs": [],
   "source": [
    "import pandas as pd\n",
    "import numpy as np"
   ]
  },
  {
   "cell_type": "raw",
   "metadata": {},
   "source": [
    "Agora vamos gerar um DataFrame com dados aleatórios, contendo 100.000 linhas e 26 colunas.\n",
    "Vamos usar as letras do alfabeto para identificar as colunas."
   ]
  },
  {
   "cell_type": "code",
   "execution_count": 10,
   "metadata": {},
   "outputs": [],
   "source": [
    "df = pd.DataFrame(np.random.randn(100000, 26),\n",
    "                  columns=list('ABCDEFGHIJKLMNOPQRSTUVWXYZ'))"
   ]
  },
  {
   "cell_type": "raw",
   "metadata": {},
   "source": [
    "Como você poderá ver na imagem a seguir, ao visualizar o conteúdo do Dataframe veremos apenas 8 linhas, sendo, quatro do início e quatro do final do DataFrame.\n",
    "Isso porque foi definido o número máximo de linhas para oito com o comando:"
   ]
  },
  {
   "cell_type": "code",
   "execution_count": 12,
   "metadata": {},
   "outputs": [],
   "source": [
    "pd.options.display.max_rows=8"
   ]
  },
  {
   "cell_type": "code",
   "execution_count": 11,
   "metadata": {},
   "outputs": [
    {
     "data": {
      "text/html": [
       "<div>\n",
       "<style scoped>\n",
       "    .dataframe tbody tr th:only-of-type {\n",
       "        vertical-align: middle;\n",
       "    }\n",
       "\n",
       "    .dataframe tbody tr th {\n",
       "        vertical-align: top;\n",
       "    }\n",
       "\n",
       "    .dataframe thead th {\n",
       "        text-align: right;\n",
       "    }\n",
       "</style>\n",
       "<table border=\"1\" class=\"dataframe\">\n",
       "  <thead>\n",
       "    <tr style=\"text-align: right;\">\n",
       "      <th></th>\n",
       "      <th>A</th>\n",
       "      <th>B</th>\n",
       "      <th>C</th>\n",
       "      <th>D</th>\n",
       "      <th>E</th>\n",
       "      <th>F</th>\n",
       "      <th>G</th>\n",
       "      <th>H</th>\n",
       "      <th>I</th>\n",
       "      <th>J</th>\n",
       "      <th>...</th>\n",
       "      <th>Q</th>\n",
       "      <th>R</th>\n",
       "      <th>S</th>\n",
       "      <th>T</th>\n",
       "      <th>U</th>\n",
       "      <th>V</th>\n",
       "      <th>W</th>\n",
       "      <th>X</th>\n",
       "      <th>Y</th>\n",
       "      <th>Z</th>\n",
       "    </tr>\n",
       "  </thead>\n",
       "  <tbody>\n",
       "    <tr>\n",
       "      <td>0</td>\n",
       "      <td>0.485033</td>\n",
       "      <td>-0.345434</td>\n",
       "      <td>-0.393798</td>\n",
       "      <td>1.614686</td>\n",
       "      <td>-0.001967</td>\n",
       "      <td>0.100296</td>\n",
       "      <td>0.166128</td>\n",
       "      <td>0.652852</td>\n",
       "      <td>0.640477</td>\n",
       "      <td>-1.639274</td>\n",
       "      <td>...</td>\n",
       "      <td>-0.633519</td>\n",
       "      <td>-0.774972</td>\n",
       "      <td>-0.631694</td>\n",
       "      <td>-0.327312</td>\n",
       "      <td>1.148083</td>\n",
       "      <td>-0.573567</td>\n",
       "      <td>0.803969</td>\n",
       "      <td>0.364107</td>\n",
       "      <td>1.066088</td>\n",
       "      <td>0.849563</td>\n",
       "    </tr>\n",
       "    <tr>\n",
       "      <td>1</td>\n",
       "      <td>-1.016669</td>\n",
       "      <td>0.649413</td>\n",
       "      <td>-0.369399</td>\n",
       "      <td>0.945271</td>\n",
       "      <td>0.040730</td>\n",
       "      <td>1.099865</td>\n",
       "      <td>-0.601038</td>\n",
       "      <td>-1.014448</td>\n",
       "      <td>1.110866</td>\n",
       "      <td>0.069572</td>\n",
       "      <td>...</td>\n",
       "      <td>0.581508</td>\n",
       "      <td>-0.921817</td>\n",
       "      <td>-0.450664</td>\n",
       "      <td>-1.025606</td>\n",
       "      <td>-0.892891</td>\n",
       "      <td>0.369833</td>\n",
       "      <td>0.883211</td>\n",
       "      <td>-0.173558</td>\n",
       "      <td>-0.243798</td>\n",
       "      <td>0.733000</td>\n",
       "    </tr>\n",
       "    <tr>\n",
       "      <td>2</td>\n",
       "      <td>1.070810</td>\n",
       "      <td>-2.666222</td>\n",
       "      <td>-1.113743</td>\n",
       "      <td>-0.067586</td>\n",
       "      <td>-0.124944</td>\n",
       "      <td>0.008870</td>\n",
       "      <td>0.589807</td>\n",
       "      <td>0.108029</td>\n",
       "      <td>-0.264044</td>\n",
       "      <td>0.183298</td>\n",
       "      <td>...</td>\n",
       "      <td>-0.833616</td>\n",
       "      <td>1.620193</td>\n",
       "      <td>-0.958837</td>\n",
       "      <td>-0.529523</td>\n",
       "      <td>-1.257268</td>\n",
       "      <td>-0.726185</td>\n",
       "      <td>2.279548</td>\n",
       "      <td>1.282296</td>\n",
       "      <td>-0.544645</td>\n",
       "      <td>0.580070</td>\n",
       "    </tr>\n",
       "    <tr>\n",
       "      <td>3</td>\n",
       "      <td>0.093775</td>\n",
       "      <td>1.623235</td>\n",
       "      <td>2.905946</td>\n",
       "      <td>-0.042831</td>\n",
       "      <td>0.413616</td>\n",
       "      <td>0.764938</td>\n",
       "      <td>0.653329</td>\n",
       "      <td>1.082971</td>\n",
       "      <td>0.633434</td>\n",
       "      <td>1.216340</td>\n",
       "      <td>...</td>\n",
       "      <td>-0.177359</td>\n",
       "      <td>-1.422621</td>\n",
       "      <td>0.119717</td>\n",
       "      <td>1.012600</td>\n",
       "      <td>-1.043926</td>\n",
       "      <td>2.408754</td>\n",
       "      <td>-0.397450</td>\n",
       "      <td>-0.125611</td>\n",
       "      <td>-0.384994</td>\n",
       "      <td>1.476345</td>\n",
       "    </tr>\n",
       "    <tr>\n",
       "      <td>...</td>\n",
       "      <td>...</td>\n",
       "      <td>...</td>\n",
       "      <td>...</td>\n",
       "      <td>...</td>\n",
       "      <td>...</td>\n",
       "      <td>...</td>\n",
       "      <td>...</td>\n",
       "      <td>...</td>\n",
       "      <td>...</td>\n",
       "      <td>...</td>\n",
       "      <td>...</td>\n",
       "      <td>...</td>\n",
       "      <td>...</td>\n",
       "      <td>...</td>\n",
       "      <td>...</td>\n",
       "      <td>...</td>\n",
       "      <td>...</td>\n",
       "      <td>...</td>\n",
       "      <td>...</td>\n",
       "      <td>...</td>\n",
       "      <td>...</td>\n",
       "    </tr>\n",
       "    <tr>\n",
       "      <td>99996</td>\n",
       "      <td>1.320003</td>\n",
       "      <td>0.575220</td>\n",
       "      <td>0.822213</td>\n",
       "      <td>0.208702</td>\n",
       "      <td>1.086502</td>\n",
       "      <td>0.784380</td>\n",
       "      <td>0.202163</td>\n",
       "      <td>0.182784</td>\n",
       "      <td>0.568002</td>\n",
       "      <td>1.041433</td>\n",
       "      <td>...</td>\n",
       "      <td>0.209622</td>\n",
       "      <td>-1.735041</td>\n",
       "      <td>-1.561037</td>\n",
       "      <td>0.611450</td>\n",
       "      <td>-0.267709</td>\n",
       "      <td>1.118538</td>\n",
       "      <td>0.417651</td>\n",
       "      <td>-0.568213</td>\n",
       "      <td>0.423311</td>\n",
       "      <td>-1.043011</td>\n",
       "    </tr>\n",
       "    <tr>\n",
       "      <td>99997</td>\n",
       "      <td>-0.858624</td>\n",
       "      <td>-0.286410</td>\n",
       "      <td>1.084309</td>\n",
       "      <td>0.204710</td>\n",
       "      <td>0.094744</td>\n",
       "      <td>-0.055045</td>\n",
       "      <td>-0.594217</td>\n",
       "      <td>0.847468</td>\n",
       "      <td>0.077236</td>\n",
       "      <td>-1.485857</td>\n",
       "      <td>...</td>\n",
       "      <td>-1.321139</td>\n",
       "      <td>0.582319</td>\n",
       "      <td>-1.537939</td>\n",
       "      <td>-0.079713</td>\n",
       "      <td>-0.827211</td>\n",
       "      <td>0.402212</td>\n",
       "      <td>2.490340</td>\n",
       "      <td>-0.336243</td>\n",
       "      <td>-0.753009</td>\n",
       "      <td>0.655107</td>\n",
       "    </tr>\n",
       "    <tr>\n",
       "      <td>99998</td>\n",
       "      <td>0.843541</td>\n",
       "      <td>1.301511</td>\n",
       "      <td>0.441663</td>\n",
       "      <td>-1.363562</td>\n",
       "      <td>0.475709</td>\n",
       "      <td>0.450311</td>\n",
       "      <td>0.022528</td>\n",
       "      <td>-2.243839</td>\n",
       "      <td>-0.603900</td>\n",
       "      <td>-0.587130</td>\n",
       "      <td>...</td>\n",
       "      <td>-0.601389</td>\n",
       "      <td>-1.554070</td>\n",
       "      <td>-0.472206</td>\n",
       "      <td>0.128906</td>\n",
       "      <td>-0.638424</td>\n",
       "      <td>1.452614</td>\n",
       "      <td>2.302620</td>\n",
       "      <td>0.006880</td>\n",
       "      <td>-0.018298</td>\n",
       "      <td>-1.668283</td>\n",
       "    </tr>\n",
       "    <tr>\n",
       "      <td>99999</td>\n",
       "      <td>-1.797786</td>\n",
       "      <td>-0.110297</td>\n",
       "      <td>-1.156075</td>\n",
       "      <td>-0.601392</td>\n",
       "      <td>-0.775781</td>\n",
       "      <td>-0.107749</td>\n",
       "      <td>0.357712</td>\n",
       "      <td>-0.388636</td>\n",
       "      <td>-1.389150</td>\n",
       "      <td>-0.002033</td>\n",
       "      <td>...</td>\n",
       "      <td>-0.276535</td>\n",
       "      <td>-1.409405</td>\n",
       "      <td>0.880716</td>\n",
       "      <td>-1.618416</td>\n",
       "      <td>0.113897</td>\n",
       "      <td>1.593986</td>\n",
       "      <td>0.847909</td>\n",
       "      <td>0.905163</td>\n",
       "      <td>0.278620</td>\n",
       "      <td>-0.069898</td>\n",
       "    </tr>\n",
       "  </tbody>\n",
       "</table>\n",
       "<p>100000 rows × 26 columns</p>\n",
       "</div>"
      ],
      "text/plain": [
       "              A         B         C         D         E         F         G  \\\n",
       "0      0.485033 -0.345434 -0.393798  1.614686 -0.001967  0.100296  0.166128   \n",
       "1     -1.016669  0.649413 -0.369399  0.945271  0.040730  1.099865 -0.601038   \n",
       "2      1.070810 -2.666222 -1.113743 -0.067586 -0.124944  0.008870  0.589807   \n",
       "3      0.093775  1.623235  2.905946 -0.042831  0.413616  0.764938  0.653329   \n",
       "...         ...       ...       ...       ...       ...       ...       ...   \n",
       "99996  1.320003  0.575220  0.822213  0.208702  1.086502  0.784380  0.202163   \n",
       "99997 -0.858624 -0.286410  1.084309  0.204710  0.094744 -0.055045 -0.594217   \n",
       "99998  0.843541  1.301511  0.441663 -1.363562  0.475709  0.450311  0.022528   \n",
       "99999 -1.797786 -0.110297 -1.156075 -0.601392 -0.775781 -0.107749  0.357712   \n",
       "\n",
       "              H         I         J  ...         Q         R         S  \\\n",
       "0      0.652852  0.640477 -1.639274  ... -0.633519 -0.774972 -0.631694   \n",
       "1     -1.014448  1.110866  0.069572  ...  0.581508 -0.921817 -0.450664   \n",
       "2      0.108029 -0.264044  0.183298  ... -0.833616  1.620193 -0.958837   \n",
       "3      1.082971  0.633434  1.216340  ... -0.177359 -1.422621  0.119717   \n",
       "...         ...       ...       ...  ...       ...       ...       ...   \n",
       "99996  0.182784  0.568002  1.041433  ...  0.209622 -1.735041 -1.561037   \n",
       "99997  0.847468  0.077236 -1.485857  ... -1.321139  0.582319 -1.537939   \n",
       "99998 -2.243839 -0.603900 -0.587130  ... -0.601389 -1.554070 -0.472206   \n",
       "99999 -0.388636 -1.389150 -0.002033  ... -0.276535 -1.409405  0.880716   \n",
       "\n",
       "              T         U         V         W         X         Y         Z  \n",
       "0     -0.327312  1.148083 -0.573567  0.803969  0.364107  1.066088  0.849563  \n",
       "1     -1.025606 -0.892891  0.369833  0.883211 -0.173558 -0.243798  0.733000  \n",
       "2     -0.529523 -1.257268 -0.726185  2.279548  1.282296 -0.544645  0.580070  \n",
       "3      1.012600 -1.043926  2.408754 -0.397450 -0.125611 -0.384994  1.476345  \n",
       "...         ...       ...       ...       ...       ...       ...       ...  \n",
       "99996  0.611450 -0.267709  1.118538  0.417651 -0.568213  0.423311 -1.043011  \n",
       "99997 -0.079713 -0.827211  0.402212  2.490340 -0.336243 -0.753009  0.655107  \n",
       "99998  0.128906 -0.638424  1.452614  2.302620  0.006880 -0.018298 -1.668283  \n",
       "99999 -1.618416  0.113897  1.593986  0.847909  0.905163  0.278620 -0.069898  \n",
       "\n",
       "[100000 rows x 26 columns]"
      ]
     },
     "execution_count": 11,
     "metadata": {},
     "output_type": "execute_result"
    }
   ],
   "source": [
    "df"
   ]
  },
  {
   "cell_type": "raw",
   "metadata": {},
   "source": [
    "Agora vamos exportar o conteúdo de nosso DataFrame para um arquivo chamado “dados1.csv”."
   ]
  },
  {
   "cell_type": "code",
   "execution_count": 13,
   "metadata": {},
   "outputs": [],
   "source": [
    "df.to_csv('dados1.csv')"
   ]
  },
  {
   "cell_type": "raw",
   "metadata": {},
   "source": [
    "Verifique na pasta onde está sendo executado o Jupyter Notebook o arquivo gerado."
   ]
  },
  {
   "cell_type": "markdown",
   "metadata": {},
   "source": [
    "![title](Picture1.png)"
   ]
  },
  {
   "cell_type": "raw",
   "metadata": {},
   "source": [
    "Veja o arquivo aberto no Excel e no Notepad++."
   ]
  },
  {
   "cell_type": "markdown",
   "metadata": {},
   "source": [
    "![title](Picture2.png)"
   ]
  },
  {
   "cell_type": "markdown",
   "metadata": {},
   "source": [
    "![title](Picture3.png)"
   ]
  },
  {
   "cell_type": "raw",
   "metadata": {},
   "source": [
    "Por padrão o delimitador utilizado é a vírgula, porém, podemos definir um delimitador diferente utilizando sep=delimitador."
   ]
  },
  {
   "cell_type": "code",
   "execution_count": 21,
   "metadata": {},
   "outputs": [],
   "source": [
    "df.to_csv('dados2.csv', sep='/')"
   ]
  },
  {
   "cell_type": "raw",
   "metadata": {},
   "source": [
    "Veja o resultado:"
   ]
  },
  {
   "cell_type": "markdown",
   "metadata": {},
   "source": [
    "![title](Picture4.png)"
   ]
  },
  {
   "cell_type": "raw",
   "metadata": {},
   "source": [
    "Observe que os rótulos, tanto das linhas, quanto das colunas foram exportados."
   ]
  },
  {
   "cell_type": "markdown",
   "metadata": {},
   "source": [
    "![title](Picture5.png)"
   ]
  },
  {
   "cell_type": "raw",
   "metadata": {},
   "source": [
    "Para gerar o arquivo sem o rótulo das linhas podemos especificar o parâmetro index=False."
   ]
  },
  {
   "cell_type": "code",
   "execution_count": 30,
   "metadata": {},
   "outputs": [],
   "source": [
    "df.to_csv('dados_sem_rotulos_das_linhas.csv', index=False)"
   ]
  },
  {
   "cell_type": "raw",
   "metadata": {},
   "source": [
    "Veja o arquivo gerado sem os rótulos das linhas."
   ]
  },
  {
   "cell_type": "markdown",
   "metadata": {},
   "source": [
    "![title](Picture6.png)"
   ]
  },
  {
   "cell_type": "code",
   "execution_count": null,
   "metadata": {},
   "outputs": [],
   "source": [
    "Para gerar o arquivo sem o rótulo das colunas podemos especificar o parâmetro header=False."
   ]
  },
  {
   "cell_type": "code",
   "execution_count": 29,
   "metadata": {},
   "outputs": [],
   "source": [
    "df.to_csv('dados_sem_rotulos_das_colunas.csv', header=False)"
   ]
  },
  {
   "cell_type": "raw",
   "metadata": {},
   "source": [
    "Veja o arquivo gerado sem os rótulos das colunas."
   ]
  },
  {
   "cell_type": "markdown",
   "metadata": {},
   "source": [
    "![title](Picture7.png)"
   ]
  },
  {
   "cell_type": "raw",
   "metadata": {},
   "source": [
    "Podemos também especificar as colunas que queremos exportar e sua ordem."
   ]
  },
  {
   "cell_type": "code",
   "execution_count": 32,
   "metadata": {},
   "outputs": [],
   "source": [
    "df.to_csv('dados_colunas_especificas.csv', columns=['A', 'K', 'X', 'B', 'W'])"
   ]
  },
  {
   "cell_type": "raw",
   "metadata": {},
   "source": [
    "Veja o arquivo gerado."
   ]
  },
  {
   "cell_type": "markdown",
   "metadata": {},
   "source": [
    "![title](Picture8.png)"
   ]
  },
  {
   "cell_type": "raw",
   "metadata": {},
   "source": [
    "Podemos também exportar os dados de uma Series pois este objeto também possui o método to_csv()."
   ]
  },
  {
   "cell_type": "raw",
   "metadata": {},
   "source": [
    "Vamos utilizar o date_range do Pandas para gerar uma sequência de datas para utilizarmos como índice de nossa Serie. O índice conterá as datas de 01/01/2019 a 31/01/2019, para isso informamos os parâmetros start e end."
   ]
  },
  {
   "cell_type": "code",
   "execution_count": 46,
   "metadata": {},
   "outputs": [],
   "source": [
    "datas = pd.date_range(start='01/01/2019', end='31/01/2019')"
   ]
  },
  {
   "cell_type": "code",
   "execution_count": 47,
   "metadata": {},
   "outputs": [
    {
     "data": {
      "text/plain": [
       "DatetimeIndex(['2019-01-01', '2019-01-02', '2019-01-03', '2019-01-04',\n",
       "               '2019-01-05', '2019-01-06', '2019-01-07', '2019-01-08',\n",
       "               '2019-01-09', '2019-01-10', '2019-01-11', '2019-01-12',\n",
       "               '2019-01-13', '2019-01-14', '2019-01-15', '2019-01-16',\n",
       "               '2019-01-17', '2019-01-18', '2019-01-19', '2019-01-20',\n",
       "               '2019-01-21', '2019-01-22', '2019-01-23', '2019-01-24',\n",
       "               '2019-01-25', '2019-01-26', '2019-01-27', '2019-01-28',\n",
       "               '2019-01-29', '2019-01-30', '2019-01-31'],\n",
       "              dtype='datetime64[ns]', freq='D')"
      ]
     },
     "execution_count": 47,
     "metadata": {},
     "output_type": "execute_result"
    }
   ],
   "source": [
    "datas"
   ]
  },
  {
   "cell_type": "markdown",
   "metadata": {},
   "source": [
    "![title](Picture9.png)"
   ]
  },
  {
   "cell_type": "raw",
   "metadata": {},
   "source": [
    "Agora vamos gerar uma sequência com 31 valores, utilizando a variável datas como índice."
   ]
  },
  {
   "cell_type": "code",
   "execution_count": 48,
   "metadata": {},
   "outputs": [],
   "source": [
    "serie = pd.Series(np.arange(31), index=datas)"
   ]
  },
  {
   "cell_type": "code",
   "execution_count": 49,
   "metadata": {},
   "outputs": [
    {
     "data": {
      "text/plain": [
       "2019-01-01     0\n",
       "2019-01-02     1\n",
       "2019-01-03     2\n",
       "2019-01-04     3\n",
       "              ..\n",
       "2019-01-28    27\n",
       "2019-01-29    28\n",
       "2019-01-30    29\n",
       "2019-01-31    30\n",
       "Freq: D, Length: 31, dtype: int32"
      ]
     },
     "execution_count": 49,
     "metadata": {},
     "output_type": "execute_result"
    }
   ],
   "source": [
    "serie"
   ]
  },
  {
   "cell_type": "raw",
   "metadata": {},
   "source": [
    "Vamos agora exportar os dados da Serie para um arquivo."
   ]
  },
  {
   "cell_type": "code",
   "execution_count": 50,
   "metadata": {},
   "outputs": [
    {
     "name": "stderr",
     "output_type": "stream",
     "text": [
      "C:\\Users\\Wolkers\\Anaconda3\\lib\\site-packages\\ipykernel_launcher.py:1: FutureWarning: The signature of `Series.to_csv` was aligned to that of `DataFrame.to_csv`, and argument 'header' will change its default value from False to True: please pass an explicit value to suppress this warning.\n",
      "  \"\"\"Entry point for launching an IPython kernel.\n"
     ]
    }
   ],
   "source": [
    "serie.to_csv('serie.csv')"
   ]
  },
  {
   "cell_type": "raw",
   "metadata": {},
   "source": [
    "C:\\Users\\Wolkers\\Anaconda3\\lib\\site-packages\\ipykernel_launcher.py:1: FutureWarning: The signature of `Series.to_csv` was aligned to that of `DataFrame.to_csv`, and argument 'header' will change its default value from False to True: please pass an explicit value to suppress this warning.\n",
    "  \"\"\"Entry point for launching an IPython kernel.\n",
    "\n",
    "Este aviso diz que a assinatura do método to_csv das Series foi alinhada com a dos DataFrames e o argumento header terá seu valor padrão alterado de False para True. Agora, precisamos definir o valor do header para suprimir este aviso."
   ]
  },
  {
   "cell_type": "code",
   "execution_count": 51,
   "metadata": {},
   "outputs": [],
   "source": [
    "serie.to_csv('serie.csv', header=False)"
   ]
  },
  {
   "cell_type": "raw",
   "metadata": {},
   "source": [
    "Arquivo gerado:"
   ]
  },
  {
   "cell_type": "markdown",
   "metadata": {},
   "source": [
    "![title](Picture10.png)"
   ]
  },
  {
   "cell_type": "code",
   "execution_count": null,
   "metadata": {},
   "outputs": [],
   "source": []
  },
  {
   "cell_type": "code",
   "execution_count": 22,
   "metadata": {},
   "outputs": [],
   "source": [
    "produtos = {'Descricao':['Açúcar','Aveia em flocos','Caldo de carne','Caldo de galinha',\n",
    "            'Caldo de legumes','Catchup','Extrato de tomate','Gelatina em pó',\n",
    "            'Iogurte de frutas','Leite de coco','Leite fermentado','Macarrão instantâneo',\n",
    "            'Massa de lasanha','Óleo','Sal','Suco de frutas','Adoçante','Azeite',\n",
    "            'Bebida láctea','Cereal','Creme de leite','Fermento biológico','Geleia',\n",
    "            'Iogurte natural','Leite desnatado','Leite integral','Maionese','Molho de tomate',\n",
    "            'Ovos','Sal grosso','Torradas','Arroz','Barras de cereal','Chá em saquinho','Essência de baunilha',\n",
    "            'Fermento em pó','Granola','Leite condensado','Leite em pó','Macarrão','Maisena','Mostarda',\n",
    "            'Polpa de tomate','Sopa','Vinagre','Massa de bolo','Biscoito','Café','Farinha de rosca','Farinha de mandioca',\n",
    "            'Farinha de trigo','Farinha de milho','Feijão','Lentilha','Fubá','Soja','Farofa','Grão de bico','Achocolatado em pó',\n",
    "            'Azeitonas','Palmito','Aspargo','Champignon','Atum','Ervilha','Milho'],\n",
    "            'Preço':[10.25,35.24,10.24,8.88,6.47,18.25,10.12,8.76,7.40,6.04,\n",
    "             20.00,23.00,12.92,12.80,12.68,12.56,12.43,12.31,12.19,\n",
    "             12.07,11.94,11.82,11.70,11.58,11.46,11.33,11.21,11.09,\n",
    "             10.97,10.84,10.72,10.60,10.48,10.35,10.23,10.11,9.99,\n",
    "             9.86,9.74,9.62,9.50,9.37,9.25,9.13,9.01,8.88,8.76,\n",
    "             8.64,8.52,8.39,8.27,8.15,8.03,7.90,7.78,7.66,7.54,7.41,\n",
    "             7.29,7.17,7.05,6.93,6.80,6.68,6.56,6.44]}"
   ]
  },
  {
   "cell_type": "code",
   "execution_count": 23,
   "metadata": {},
   "outputs": [
    {
     "data": {
      "text/plain": [
       "{'Descricao': ['Açúcar',\n",
       "  'Aveia em flocos',\n",
       "  'Caldo de carne',\n",
       "  'Caldo de galinha',\n",
       "  'Caldo de legumes',\n",
       "  'Catchup',\n",
       "  'Extrato de tomate',\n",
       "  'Gelatina em pó',\n",
       "  'Iogurte de frutas',\n",
       "  'Leite de coco',\n",
       "  'Leite fermentado',\n",
       "  'Macarrão instantâneo',\n",
       "  'Massa de lasanha',\n",
       "  'Óleo',\n",
       "  'Sal',\n",
       "  'Suco de frutas',\n",
       "  'Adoçante',\n",
       "  'Azeite',\n",
       "  'Bebida láctea',\n",
       "  'Cereal',\n",
       "  'Creme de leite',\n",
       "  'Fermento biológico',\n",
       "  'Geleia',\n",
       "  'Iogurte natural',\n",
       "  'Leite desnatado',\n",
       "  'Leite integral',\n",
       "  'Maionese',\n",
       "  'Molho de tomate',\n",
       "  'Ovos',\n",
       "  'Sal grosso',\n",
       "  'Torradas',\n",
       "  'Arroz',\n",
       "  'Barras de cereal',\n",
       "  'Chá em saquinho',\n",
       "  'Essência de baunilha',\n",
       "  'Fermento em pó',\n",
       "  'Granola',\n",
       "  'Leite condensado',\n",
       "  'Leite em pó',\n",
       "  'Macarrão',\n",
       "  'Maisena',\n",
       "  'Mostarda',\n",
       "  'Polpa de tomate',\n",
       "  'Sopa',\n",
       "  'Vinagre',\n",
       "  'Massa de bolo',\n",
       "  'Biscoito',\n",
       "  'Café',\n",
       "  'Farinha de rosca',\n",
       "  'Farinha de mandioca',\n",
       "  'Farinha de trigo',\n",
       "  'Farinha de milho',\n",
       "  'Feijão',\n",
       "  'Lentilha',\n",
       "  'Fubá',\n",
       "  'Soja',\n",
       "  'Farofa',\n",
       "  'Grão de bico',\n",
       "  'Achocolatado em pó',\n",
       "  'Azeitonas',\n",
       "  'Palmito',\n",
       "  'Aspargo',\n",
       "  'Champignon',\n",
       "  'Atum',\n",
       "  'Ervilha',\n",
       "  'Milho'],\n",
       " 'Preço': [10.25,\n",
       "  35.24,\n",
       "  10.24,\n",
       "  8.88,\n",
       "  6.47,\n",
       "  18.25,\n",
       "  10.12,\n",
       "  8.76,\n",
       "  7.4,\n",
       "  6.04,\n",
       "  20.0,\n",
       "  23.0,\n",
       "  12.92,\n",
       "  12.8,\n",
       "  12.68,\n",
       "  12.56,\n",
       "  12.43,\n",
       "  12.31,\n",
       "  12.19,\n",
       "  12.07,\n",
       "  11.94,\n",
       "  11.82,\n",
       "  11.7,\n",
       "  11.58,\n",
       "  11.46,\n",
       "  11.33,\n",
       "  11.21,\n",
       "  11.09,\n",
       "  10.97,\n",
       "  10.84,\n",
       "  10.72,\n",
       "  10.6,\n",
       "  10.48,\n",
       "  10.35,\n",
       "  10.23,\n",
       "  10.11,\n",
       "  9.99,\n",
       "  9.86,\n",
       "  9.74,\n",
       "  9.62,\n",
       "  9.5,\n",
       "  9.37,\n",
       "  9.25,\n",
       "  9.13,\n",
       "  9.01,\n",
       "  8.88,\n",
       "  8.76,\n",
       "  8.64,\n",
       "  8.52,\n",
       "  8.39,\n",
       "  8.27,\n",
       "  8.15,\n",
       "  8.03,\n",
       "  7.9,\n",
       "  7.78,\n",
       "  7.66,\n",
       "  7.54,\n",
       "  7.41,\n",
       "  7.29,\n",
       "  7.17,\n",
       "  7.05,\n",
       "  6.93,\n",
       "  6.8,\n",
       "  6.68,\n",
       "  6.56,\n",
       "  6.44]}"
      ]
     },
     "execution_count": 23,
     "metadata": {},
     "output_type": "execute_result"
    }
   ],
   "source": [
    "produtos"
   ]
  },
  {
   "cell_type": "code",
   "execution_count": null,
   "metadata": {},
   "outputs": [],
   "source": []
  }
 ],
 "metadata": {
  "kernelspec": {
   "display_name": "Python 3",
   "language": "python",
   "name": "python3"
  },
  "language_info": {
   "codemirror_mode": {
    "name": "ipython",
    "version": 3
   },
   "file_extension": ".py",
   "mimetype": "text/x-python",
   "name": "python",
   "nbconvert_exporter": "python",
   "pygments_lexer": "ipython3",
   "version": "3.7.4"
  }
 },
 "nbformat": 4,
 "nbformat_minor": 2
}
