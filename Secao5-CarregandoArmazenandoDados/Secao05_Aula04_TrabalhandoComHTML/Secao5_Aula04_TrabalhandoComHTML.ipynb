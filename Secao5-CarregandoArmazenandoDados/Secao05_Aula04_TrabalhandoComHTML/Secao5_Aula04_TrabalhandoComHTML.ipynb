{
 "cells": [
  {
   "cell_type": "markdown",
   "metadata": {},
   "source": [
    "# CURSO USANDO PYTHON PARA ANÁLISE DE DADOS"
   ]
  },
  {
   "cell_type": "markdown",
   "metadata": {},
   "source": [
    "https://www.udemy.com/usando-python-para-analise-de-dados"
   ]
  },
  {
   "cell_type": "raw",
   "metadata": {},
   "source": [
    "Evaldo Wolkers"
   ]
  },
  {
   "cell_type": "markdown",
   "metadata": {},
   "source": [
    "## Carregando e armazenando dados em vários formatos de arquivos"
   ]
  },
  {
   "cell_type": "markdown",
   "metadata": {},
   "source": [
    "### Trabalhando com HTML"
   ]
  },
  {
   "cell_type": "raw",
   "metadata": {},
   "source": [
    "Existem muitas bibliotecas para ler e gravar HTML e XML, como o Beautiful Soup, lxml e html5lib.\n",
    "O Pandas possui uma função embutida denominada read_html que utiliza bibliotecas como lxml e Beautiful Soup para fazer parse automaticamente de tabelas existentes em arquivos HTML para objetos DataFrame."
   ]
  },
  {
   "cell_type": "raw",
   "metadata": {},
   "source": [
    "Usando o read_html informando apenas o caminho do arquivo HTML, por padrão o Pandas tenta fazer o parse de dados tabulares contidos em tags <table></table>.\n",
    "Vamos criar um arquivo HTML de exemplo, com uma tabela para carregarmos os dados da tabela com o Pandas."
   ]
  },
  {
   "cell_type": "raw",
   "metadata": {},
   "source": [
    "Este é o conteúdo do arquivo exemplo1.html\n",
    "\n",
    "<html>\n",
    "    <head>\n",
    "        <meta charset=\"UTF-8\">\n",
    "        <title>Municípios</title>\n",
    "    </head>\n",
    "<body>\n",
    "    Tabela:\n",
    "    <table>\n",
    "        <tr>\n",
    "            <th>Município</th>\n",
    "            <th>População</th>\n",
    "        </tr>\n",
    "        <tr>\n",
    "            <td>Serra</td>\n",
    "            <td>507.598</td>\n",
    "        </tr>\n",
    "        <tr>\n",
    "            <td>Vila Velha</td>\n",
    "            <td>486.208</td>\n",
    "        </tr>\n",
    "        <tr>\n",
    "            <td>Cariacica</td>\n",
    "            <td>387.368</td>\n",
    "        </tr>\n",
    "        <tr>\n",
    "            <td>Vitória</td>\n",
    "            <td>358.267</td>\n",
    "        </tr>\n",
    "        <tr>\n",
    "            <td>Cachoeiro de Itapemirim</td>\n",
    "            <td>220.670</td>\n",
    "        </tr>\n",
    "        <tr>\n",
    "            <td>Linhares</td>\n",
    "            <td>173.555</td>\n",
    "        </tr>\n",
    "        <tr>\n",
    "            <td>São Mateus</td>\n",
    "            <td>130.611</td>\n",
    "        </tr>\n",
    "    </table>\n",
    "</body>\n",
    "</html>"
   ]
  },
  {
   "cell_type": "raw",
   "metadata": {},
   "source": [
    "Veja o conteúdo do arquivo quando abrimos usando um browser."
   ]
  },
  {
   "cell_type": "markdown",
   "metadata": {},
   "source": [
    "![Picture1.png](Picture1.png)"
   ]
  },
  {
   "cell_type": "raw",
   "metadata": {},
   "source": [
    "Veja agora como fazemos para carregar o arquivo usando o read_html do Pandas. Execute o código abaixo para ver também seu resultado."
   ]
  },
  {
   "cell_type": "code",
   "execution_count": 1,
   "metadata": {},
   "outputs": [
    {
     "name": "stdout",
     "output_type": "stream",
     "text": [
      "[                 Município  População\n",
      "0                    Serra    507.598\n",
      "1               Vila Velha    486.208\n",
      "2                Cariacica    387.368\n",
      "3                  Vitória    358.267\n",
      "4  Cachoeiro de Itapemirim    220.670\n",
      "5                 Linhares    173.555\n",
      "6               São Mateus    130.611]\n"
     ]
    }
   ],
   "source": [
    "import pandas as pd\n",
    "tabela = pd.read_html('exemplo1.html')\n",
    "print(tabela)"
   ]
  },
  {
   "cell_type": "raw",
   "metadata": {},
   "source": [
    "O arquivo exemplo2.html possui duas tabelas, veja a página exibida em um browser."
   ]
  },
  {
   "cell_type": "markdown",
   "metadata": {},
   "source": [
    "![Picture2.png](Picture2.png)"
   ]
  },
  {
   "cell_type": "raw",
   "metadata": {},
   "source": [
    "Execute o programa a seguir e veja o resultado."
   ]
  },
  {
   "cell_type": "code",
   "execution_count": 2,
   "metadata": {},
   "outputs": [
    {
     "name": "stdout",
     "output_type": "stream",
     "text": [
      "============================\n",
      "                 Município  População\n",
      "0                    Serra    507.598\n",
      "1               Vila Velha    486.208\n",
      "2                Cariacica    387.368\n",
      "3                  Vitória    358.267\n",
      "4  Cachoeiro de Itapemirim    220.670\n",
      "5                 Linhares    173.555\n",
      "6               São Mateus    130.611\n",
      "============================\n",
      "   Município  População\n",
      "0  Guarapari    124.859\n",
      "1   Colatina    122.499\n",
      "2    Aracruz    101.220\n",
      "3      Viana     78.239\n",
      "============================\n"
     ]
    }
   ],
   "source": [
    "import pandas as pd\n",
    "\n",
    "\n",
    "tabela = pd.read_html('exemplo2.html')\n",
    "print(\"============================\")\n",
    "print(tabela[0])\n",
    "print(\"============================\")\n",
    "print(tabela[1])\n",
    "print(\"============================\")"
   ]
  },
  {
   "cell_type": "raw",
   "metadata": {},
   "source": [
    "Podemos também informar como parâmetro o endereço de uma página html. Veja um exemplo tirado da documentação do Pandas onde é carregada uma página da agência governamental FDIC (Federal Deposit Insurance Corporation) dos Estados Unidos, que mostra falências de bancos. Execute o código a seguir e veja o resultado."
   ]
  },
  {
   "cell_type": "code",
   "execution_count": 3,
   "metadata": {},
   "outputs": [
    {
     "name": "stdout",
     "output_type": "stream",
     "text": [
      "[                               Bank Name        City  ST   CERT  \\\n",
      "0       City National Bank of New Jersey      Newark  NJ  21111   \n",
      "1                          Resolute Bank      Maumee  OH  58317   \n",
      "2                  Louisa Community Bank      Louisa  KY  58112   \n",
      "3                   The Enloe State Bank      Cooper  TX  10716   \n",
      "4    Washington Federal Bank for Savings     Chicago  IL  30570   \n",
      "..                                   ...         ...  ..    ...   \n",
      "554                   Superior Bank, FSB    Hinsdale  IL  32646   \n",
      "555                  Malta National Bank       Malta  OH   6629   \n",
      "556      First Alliance Bank & Trust Co.  Manchester  NH  34264   \n",
      "557    National State Bank of Metropolis  Metropolis  IL   3815   \n",
      "558                     Bank of Honolulu    Honolulu  HI  21029   \n",
      "\n",
      "                   Acquiring Institution       Closing Date  \n",
      "0                        Industrial Bank   November 1, 2019  \n",
      "1                     Buckeye State Bank   October 25, 2019  \n",
      "2      Kentucky Farmers Bank Corporation   October 25, 2019  \n",
      "3                     Legend Bank, N. A.       May 31, 2019  \n",
      "4                     Royal Savings Bank  December 15, 2017  \n",
      "..                                   ...                ...  \n",
      "554                Superior Federal, FSB      July 27, 2001  \n",
      "555                    North Valley Bank        May 3, 2001  \n",
      "556  Southern New Hampshire Bank & Trust   February 2, 2001  \n",
      "557              Banterra Bank of Marion  December 14, 2000  \n",
      "558                   Bank of the Orient   October 13, 2000  \n",
      "\n",
      "[559 rows x 6 columns]]\n"
     ]
    }
   ],
   "source": [
    "import pandas as pd\n",
    "\n",
    "url = 'https://www.fdic.gov/bank/individual/failed/banklist.html'\n",
    "dfs = pd.read_html(url)\n",
    "print(dfs)"
   ]
  },
  {
   "cell_type": "raw",
   "metadata": {},
   "source": [
    "Podemos utilizar o parâmetro match (corresponder) do read_html para retornar uma tabela que contenha um conteúdo específico.\n",
    "Em nosso exemplo2.html temos duas tabelas, vamos trazer somente a tabela que contenha o município “Viana”."
   ]
  },
  {
   "cell_type": "code",
   "execution_count": 4,
   "metadata": {},
   "outputs": [
    {
     "name": "stdout",
     "output_type": "stream",
     "text": [
      "[   Município  População\n",
      "0  Guarapari    124.859\n",
      "1   Colatina    122.499\n",
      "2    Aracruz    101.220\n",
      "3      Viana     78.239]\n"
     ]
    }
   ],
   "source": [
    "import pandas as pd\n",
    "\n",
    "cidade = 'Viana'\n",
    "lista = pd.read_html('exemplo2.html', match=cidade)\n",
    "print(lista)"
   ]
  },
  {
   "cell_type": "raw",
   "metadata": {},
   "source": [
    "Por padrão, o read_html já entende como cabeçalho as tags <th> ou <td> localizados em um <thead>.\n",
    "Se quisermos especificar uma linha como cabeçalho podemos usar o parâmetro header com o índice da linha. Por exemplo, se no exemplo anterior usarmos header=1, a linha do município Guarapari será considerada o header da tabela."
   ]
  },
  {
   "cell_type": "code",
   "execution_count": 5,
   "metadata": {},
   "outputs": [
    {
     "name": "stdout",
     "output_type": "stream",
     "text": [
      "[  Guarapari  124.859\n",
      "0  Colatina  122.499\n",
      "1   Aracruz  101.220\n",
      "2     Viana   78.239]\n"
     ]
    }
   ],
   "source": [
    "import pandas as pd\n",
    "\n",
    "cidade = 'Viana'\n",
    "lista = pd.read_html('exemplo2.html', match=cidade, header=1)\n",
    "print(lista)"
   ]
  },
  {
   "cell_type": "raw",
   "metadata": {},
   "source": [
    "Podemos definir também o índice da coluna com index_col=número_da_coluna.\n",
    "Para especificar a coluna que contém os nomes dos municípios como índice podemos fazer conforme próximo exemplo."
   ]
  },
  {
   "cell_type": "code",
   "execution_count": 6,
   "metadata": {},
   "outputs": [
    {
     "name": "stdout",
     "output_type": "stream",
     "text": [
      "[           População\n",
      "Município           \n",
      "Guarapari    124.859\n",
      "Colatina     122.499\n",
      "Aracruz      101.220\n",
      "Viana         78.239]\n"
     ]
    }
   ],
   "source": [
    "import pandas as pd\n",
    "\n",
    "cidade = 'Viana'\n",
    "lista = pd.read_html('exemplo2.html', match=cidade, index_col=0)\n",
    "print(lista)"
   ]
  },
  {
   "cell_type": "raw",
   "metadata": {},
   "source": [
    "Podemos ignorar algumas linhas utilizando skiprows=número_de_linhas."
   ]
  },
  {
   "cell_type": "code",
   "execution_count": 7,
   "metadata": {},
   "outputs": [
    {
     "name": "stdout",
     "output_type": "stream",
     "text": [
      "[  Colatina  122.499\n",
      "0  Aracruz  101.220\n",
      "1    Viana   78.239]\n"
     ]
    }
   ],
   "source": [
    "import pandas as pd\n",
    "\n",
    "cidade = 'Viana'\n",
    "lista = pd.read_html('exemplo2.html', match=cidade, skiprows=2)\n",
    "print(lista)"
   ]
  },
  {
   "cell_type": "raw",
   "metadata": {},
   "source": [
    "Vamos criar agora o exemplo3.html à partir do exemplo2.html com as seguintes alterações:\n",
    "Adicionar um id na tabela 1.\n",
    "Adicionar um estilo na tabela 2.\n",
    "Remover os dados da população do município de Guarapari."
   ]
  },
  {
   "cell_type": "raw",
   "metadata": {},
   "source": [
    "<html>\n",
    "    <head>\n",
    "        <meta charset=\"UTF-8\">\n",
    "        <title>Tabela de preços</title>\n",
    "    </head>\n",
    "<body>\n",
    "    Tabela 1:\n",
    "    <table id=\"tabela1\">\n",
    "        <tr>\n",
    "            <th>Município</th>\n",
    "            <th>População</th>\n",
    "        </tr>\n",
    "        <tr>\n",
    "            <td>Serra</td>\n",
    "            <td>507.598</td>\n",
    "        </tr>\n",
    "        <tr>\n",
    "            <td>Vila Velha</td>\n",
    "            <td>486.208</td>\n",
    "        </tr>\n",
    "        <tr>\n",
    "            <td>Cariacica</td>\n",
    "            <td>387.368</td>\n",
    "        </tr>\n",
    "        <tr>\n",
    "            <td>Vitória</td>\n",
    "            <td>358.267</td>\n",
    "        </tr>\n",
    "        <tr>\n",
    "            <td>Cachoeiro de Itapemirim</td>\n",
    "            <td>220.670</td>\n",
    "        </tr>\n",
    "        <tr>\n",
    "            <td>Linhares</td>\n",
    "            <td>173.555</td>\n",
    "        </tr>\n",
    "        <tr>\n",
    "            <td>São Mateus</td>\n",
    "            <td>130.611</td>\n",
    "        </tr>\n",
    "    </table><br>\n",
    "    Tabela 2:\n",
    "    <table style=\"width:100%\">\n",
    "        <tr>\n",
    "            <th>Município</th>\n",
    "            <th>População</th>\n",
    "        </tr>\n",
    "        <tr>\n",
    "            <td>Guarapari</td>\n",
    "            <td></td>\n",
    "        </tr>\n",
    "        <tr>\n",
    "            <td>Colatina</td>\n",
    "            <td>122.499</td>\n",
    "        </tr>\n",
    "        <tr>\n",
    "            <td>Aracruz</td>\n",
    "            <td>101.220</td>\n",
    "        </tr>\n",
    "        <tr>\n",
    "            <td>Viana</td>\n",
    "            <td>78.239</td>\n",
    "        </tr>\n",
    "    </table>\n",
    "</body>\n",
    "</html>"
   ]
  },
  {
   "cell_type": "raw",
   "metadata": {},
   "source": [
    "Como no arquivo exemplo3.html os dados da população de Guarapari não existem, será exibido “Dados ausentes” (NaN) para este município.\n",
    "Para que não seja exibido “NaN” podemos usar o parâmetro keep_default_na igual a False."
   ]
  },
  {
   "cell_type": "code",
   "execution_count": 8,
   "metadata": {},
   "outputs": [
    {
     "name": "stdout",
     "output_type": "stream",
     "text": [
      "[   Município  População\n",
      "0  Guarapari        NaN\n",
      "1   Colatina    122.499\n",
      "2    Aracruz    101.220\n",
      "3      Viana     78.239]\n",
      "[   Município População\n",
      "0  Guarapari          \n",
      "1   Colatina   122.499\n",
      "2    Aracruz   101.220\n",
      "3      Viana    78.239]\n"
     ]
    }
   ],
   "source": [
    "import pandas as pd\n",
    "\n",
    "cidade = 'Viana'\n",
    "lista1 = pd.read_html('exemplo3.html', match='Viana')\n",
    "lista2 = pd.read_html('exemplo3.html', match='Viana', keep_default_na=False)\n",
    "print(lista1)\n",
    "print(lista2)"
   ]
  },
  {
   "cell_type": "code",
   "execution_count": null,
   "metadata": {},
   "outputs": [],
   "source": []
  }
 ],
 "metadata": {
  "kernelspec": {
   "display_name": "Python 3",
   "language": "python",
   "name": "python3"
  },
  "language_info": {
   "codemirror_mode": {
    "name": "ipython",
    "version": 3
   },
   "file_extension": ".py",
   "mimetype": "text/x-python",
   "name": "python",
   "nbconvert_exporter": "python",
   "pygments_lexer": "ipython3",
   "version": "3.7.4"
  }
 },
 "nbformat": 4,
 "nbformat_minor": 2
}
