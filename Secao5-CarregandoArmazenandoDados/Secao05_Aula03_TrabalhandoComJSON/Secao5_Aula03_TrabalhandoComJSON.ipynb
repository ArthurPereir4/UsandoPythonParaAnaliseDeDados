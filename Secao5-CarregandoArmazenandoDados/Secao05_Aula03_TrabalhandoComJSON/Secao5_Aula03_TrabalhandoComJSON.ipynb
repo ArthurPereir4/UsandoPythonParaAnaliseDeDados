{
 "cells": [
  {
   "cell_type": "markdown",
   "metadata": {},
   "source": [
    "# CURSO USANDO PYTHON PARA ANÁLISE DE DADOS"
   ]
  },
  {
   "cell_type": "markdown",
   "metadata": {},
   "source": [
    "https://www.udemy.com/usando-python-para-analise-de-dados"
   ]
  },
  {
   "cell_type": "raw",
   "metadata": {},
   "source": [
    "Evaldo Wolkers"
   ]
  },
  {
   "cell_type": "markdown",
   "metadata": {},
   "source": [
    "## Carregando e armazenando dados em vários formatos de arquivos"
   ]
  },
  {
   "cell_type": "markdown",
   "metadata": {},
   "source": [
    "### Trabalhando com JSON"
   ]
  },
  {
   "cell_type": "raw",
   "metadata": {},
   "source": [
    "Para trabalhar com JSON temos uma biblioteca padrão chamada json. Vamos iniciar importando pandas, numpy e json."
   ]
  },
  {
   "cell_type": "code",
   "execution_count": 40,
   "metadata": {},
   "outputs": [],
   "source": [
    "import pandas as pd\n",
    "import numpy as np\n",
    "import json"
   ]
  },
  {
   "cell_type": "raw",
   "metadata": {},
   "source": [
    "Vamos agora criar uma string contendo um conteúdo em formato json."
   ]
  },
  {
   "cell_type": "code",
   "execution_count": 2,
   "metadata": {},
   "outputs": [],
   "source": [
    "string_json = \"\"\"\n",
    "\n",
    "{\n",
    "    \"marca\":\"Renault\",\n",
    "    \"veiculos\": \n",
    "    [\n",
    "        {\"modelo\": \"Sandero\", \"lancamento\": \"2007\"},\n",
    "        {\"modelo\": \"Kwid\", \"lancamento\": \"2017\"},\n",
    "        {\"modelo\": \"Duster\", \"lancamento\": \"2011\"},\n",
    "        {\"modelo\": \"Captur\", \"lancamento\": \"2017\"},\n",
    "        {\"modelo\": \"Logan\", \"lancamento\": \"2007\"}\n",
    "    ]\n",
    "}\n",
    "\"\"\""
   ]
  },
  {
   "cell_type": "raw",
   "metadata": {},
   "source": [
    "Nós podemos criar um objeto Python (dicionário) através do método loads da biblioteca json informando a string JSON."
   ]
  },
  {
   "cell_type": "code",
   "execution_count": 3,
   "metadata": {},
   "outputs": [
    {
     "data": {
      "text/plain": [
       "{'marca': 'Renault',\n",
       " 'veiculos': [{'modelo': 'Sandero', 'lancamento': '2007'},\n",
       "  {'modelo': 'Kwid', 'lancamento': '2017'},\n",
       "  {'modelo': 'Duster', 'lancamento': '2011'},\n",
       "  {'modelo': 'Captur', 'lancamento': '2017'},\n",
       "  {'modelo': 'Logan', 'lancamento': '2007'}]}"
      ]
     },
     "execution_count": 3,
     "metadata": {},
     "output_type": "execute_result"
    }
   ],
   "source": [
    "obj_python = json.loads(string_json)\n",
    "obj_python"
   ]
  },
  {
   "cell_type": "code",
   "execution_count": 4,
   "metadata": {},
   "outputs": [
    {
     "data": {
      "text/plain": [
       "dict"
      ]
     },
     "execution_count": 4,
     "metadata": {},
     "output_type": "execute_result"
    }
   ],
   "source": [
    "type(obj_python)"
   ]
  },
  {
   "cell_type": "raw",
   "metadata": {},
   "source": [
    "Podemos também converter um dicionário Python em JSON usando o método dumps da biblioteca json."
   ]
  },
  {
   "cell_type": "code",
   "execution_count": 5,
   "metadata": {},
   "outputs": [
    {
     "data": {
      "text/plain": [
       "'{\"marca\": \"Renault\", \"veiculos\": [{\"modelo\": \"Sandero\", \"lancamento\": \"2007\"}, {\"modelo\": \"Kwid\", \"lancamento\": \"2017\"}, {\"modelo\": \"Duster\", \"lancamento\": \"2011\"}, {\"modelo\": \"Captur\", \"lancamento\": \"2017\"}, {\"modelo\": \"Logan\", \"lancamento\": \"2007\"}]}'"
      ]
     },
     "execution_count": 5,
     "metadata": {},
     "output_type": "execute_result"
    }
   ],
   "source": [
    "meu_json = json.dumps(obj_python)\n",
    "meu_json"
   ]
  },
  {
   "cell_type": "code",
   "execution_count": 6,
   "metadata": {},
   "outputs": [
    {
     "data": {
      "text/plain": [
       "str"
      ]
     },
     "execution_count": 6,
     "metadata": {},
     "output_type": "execute_result"
    }
   ],
   "source": [
    "type(meu_json)"
   ]
  },
  {
   "cell_type": "raw",
   "metadata": {},
   "source": [
    "Após ter carregado o JSON para um dicionário, podemos criar um DataFrame à partir deste dicionário."
   ]
  },
  {
   "cell_type": "code",
   "execution_count": 7,
   "metadata": {},
   "outputs": [
    {
     "data": {
      "text/html": [
       "<div>\n",
       "<style scoped>\n",
       "    .dataframe tbody tr th:only-of-type {\n",
       "        vertical-align: middle;\n",
       "    }\n",
       "\n",
       "    .dataframe tbody tr th {\n",
       "        vertical-align: top;\n",
       "    }\n",
       "\n",
       "    .dataframe thead th {\n",
       "        text-align: right;\n",
       "    }\n",
       "</style>\n",
       "<table border=\"1\" class=\"dataframe\">\n",
       "  <thead>\n",
       "    <tr style=\"text-align: right;\">\n",
       "      <th></th>\n",
       "      <th>modelo</th>\n",
       "      <th>lancamento</th>\n",
       "    </tr>\n",
       "  </thead>\n",
       "  <tbody>\n",
       "    <tr>\n",
       "      <td>0</td>\n",
       "      <td>Sandero</td>\n",
       "      <td>2007</td>\n",
       "    </tr>\n",
       "    <tr>\n",
       "      <td>1</td>\n",
       "      <td>Kwid</td>\n",
       "      <td>2017</td>\n",
       "    </tr>\n",
       "    <tr>\n",
       "      <td>2</td>\n",
       "      <td>Duster</td>\n",
       "      <td>2011</td>\n",
       "    </tr>\n",
       "    <tr>\n",
       "      <td>3</td>\n",
       "      <td>Captur</td>\n",
       "      <td>2017</td>\n",
       "    </tr>\n",
       "    <tr>\n",
       "      <td>4</td>\n",
       "      <td>Logan</td>\n",
       "      <td>2007</td>\n",
       "    </tr>\n",
       "  </tbody>\n",
       "</table>\n",
       "</div>"
      ],
      "text/plain": [
       "    modelo lancamento\n",
       "0  Sandero       2007\n",
       "1     Kwid       2017\n",
       "2   Duster       2011\n",
       "3   Captur       2017\n",
       "4    Logan       2007"
      ]
     },
     "execution_count": 7,
     "metadata": {},
     "output_type": "execute_result"
    }
   ],
   "source": [
    "modelos = pd.DataFrame(obj_python['veiculos'])\n",
    "modelos"
   ]
  },
  {
   "cell_type": "code",
   "execution_count": 8,
   "metadata": {},
   "outputs": [
    {
     "data": {
      "text/html": [
       "<div>\n",
       "<style scoped>\n",
       "    .dataframe tbody tr th:only-of-type {\n",
       "        vertical-align: middle;\n",
       "    }\n",
       "\n",
       "    .dataframe tbody tr th {\n",
       "        vertical-align: top;\n",
       "    }\n",
       "\n",
       "    .dataframe thead th {\n",
       "        text-align: right;\n",
       "    }\n",
       "</style>\n",
       "<table border=\"1\" class=\"dataframe\">\n",
       "  <thead>\n",
       "    <tr style=\"text-align: right;\">\n",
       "      <th></th>\n",
       "      <th>lancamento</th>\n",
       "    </tr>\n",
       "  </thead>\n",
       "  <tbody>\n",
       "    <tr>\n",
       "      <td>0</td>\n",
       "      <td>2007</td>\n",
       "    </tr>\n",
       "    <tr>\n",
       "      <td>1</td>\n",
       "      <td>2017</td>\n",
       "    </tr>\n",
       "    <tr>\n",
       "      <td>2</td>\n",
       "      <td>2011</td>\n",
       "    </tr>\n",
       "    <tr>\n",
       "      <td>3</td>\n",
       "      <td>2017</td>\n",
       "    </tr>\n",
       "    <tr>\n",
       "      <td>4</td>\n",
       "      <td>2007</td>\n",
       "    </tr>\n",
       "  </tbody>\n",
       "</table>\n",
       "</div>"
      ],
      "text/plain": [
       "  lancamento\n",
       "0       2007\n",
       "1       2017\n",
       "2       2011\n",
       "3       2017\n",
       "4       2007"
      ]
     },
     "execution_count": 8,
     "metadata": {},
     "output_type": "execute_result"
    }
   ],
   "source": [
    "ano_lancamento = pd.DataFrame(obj_python['veiculos'], columns=['lancamento'])\n",
    "ano_lancamento"
   ]
  },
  {
   "cell_type": "raw",
   "metadata": {},
   "source": [
    "Podemos carregar um arquivo JSON diretamente para um DataFrame ou Series usando o método read_json."
   ]
  },
  {
   "cell_type": "code",
   "execution_count": 9,
   "metadata": {},
   "outputs": [
    {
     "data": {
      "text/html": [
       "<div>\n",
       "<style scoped>\n",
       "    .dataframe tbody tr th:only-of-type {\n",
       "        vertical-align: middle;\n",
       "    }\n",
       "\n",
       "    .dataframe tbody tr th {\n",
       "        vertical-align: top;\n",
       "    }\n",
       "\n",
       "    .dataframe thead th {\n",
       "        text-align: right;\n",
       "    }\n",
       "</style>\n",
       "<table border=\"1\" class=\"dataframe\">\n",
       "  <thead>\n",
       "    <tr style=\"text-align: right;\">\n",
       "      <th></th>\n",
       "      <th>marca</th>\n",
       "      <th>veiculos</th>\n",
       "    </tr>\n",
       "  </thead>\n",
       "  <tbody>\n",
       "    <tr>\n",
       "      <td>0</td>\n",
       "      <td>Renault</td>\n",
       "      <td>{'modelo': 'Sandero', 'lancamento': '2007'}</td>\n",
       "    </tr>\n",
       "    <tr>\n",
       "      <td>1</td>\n",
       "      <td>Renault</td>\n",
       "      <td>{'modelo': 'Kwid', 'lancamento': '2017'}</td>\n",
       "    </tr>\n",
       "    <tr>\n",
       "      <td>2</td>\n",
       "      <td>Renault</td>\n",
       "      <td>{'modelo': 'Duster', 'lancamento': '2011'}</td>\n",
       "    </tr>\n",
       "    <tr>\n",
       "      <td>3</td>\n",
       "      <td>Renault</td>\n",
       "      <td>{'modelo': 'Captur', 'lancamento': '2017'}</td>\n",
       "    </tr>\n",
       "    <tr>\n",
       "      <td>4</td>\n",
       "      <td>Renault</td>\n",
       "      <td>{'modelo': 'Logan', 'lancamento': '2007'}</td>\n",
       "    </tr>\n",
       "  </tbody>\n",
       "</table>\n",
       "</div>"
      ],
      "text/plain": [
       "     marca                                     veiculos\n",
       "0  Renault  {'modelo': 'Sandero', 'lancamento': '2007'}\n",
       "1  Renault     {'modelo': 'Kwid', 'lancamento': '2017'}\n",
       "2  Renault   {'modelo': 'Duster', 'lancamento': '2011'}\n",
       "3  Renault   {'modelo': 'Captur', 'lancamento': '2017'}\n",
       "4  Renault    {'modelo': 'Logan', 'lancamento': '2007'}"
      ]
     },
     "execution_count": 9,
     "metadata": {},
     "output_type": "execute_result"
    }
   ],
   "source": [
    "dados = pd.read_json('exemplo.json')\n",
    "dados"
   ]
  },
  {
   "cell_type": "raw",
   "metadata": {},
   "source": [
    "Se não for informado o tipo, por padrão o objeto será um DataFrame."
   ]
  },
  {
   "cell_type": "code",
   "execution_count": 10,
   "metadata": {},
   "outputs": [
    {
     "data": {
      "text/plain": [
       "pandas.core.frame.DataFrame"
      ]
     },
     "execution_count": 10,
     "metadata": {},
     "output_type": "execute_result"
    }
   ],
   "source": [
    "type(dados)"
   ]
  },
  {
   "cell_type": "raw",
   "metadata": {},
   "source": [
    "Se quisermos carregar para um objeto Series, teremos que especificar."
   ]
  },
  {
   "cell_type": "code",
   "execution_count": 11,
   "metadata": {},
   "outputs": [
    {
     "data": {
      "text/plain": [
       "marca                                                 Renault\n",
       "veiculos    [{'modelo': 'Sandero', 'lancamento': '2007'}, ...\n",
       "dtype: object"
      ]
     },
     "execution_count": 11,
     "metadata": {},
     "output_type": "execute_result"
    }
   ],
   "source": [
    "dados = pd.read_json('exemplo.json', typ='series')\n",
    "dados"
   ]
  },
  {
   "cell_type": "code",
   "execution_count": 12,
   "metadata": {},
   "outputs": [
    {
     "data": {
      "text/plain": [
       "pandas.core.series.Series"
      ]
     },
     "execution_count": 12,
     "metadata": {},
     "output_type": "execute_result"
    }
   ],
   "source": [
    "type(dados)"
   ]
  },
  {
   "cell_type": "raw",
   "metadata": {},
   "source": [
    "Se cada linha do arquivo for um JSON diferente, temos que informar o parâmetro lines como verdadeiro.\n",
    "\n",
    "Veja o conteúdo do arquivo exemplo2.json:\n",
    "{\"modelo\": \"Sandero\", \"lancamento\": \"2007\"}\n",
    "{\"modelo\": \"Kwid\", \"lancamento\": \"2017\"}\n",
    "{\"modelo\": \"Duster\", \"lancamento\": \"2011\"}\n",
    "{\"modelo\": \"Captur\", \"lancamento\": \"2017\"}\n",
    "{\"modelo\": \"Logan\", \"lancamento\": \"2007\"}"
   ]
  },
  {
   "cell_type": "code",
   "execution_count": 13,
   "metadata": {},
   "outputs": [],
   "source": [
    "dados = pd.read_json('exemplo2.json', lines=True)"
   ]
  },
  {
   "cell_type": "code",
   "execution_count": 14,
   "metadata": {},
   "outputs": [
    {
     "data": {
      "text/html": [
       "<div>\n",
       "<style scoped>\n",
       "    .dataframe tbody tr th:only-of-type {\n",
       "        vertical-align: middle;\n",
       "    }\n",
       "\n",
       "    .dataframe tbody tr th {\n",
       "        vertical-align: top;\n",
       "    }\n",
       "\n",
       "    .dataframe thead th {\n",
       "        text-align: right;\n",
       "    }\n",
       "</style>\n",
       "<table border=\"1\" class=\"dataframe\">\n",
       "  <thead>\n",
       "    <tr style=\"text-align: right;\">\n",
       "      <th></th>\n",
       "      <th>modelo</th>\n",
       "      <th>lancamento</th>\n",
       "    </tr>\n",
       "  </thead>\n",
       "  <tbody>\n",
       "    <tr>\n",
       "      <td>0</td>\n",
       "      <td>Sandero</td>\n",
       "      <td>2007</td>\n",
       "    </tr>\n",
       "    <tr>\n",
       "      <td>1</td>\n",
       "      <td>Kwid</td>\n",
       "      <td>2017</td>\n",
       "    </tr>\n",
       "    <tr>\n",
       "      <td>2</td>\n",
       "      <td>Duster</td>\n",
       "      <td>2011</td>\n",
       "    </tr>\n",
       "    <tr>\n",
       "      <td>3</td>\n",
       "      <td>Captur</td>\n",
       "      <td>2017</td>\n",
       "    </tr>\n",
       "    <tr>\n",
       "      <td>4</td>\n",
       "      <td>Logan</td>\n",
       "      <td>2007</td>\n",
       "    </tr>\n",
       "  </tbody>\n",
       "</table>\n",
       "</div>"
      ],
      "text/plain": [
       "    modelo  lancamento\n",
       "0  Sandero        2007\n",
       "1     Kwid        2017\n",
       "2   Duster        2011\n",
       "3   Captur        2017\n",
       "4    Logan        2007"
      ]
     },
     "execution_count": 14,
     "metadata": {},
     "output_type": "execute_result"
    }
   ],
   "source": [
    "dados"
   ]
  },
  {
   "cell_type": "raw",
   "metadata": {},
   "source": [
    "Para exportar os dados de um objeto Series ou DataFrame, podemos usar o método to_json() destes objetos.\n",
    "Primeiro vamos criar um dicionário com a população dos estados brasileiros."
   ]
  },
  {
   "cell_type": "code",
   "execution_count": 26,
   "metadata": {},
   "outputs": [],
   "source": [
    "populacao_estados = {'Sao Paulo':45538936,\n",
    "'Minas Gerais':21040662,\n",
    "'Rio de Janeiro':17159960,\n",
    "'Bahia':14812617,\n",
    "'Parana':11348937,\n",
    "'Rio Grande do Sul':11329605,\n",
    "'Pernambuco':9496294,\n",
    "'Ceara':9075649,\n",
    "'Para':8513497,\n",
    "'Santa Catarina':7075494,\n",
    "'Maranhao':7035055,\n",
    "'Goias':6921161,\n",
    "'Amazonas':4080611,\n",
    "'Paraiba':3996496,\n",
    "'Espirito Santo':3972388,\n",
    "'Rio Grande do Norte':3479010,\n",
    "'Mato Grosso':3441998,\n",
    "'Alagoas':3322820,\n",
    "'Piaui':3264531,\n",
    "'Distrito Federal':2974703,\n",
    "'Mato Grosso do Sul':2748023,\n",
    "'Sergipe':2278308,\n",
    "'Rondonia':1757589,\n",
    "'Tocantins':1555229,\n",
    "'Acre':869265,\n",
    "'Amapa':829494,\n",
    "'Roraima':576568}"
   ]
  },
  {
   "cell_type": "raw",
   "metadata": {},
   "source": [
    "Agora vamos criar uma série com este dicionário."
   ]
  },
  {
   "cell_type": "code",
   "execution_count": 28,
   "metadata": {},
   "outputs": [
    {
     "data": {
      "text/plain": [
       "Sao Paulo              45538936\n",
       "Minas Gerais           21040662\n",
       "Rio de Janeiro         17159960\n",
       "Bahia                  14812617\n",
       "Parana                 11348937\n",
       "Rio Grande do Sul      11329605\n",
       "Pernambuco              9496294\n",
       "Ceara                   9075649\n",
       "Para                    8513497\n",
       "Santa Catarina          7075494\n",
       "Maranhao                7035055\n",
       "Goias                   6921161\n",
       "Amazonas                4080611\n",
       "Paraiba                 3996496\n",
       "Espirito Santo          3972388\n",
       "Rio Grande do Norte     3479010\n",
       "Mato Grosso             3441998\n",
       "Alagoas                 3322820\n",
       "Piaui                   3264531\n",
       "Distrito Federal        2974703\n",
       "Mato Grosso do Sul      2748023\n",
       "Sergipe                 2278308\n",
       "Rondonia                1757589\n",
       "Tocantins               1555229\n",
       "Acre                     869265\n",
       "Amapa                    829494\n",
       "Roraima                  576568\n",
       "dtype: int64"
      ]
     },
     "execution_count": 28,
     "metadata": {},
     "output_type": "execute_result"
    }
   ],
   "source": [
    "populacao = pd.Series(populacao_estados)\n",
    "populacao"
   ]
  },
  {
   "cell_type": "raw",
   "metadata": {},
   "source": [
    "Agora vamos exportar a série para JSON."
   ]
  },
  {
   "cell_type": "code",
   "execution_count": 29,
   "metadata": {},
   "outputs": [],
   "source": [
    "meu_json = populacao.to_json()"
   ]
  },
  {
   "cell_type": "code",
   "execution_count": 30,
   "metadata": {},
   "outputs": [
    {
     "data": {
      "text/plain": [
       "'{\"Sao Paulo\":45538936,\"Minas Gerais\":21040662,\"Rio de Janeiro\":17159960,\"Bahia\":14812617,\"Parana\":11348937,\"Rio Grande do Sul\":11329605,\"Pernambuco\":9496294,\"Ceara\":9075649,\"Para\":8513497,\"Santa Catarina\":7075494,\"Maranhao\":7035055,\"Goias\":6921161,\"Amazonas\":4080611,\"Paraiba\":3996496,\"Espirito Santo\":3972388,\"Rio Grande do Norte\":3479010,\"Mato Grosso\":3441998,\"Alagoas\":3322820,\"Piaui\":3264531,\"Distrito Federal\":2974703,\"Mato Grosso do Sul\":2748023,\"Sergipe\":2278308,\"Rondonia\":1757589,\"Tocantins\":1555229,\"Acre\":869265,\"Amapa\":829494,\"Roraima\":576568}'"
      ]
     },
     "execution_count": 30,
     "metadata": {},
     "output_type": "execute_result"
    }
   ],
   "source": [
    "meu_json"
   ]
  },
  {
   "cell_type": "raw",
   "metadata": {},
   "source": [
    "Vamos agora criar um DataFrame com o dicionário e exportar os dados para JSON com o método to_json()."
   ]
  },
  {
   "cell_type": "code",
   "execution_count": 37,
   "metadata": {},
   "outputs": [],
   "source": [
    "populacao_estados = {'estado': ['Minas Gerais', 'Espirito Santo', 'Rio de Janeiro', 'Sao Paulo'], 'populacao_2000': [17891494, 3097232, 14391282, 37032403], 'populacao_2010': [19595309, 3512672, 15993583, 41252160]}"
   ]
  },
  {
   "cell_type": "code",
   "execution_count": 38,
   "metadata": {},
   "outputs": [
    {
     "data": {
      "text/html": [
       "<div>\n",
       "<style scoped>\n",
       "    .dataframe tbody tr th:only-of-type {\n",
       "        vertical-align: middle;\n",
       "    }\n",
       "\n",
       "    .dataframe tbody tr th {\n",
       "        vertical-align: top;\n",
       "    }\n",
       "\n",
       "    .dataframe thead th {\n",
       "        text-align: right;\n",
       "    }\n",
       "</style>\n",
       "<table border=\"1\" class=\"dataframe\">\n",
       "  <thead>\n",
       "    <tr style=\"text-align: right;\">\n",
       "      <th></th>\n",
       "      <th>estado</th>\n",
       "      <th>populacao_2000</th>\n",
       "      <th>populacao_2010</th>\n",
       "    </tr>\n",
       "  </thead>\n",
       "  <tbody>\n",
       "    <tr>\n",
       "      <td>0</td>\n",
       "      <td>Minas Gerais</td>\n",
       "      <td>17891494</td>\n",
       "      <td>19595309</td>\n",
       "    </tr>\n",
       "    <tr>\n",
       "      <td>1</td>\n",
       "      <td>Espirito Santo</td>\n",
       "      <td>3097232</td>\n",
       "      <td>3512672</td>\n",
       "    </tr>\n",
       "    <tr>\n",
       "      <td>2</td>\n",
       "      <td>Rio de Janeiro</td>\n",
       "      <td>14391282</td>\n",
       "      <td>15993583</td>\n",
       "    </tr>\n",
       "    <tr>\n",
       "      <td>3</td>\n",
       "      <td>Sao Paulo</td>\n",
       "      <td>37032403</td>\n",
       "      <td>41252160</td>\n",
       "    </tr>\n",
       "  </tbody>\n",
       "</table>\n",
       "</div>"
      ],
      "text/plain": [
       "           estado  populacao_2000  populacao_2010\n",
       "0    Minas Gerais        17891494        19595309\n",
       "1  Espirito Santo         3097232         3512672\n",
       "2  Rio de Janeiro        14391282        15993583\n",
       "3       Sao Paulo        37032403        41252160"
      ]
     },
     "execution_count": 38,
     "metadata": {},
     "output_type": "execute_result"
    }
   ],
   "source": [
    "populacao = pd.DataFrame(populacao_estados)\n",
    "populacao"
   ]
  },
  {
   "cell_type": "code",
   "execution_count": 39,
   "metadata": {},
   "outputs": [
    {
     "data": {
      "text/plain": [
       "'{\"estado\":{\"0\":\"Minas Gerais\",\"1\":\"Espirito Santo\",\"2\":\"Rio de Janeiro\",\"3\":\"Sao Paulo\"},\"populacao_2000\":{\"0\":17891494,\"1\":3097232,\"2\":14391282,\"3\":37032403},\"populacao_2010\":{\"0\":19595309,\"1\":3512672,\"2\":15993583,\"3\":41252160}}'"
      ]
     },
     "execution_count": 39,
     "metadata": {},
     "output_type": "execute_result"
    }
   ],
   "source": [
    "meu_json = populacao.to_json()\n",
    "meu_json"
   ]
  },
  {
   "cell_type": "code",
   "execution_count": null,
   "metadata": {},
   "outputs": [],
   "source": []
  }
 ],
 "metadata": {
  "kernelspec": {
   "display_name": "Python 3",
   "language": "python",
   "name": "python3"
  },
  "language_info": {
   "codemirror_mode": {
    "name": "ipython",
    "version": 3
   },
   "file_extension": ".py",
   "mimetype": "text/x-python",
   "name": "python",
   "nbconvert_exporter": "python",
   "pygments_lexer": "ipython3",
   "version": "3.7.4"
  }
 },
 "nbformat": 4,
 "nbformat_minor": 2
}
