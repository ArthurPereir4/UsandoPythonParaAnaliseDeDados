{
 "cells": [
  {
   "cell_type": "markdown",
   "metadata": {},
   "source": [
    "# CURSO USANDO PYTHON PARA ANÁLISE DE DADOS"
   ]
  },
  {
   "cell_type": "markdown",
   "metadata": {},
   "source": [
    "https://www.udemy.com/usando-python-para-analise-de-dados"
   ]
  },
  {
   "cell_type": "raw",
   "metadata": {},
   "source": [
    "Evaldo Wolkers"
   ]
  },
  {
   "cell_type": "markdown",
   "metadata": {},
   "source": [
    "## Carregando e armazenando dados em vários formatos de arquivos"
   ]
  },
  {
   "cell_type": "markdown",
   "metadata": {},
   "source": [
    "### Trabalhando com XML"
   ]
  },
  {
   "cell_type": "raw",
   "metadata": {},
   "source": [
    "O XML (Extensible Markup Language, ou Linguagem de Marcação Extensível) é um formato de dados estruturados que aceita dados hierárquicos e aninhados com metadados.\n",
    "É um dos subtipos da SGML (acrônimo de Standard Generalized Markup Language ou Linguagem Padronizada de Marcação Genérica) capaz de descrever diversos tipos de dados. Seu propósito principal é a facilidade de compartilhamento de informações por intermédio da internet, sendo de fácil entendimento para humanos e sistemas."
   ]
  },
  {
   "cell_type": "raw",
   "metadata": {},
   "source": [
    "É semelhante ao HTML, porém, no HTML temos tags pré-definidas, já no XML, as tags são criadas livremente. Veja um exemplo."
   ]
  },
  {
   "cell_type": "markdown",
   "metadata": {},
   "source": [
    "![Picture1.png](Picture1.png)"
   ]
  },
  {
   "cell_type": "raw",
   "metadata": {},
   "source": [
    "“receita\" é o nome principal para o seu documento (é o nó raiz). Note que a semelhança entre XML e HTML é grande, na 1ª linha abrimos a tag receita e na última linha a fechamos, como em HTML, assim se estendendo por todo o exemplo."
   ]
  },
  {
   "cell_type": "markdown",
   "metadata": {},
   "source": [
    "![Picture1.png](Picture1.png)"
   ]
  },
  {
   "cell_type": "raw",
   "metadata": {},
   "source": [
    "Veja conteúdo do arquivo de exemplo aberto em um navegador."
   ]
  },
  {
   "cell_type": "markdown",
   "metadata": {},
   "source": [
    "![Picture2.png](Picture2.png)"
   ]
  },
  {
   "cell_type": "raw",
   "metadata": {},
   "source": [
    "Para trabalhar com XML, vamos utilizar a biblioteca padrão ElementTree.\n",
    "Primeiro vamos importar essa biblioteca juntamente com o Pandas."
   ]
  },
  {
   "cell_type": "code",
   "execution_count": 2,
   "metadata": {},
   "outputs": [],
   "source": [
    "import xml.etree.ElementTree as ET\n",
    "import pandas as pd"
   ]
  },
  {
   "cell_type": "raw",
   "metadata": {},
   "source": [
    "Vamos agora fazer o parse do arquivo receita.xml para uma variável chamada receitas."
   ]
  },
  {
   "cell_type": "code",
   "execution_count": 3,
   "metadata": {},
   "outputs": [],
   "source": [
    "receitas = ET.parse(\"receita.xml\")"
   ]
  },
  {
   "cell_type": "raw",
   "metadata": {},
   "source": [
    "Vamos carregar o nó raiz para dentro da variável root."
   ]
  },
  {
   "cell_type": "code",
   "execution_count": 6,
   "metadata": {},
   "outputs": [],
   "source": [
    "root = receitas.getroot()"
   ]
  },
  {
   "cell_type": "raw",
   "metadata": {},
   "source": [
    "Utilize o root.tag para ver o nome da tag (\"receita\")."
   ]
  },
  {
   "cell_type": "code",
   "execution_count": 7,
   "metadata": {},
   "outputs": [
    {
     "data": {
      "text/plain": [
       "'receita'"
      ]
     },
     "execution_count": 7,
     "metadata": {},
     "output_type": "execute_result"
    }
   ],
   "source": [
    "root.tag"
   ]
  },
  {
   "cell_type": "raw",
   "metadata": {},
   "source": [
    "Utilize o root.attrib para ver os atributos da tag (\"receita\")."
   ]
  },
  {
   "cell_type": "code",
   "execution_count": 8,
   "metadata": {},
   "outputs": [
    {
     "data": {
      "text/plain": [
       "{'nome': 'pão',\n",
       " 'tempo_de_preparo': '5 minutos',\n",
       " 'tempo_de_cozimento': '1 hora'}"
      ]
     },
     "execution_count": 8,
     "metadata": {},
     "output_type": "execute_result"
    }
   ],
   "source": [
    "root.attrib # atributos: {'nome': 'pão', 'tempo_de_preparo': '5 minutos', 'tempo_de_cozimento': '1 hora'}"
   ]
  },
  {
   "cell_type": "raw",
   "metadata": {},
   "source": [
    "Vamos imprimir o nome de cada subelemento de root. #titulo, ingredientes, instrucoes"
   ]
  },
  {
   "cell_type": "code",
   "execution_count": 15,
   "metadata": {},
   "outputs": [
    {
     "name": "stdout",
     "output_type": "stream",
     "text": [
      "titulo\n",
      "ingredientes\n",
      "instrucoes\n"
     ]
    }
   ],
   "source": [
    "for child in root:\n",
    "    print(child.tag)"
   ]
  },
  {
   "cell_type": "raw",
   "metadata": {},
   "source": [
    "Percorrendo todos elementos do arquivo usando compreensão de lista (List Comprehension)."
   ]
  },
  {
   "cell_type": "code",
   "execution_count": 16,
   "metadata": {},
   "outputs": [
    {
     "data": {
      "text/plain": [
       "['receita',\n",
       " 'titulo',\n",
       " 'ingredientes',\n",
       " 'ingrediente',\n",
       " 'ingrediente',\n",
       " 'ingrediente',\n",
       " 'ingrediente',\n",
       " 'instrucoes',\n",
       " 'passo',\n",
       " 'passo',\n",
       " 'passo']"
      ]
     },
     "execution_count": 16,
     "metadata": {},
     "output_type": "execute_result"
    }
   ],
   "source": [
    "[elem.tag for elem in root.iter()]"
   ]
  },
  {
   "cell_type": "code",
   "execution_count": null,
   "metadata": {},
   "outputs": [],
   "source": [
    "Vamos criar uma lista vazia chamada dados."
   ]
  },
  {
   "cell_type": "code",
   "execution_count": 25,
   "metadata": {},
   "outputs": [],
   "source": [
    "dados = []"
   ]
  },
  {
   "cell_type": "raw",
   "metadata": {},
   "source": [
    "Vamos percorrer cada nó \"ingrediente\" usando root.iter('ingrediente') e vamos utilizar sua tag, texto e atributos."
   ]
  },
  {
   "cell_type": "code",
   "execution_count": 29,
   "metadata": {},
   "outputs": [],
   "source": [
    "for ingrediente in root.iter('ingrediente'):\n",
    "    dado = {}\n",
    "    dado[ingrediente.tag] = ingrediente.text\n",
    "    dado['atributos'] = ingrediente.attrib\n",
    "    dados.append(dado)"
   ]
  },
  {
   "cell_type": "raw",
   "metadata": {},
   "source": [
    "Agora vamos carregar os dados para um DataFrame."
   ]
  },
  {
   "cell_type": "code",
   "execution_count": 30,
   "metadata": {},
   "outputs": [],
   "source": [
    "df = pd.DataFrame(dados)"
   ]
  },
  {
   "cell_type": "code",
   "execution_count": 28,
   "metadata": {},
   "outputs": [
    {
     "data": {
      "text/html": [
       "<div>\n",
       "<style scoped>\n",
       "    .dataframe tbody tr th:only-of-type {\n",
       "        vertical-align: middle;\n",
       "    }\n",
       "\n",
       "    .dataframe tbody tr th {\n",
       "        vertical-align: top;\n",
       "    }\n",
       "\n",
       "    .dataframe thead th {\n",
       "        text-align: right;\n",
       "    }\n",
       "</style>\n",
       "<table border=\"1\" class=\"dataframe\">\n",
       "  <thead>\n",
       "    <tr style=\"text-align: right;\">\n",
       "      <th></th>\n",
       "      <th>ingrediente</th>\n",
       "      <th>atributos</th>\n",
       "    </tr>\n",
       "  </thead>\n",
       "  <tbody>\n",
       "    <tr>\n",
       "      <td>0</td>\n",
       "      <td>Farinha de Trigo</td>\n",
       "      <td>{'quantidade': '3', 'unidade': 'xícaras'}</td>\n",
       "    </tr>\n",
       "    <tr>\n",
       "      <td>1</td>\n",
       "      <td>Fermento</td>\n",
       "      <td>{'quantidade': '7', 'unidade': 'gramas'}</td>\n",
       "    </tr>\n",
       "    <tr>\n",
       "      <td>2</td>\n",
       "      <td>Água</td>\n",
       "      <td>{'quantidade': '1.5', 'unidade': 'xícaras', 'e...</td>\n",
       "    </tr>\n",
       "    <tr>\n",
       "      <td>3</td>\n",
       "      <td>Sal</td>\n",
       "      <td>{'quantidade': '1', 'unidade': 'colheres de chá'}</td>\n",
       "    </tr>\n",
       "  </tbody>\n",
       "</table>\n",
       "</div>"
      ],
      "text/plain": [
       "        ingrediente                                          atributos\n",
       "0  Farinha de Trigo          {'quantidade': '3', 'unidade': 'xícaras'}\n",
       "1          Fermento           {'quantidade': '7', 'unidade': 'gramas'}\n",
       "2              Água  {'quantidade': '1.5', 'unidade': 'xícaras', 'e...\n",
       "3               Sal  {'quantidade': '1', 'unidade': 'colheres de chá'}"
      ]
     },
     "execution_count": 28,
     "metadata": {},
     "output_type": "execute_result"
    }
   ],
   "source": [
    "df"
   ]
  },
  {
   "cell_type": "code",
   "execution_count": null,
   "metadata": {},
   "outputs": [],
   "source": []
  }
 ],
 "metadata": {
  "kernelspec": {
   "display_name": "Python 3",
   "language": "python",
   "name": "python3"
  },
  "language_info": {
   "codemirror_mode": {
    "name": "ipython",
    "version": 3
   },
   "file_extension": ".py",
   "mimetype": "text/x-python",
   "name": "python",
   "nbconvert_exporter": "python",
   "pygments_lexer": "ipython3",
   "version": "3.7.4"
  }
 },
 "nbformat": 4,
 "nbformat_minor": 2
}
